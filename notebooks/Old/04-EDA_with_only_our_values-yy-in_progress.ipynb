{
 "cells": [
  {
   "cell_type": "markdown",
   "metadata": {},
   "source": [
    "# EDA WITH DATA OF INTEREST"
   ]
  },
  {
   "cell_type": "markdown",
   "metadata": {},
   "source": [
    "In this script we perform an exploratory data analysis before starting to apply time series methods."
   ]
  },
  {
   "cell_type": "code",
   "execution_count": 89,
   "metadata": {},
   "outputs": [],
   "source": [
    "# Importing packages:\n",
    "\n",
    "import pandas as pd\n",
    "import matplotlib.pyplot as plt\n",
    "import numpy as np\n",
    "\n",
    "%matplotlib inline"
   ]
  },
  {
   "cell_type": "code",
   "execution_count": 90,
   "metadata": {},
   "outputs": [],
   "source": [
    "file_path = \"../../data/02_intermediate/\"\n",
    "file_name = \"b2-transactions.csv\"\n",
    "\n",
    "filtered_file_name='filtered_transactions_not_clean.csv' # \"c1-filtered_transactions.csv\"\n",
    "\n",
    "sep=\";\""
   ]
  },
  {
   "cell_type": "code",
   "execution_count": 91,
   "metadata": {},
   "outputs": [],
   "source": [
    "dict_of_products={'croissant': 100,\n",
    "                  'croissant petit': 103,\n",
    "                  'tarta mousse 3 chocolates': 10002,\n",
    "                  'tarta de manzana 2º': 462,\n",
    "                  'palmeras de trufa': 182,\n",
    "                  'tarta opera': 414,\n",
    "                  'postre fresas y mascarpone': 4511,\n",
    "                  'milhojas frambuesa 2º': 459,\n",
    "                  'torteles': 112,\n",
    "                  'baguette': 115}"
   ]
  },
  {
   "cell_type": "code",
   "execution_count": 92,
   "metadata": {},
   "outputs": [],
   "source": [
    "filtered_df=pd.read_csv(file_path+filtered_file_name, sep=sep)"
   ]
  },
  {
   "cell_type": "code",
   "execution_count": 93,
   "metadata": {},
   "outputs": [
    {
     "data": {
      "text/html": [
       "<div>\n",
       "<style scoped>\n",
       "    .dataframe tbody tr th:only-of-type {\n",
       "        vertical-align: middle;\n",
       "    }\n",
       "\n",
       "    .dataframe tbody tr th {\n",
       "        vertical-align: top;\n",
       "    }\n",
       "\n",
       "    .dataframe thead th {\n",
       "        text-align: right;\n",
       "    }\n",
       "</style>\n",
       "<table border=\"1\" class=\"dataframe\">\n",
       "  <thead>\n",
       "    <tr style=\"text-align: right;\">\n",
       "      <th></th>\n",
       "      <th>product_id</th>\n",
       "      <th>section</th>\n",
       "      <th>units_ordered</th>\n",
       "    </tr>\n",
       "  </thead>\n",
       "  <tbody>\n",
       "    <tr>\n",
       "      <th>count</th>\n",
       "      <td>3293.000000</td>\n",
       "      <td>3293.0</td>\n",
       "      <td>3293.000000</td>\n",
       "    </tr>\n",
       "    <tr>\n",
       "      <th>mean</th>\n",
       "      <td>929.879745</td>\n",
       "      <td>0.0</td>\n",
       "      <td>5.243851</td>\n",
       "    </tr>\n",
       "    <tr>\n",
       "      <th>std</th>\n",
       "      <td>1925.672432</td>\n",
       "      <td>0.0</td>\n",
       "      <td>8.918273</td>\n",
       "    </tr>\n",
       "    <tr>\n",
       "      <th>min</th>\n",
       "      <td>100.000000</td>\n",
       "      <td>0.0</td>\n",
       "      <td>0.000000</td>\n",
       "    </tr>\n",
       "    <tr>\n",
       "      <th>25%</th>\n",
       "      <td>103.000000</td>\n",
       "      <td>0.0</td>\n",
       "      <td>0.000000</td>\n",
       "    </tr>\n",
       "    <tr>\n",
       "      <th>50%</th>\n",
       "      <td>182.000000</td>\n",
       "      <td>0.0</td>\n",
       "      <td>2.000000</td>\n",
       "    </tr>\n",
       "    <tr>\n",
       "      <th>75%</th>\n",
       "      <td>462.000000</td>\n",
       "      <td>0.0</td>\n",
       "      <td>6.000000</td>\n",
       "    </tr>\n",
       "    <tr>\n",
       "      <th>max</th>\n",
       "      <td>9999.000000</td>\n",
       "      <td>0.0</td>\n",
       "      <td>80.000000</td>\n",
       "    </tr>\n",
       "  </tbody>\n",
       "</table>\n",
       "</div>"
      ],
      "text/plain": [
       "        product_id  section  units_ordered\n",
       "count  3293.000000   3293.0    3293.000000\n",
       "mean    929.879745      0.0       5.243851\n",
       "std    1925.672432      0.0       8.918273\n",
       "min     100.000000      0.0       0.000000\n",
       "25%     103.000000      0.0       0.000000\n",
       "50%     182.000000      0.0       2.000000\n",
       "75%     462.000000      0.0       6.000000\n",
       "max    9999.000000      0.0      80.000000"
      ]
     },
     "execution_count": 93,
     "metadata": {},
     "output_type": "execute_result"
    }
   ],
   "source": [
    "filtered_df.describe()"
   ]
  },
  {
   "cell_type": "code",
   "execution_count": 94,
   "metadata": {},
   "outputs": [
    {
     "data": {
      "text/plain": [
       "(3293, 8)"
      ]
     },
     "execution_count": 94,
     "metadata": {},
     "output_type": "execute_result"
    }
   ],
   "source": [
    "filtered_df.shape"
   ]
  },
  {
   "cell_type": "code",
   "execution_count": 95,
   "metadata": {
    "scrolled": false
   },
   "outputs": [
    {
     "data": {
      "text/html": [
       "<div>\n",
       "<style scoped>\n",
       "    .dataframe tbody tr th:only-of-type {\n",
       "        vertical-align: middle;\n",
       "    }\n",
       "\n",
       "    .dataframe tbody tr th {\n",
       "        vertical-align: top;\n",
       "    }\n",
       "\n",
       "    .dataframe thead th {\n",
       "        text-align: right;\n",
       "    }\n",
       "</style>\n",
       "<table border=\"1\" class=\"dataframe\">\n",
       "  <thead>\n",
       "    <tr style=\"text-align: right;\">\n",
       "      <th></th>\n",
       "      <th>product_id</th>\n",
       "      <th>description</th>\n",
       "      <th>section</th>\n",
       "      <th>store</th>\n",
       "      <th>desc_normalized</th>\n",
       "      <th>target_names_prod_by_prod</th>\n",
       "      <th>date</th>\n",
       "      <th>units_ordered</th>\n",
       "    </tr>\n",
       "  </thead>\n",
       "  <tbody>\n",
       "    <tr>\n",
       "      <th>0</th>\n",
       "      <td>462.0</td>\n",
       "      <td>MANZANA 2º</td>\n",
       "      <td>0</td>\n",
       "      <td>BmUP</td>\n",
       "      <td>manzana 2</td>\n",
       "      <td>tarta de manzana</td>\n",
       "      <td>2013-10-01</td>\n",
       "      <td>1</td>\n",
       "    </tr>\n",
       "    <tr>\n",
       "      <th>1</th>\n",
       "      <td>459.0</td>\n",
       "      <td>MILHOJAS   FRAMBUESA 2º</td>\n",
       "      <td>0</td>\n",
       "      <td>BmUP</td>\n",
       "      <td>milhojas frambuesa 2</td>\n",
       "      <td>milhojas frambuesa</td>\n",
       "      <td>2013-10-01</td>\n",
       "      <td>1</td>\n",
       "    </tr>\n",
       "    <tr>\n",
       "      <th>2</th>\n",
       "      <td>112.0</td>\n",
       "      <td>TORTELES</td>\n",
       "      <td>0</td>\n",
       "      <td>BmUP</td>\n",
       "      <td>torteles</td>\n",
       "      <td>tortel</td>\n",
       "      <td>2013-10-01</td>\n",
       "      <td>15</td>\n",
       "    </tr>\n",
       "    <tr>\n",
       "      <th>3</th>\n",
       "      <td>115.0</td>\n",
       "      <td>BAGUETTE MALLORCA</td>\n",
       "      <td>0</td>\n",
       "      <td>BmUP</td>\n",
       "      <td>baguette mallorca</td>\n",
       "      <td>baguette</td>\n",
       "      <td>2013-10-01</td>\n",
       "      <td>7</td>\n",
       "    </tr>\n",
       "    <tr>\n",
       "      <th>4</th>\n",
       "      <td>112.0</td>\n",
       "      <td>TORTELES</td>\n",
       "      <td>0</td>\n",
       "      <td>BmUP</td>\n",
       "      <td>torteles</td>\n",
       "      <td>tortel</td>\n",
       "      <td>2013-10-01</td>\n",
       "      <td>0</td>\n",
       "    </tr>\n",
       "  </tbody>\n",
       "</table>\n",
       "</div>"
      ],
      "text/plain": [
       "   product_id              description  section store       desc_normalized  \\\n",
       "0       462.0               MANZANA 2º        0  BmUP             manzana 2   \n",
       "1       459.0  MILHOJAS   FRAMBUESA 2º        0  BmUP  milhojas frambuesa 2   \n",
       "2       112.0                 TORTELES        0  BmUP              torteles   \n",
       "3       115.0        BAGUETTE MALLORCA        0  BmUP     baguette mallorca   \n",
       "4       112.0                 TORTELES        0  BmUP              torteles   \n",
       "\n",
       "  target_names_prod_by_prod        date  units_ordered  \n",
       "0          tarta de manzana  2013-10-01              1  \n",
       "1        milhojas frambuesa  2013-10-01              1  \n",
       "2                    tortel  2013-10-01             15  \n",
       "3                  baguette  2013-10-01              7  \n",
       "4                    tortel  2013-10-01              0  "
      ]
     },
     "execution_count": 95,
     "metadata": {},
     "output_type": "execute_result"
    }
   ],
   "source": [
    "filtered_df.head()"
   ]
  },
  {
   "cell_type": "code",
   "execution_count": 96,
   "metadata": {
    "scrolled": true
   },
   "outputs": [
    {
     "data": {
      "text/plain": [
       "array(['tarta de manzana', 'milhojas frambuesa', 'tortel', 'baguette',\n",
       "       'croissant simple', 'croissant petit',\n",
       "       'postre de fresas y mascarpone', 'palmera chocolate',\n",
       "       'mousse tres chocolates', 'tarta opera'], dtype=object)"
      ]
     },
     "execution_count": 96,
     "metadata": {},
     "output_type": "execute_result"
    }
   ],
   "source": [
    "filtered_df['target_names_prod_by_prod'].unique()"
   ]
  },
  {
   "cell_type": "code",
   "execution_count": 97,
   "metadata": {},
   "outputs": [
    {
     "data": {
      "text/html": [
       "<div>\n",
       "<style scoped>\n",
       "    .dataframe tbody tr th:only-of-type {\n",
       "        vertical-align: middle;\n",
       "    }\n",
       "\n",
       "    .dataframe tbody tr th {\n",
       "        vertical-align: top;\n",
       "    }\n",
       "\n",
       "    .dataframe thead th {\n",
       "        text-align: right;\n",
       "    }\n",
       "</style>\n",
       "<table border=\"1\" class=\"dataframe\">\n",
       "  <thead>\n",
       "    <tr style=\"text-align: right;\">\n",
       "      <th></th>\n",
       "      <th>product_id</th>\n",
       "      <th>description</th>\n",
       "      <th>section</th>\n",
       "      <th>store</th>\n",
       "      <th>desc_normalized</th>\n",
       "      <th>target_names_prod_by_prod</th>\n",
       "      <th>date</th>\n",
       "      <th>units_ordered</th>\n",
       "    </tr>\n",
       "  </thead>\n",
       "  <tbody>\n",
       "  </tbody>\n",
       "</table>\n",
       "</div>"
      ],
      "text/plain": [
       "Empty DataFrame\n",
       "Columns: [product_id, description, section, store, desc_normalized, target_names_prod_by_prod, date, units_ordered]\n",
       "Index: []"
      ]
     },
     "execution_count": 97,
     "metadata": {},
     "output_type": "execute_result"
    }
   ],
   "source": [
    "filtered_df[filtered_df['target_names_prod_by_prod']=='frambuesa 2']"
   ]
  },
  {
   "cell_type": "code",
   "execution_count": 98,
   "metadata": {
    "scrolled": true
   },
   "outputs": [],
   "source": [
    "filtered_df.rename(columns={'Unnamed: 0':'original_index'}, inplace=True)"
   ]
  },
  {
   "cell_type": "code",
   "execution_count": 99,
   "metadata": {},
   "outputs": [],
   "source": [
    "products=filtered_df['target_names_prod_by_prod'].unique()\n",
    "stores=filtered_df['store'].unique()"
   ]
  },
  {
   "cell_type": "code",
   "execution_count": 100,
   "metadata": {},
   "outputs": [
    {
     "name": "stdout",
     "output_type": "stream",
     "text": [
      "['BmUP']\n"
     ]
    }
   ],
   "source": [
    "print(stores)"
   ]
  },
  {
   "cell_type": "code",
   "execution_count": 101,
   "metadata": {},
   "outputs": [
    {
     "name": "stdout",
     "output_type": "stream",
     "text": [
      "['tarta de manzana' 'milhojas frambuesa' 'tortel' 'baguette'\n",
      " 'croissant simple' 'croissant petit' 'postre de fresas y mascarpone'\n",
      " 'palmera chocolate' 'mousse tres chocolates' 'tarta opera']\n"
     ]
    }
   ],
   "source": [
    "print(products)"
   ]
  },
  {
   "cell_type": "code",
   "execution_count": 102,
   "metadata": {},
   "outputs": [],
   "source": [
    "aaa=pd.pivot_table(data=filtered_df,values='units_ordered', index='date', columns=['store','target_names_prod_by_prod'])"
   ]
  },
  {
   "cell_type": "code",
   "execution_count": 103,
   "metadata": {
    "scrolled": true
   },
   "outputs": [
    {
     "data": {
      "text/html": [
       "<div>\n",
       "<style scoped>\n",
       "    .dataframe tbody tr th:only-of-type {\n",
       "        vertical-align: middle;\n",
       "    }\n",
       "\n",
       "    .dataframe tbody tr th {\n",
       "        vertical-align: top;\n",
       "    }\n",
       "\n",
       "    .dataframe thead tr th {\n",
       "        text-align: left;\n",
       "    }\n",
       "\n",
       "    .dataframe thead tr:last-of-type th {\n",
       "        text-align: right;\n",
       "    }\n",
       "</style>\n",
       "<table border=\"1\" class=\"dataframe\">\n",
       "  <thead>\n",
       "    <tr>\n",
       "      <th>store</th>\n",
       "      <th colspan=\"10\" halign=\"left\">BmUP</th>\n",
       "    </tr>\n",
       "    <tr>\n",
       "      <th>target_names_prod_by_prod</th>\n",
       "      <th>baguette</th>\n",
       "      <th>croissant petit</th>\n",
       "      <th>croissant simple</th>\n",
       "      <th>milhojas frambuesa</th>\n",
       "      <th>mousse tres chocolates</th>\n",
       "      <th>palmera chocolate</th>\n",
       "      <th>postre de fresas y mascarpone</th>\n",
       "      <th>tarta de manzana</th>\n",
       "      <th>tarta opera</th>\n",
       "      <th>tortel</th>\n",
       "    </tr>\n",
       "    <tr>\n",
       "      <th>date</th>\n",
       "      <th></th>\n",
       "      <th></th>\n",
       "      <th></th>\n",
       "      <th></th>\n",
       "      <th></th>\n",
       "      <th></th>\n",
       "      <th></th>\n",
       "      <th></th>\n",
       "      <th></th>\n",
       "      <th></th>\n",
       "    </tr>\n",
       "  </thead>\n",
       "  <tbody>\n",
       "    <tr>\n",
       "      <th>2009-06-16</th>\n",
       "      <td>2.0</td>\n",
       "      <td>5.0</td>\n",
       "      <td>0.0</td>\n",
       "      <td>NaN</td>\n",
       "      <td>0.0</td>\n",
       "      <td>NaN</td>\n",
       "      <td>NaN</td>\n",
       "      <td>NaN</td>\n",
       "      <td>NaN</td>\n",
       "      <td>0.0</td>\n",
       "    </tr>\n",
       "    <tr>\n",
       "      <th>2009-06-28</th>\n",
       "      <td>NaN</td>\n",
       "      <td>NaN</td>\n",
       "      <td>6.0</td>\n",
       "      <td>NaN</td>\n",
       "      <td>NaN</td>\n",
       "      <td>NaN</td>\n",
       "      <td>NaN</td>\n",
       "      <td>NaN</td>\n",
       "      <td>NaN</td>\n",
       "      <td>NaN</td>\n",
       "    </tr>\n",
       "    <tr>\n",
       "      <th>2011-06-23</th>\n",
       "      <td>NaN</td>\n",
       "      <td>NaN</td>\n",
       "      <td>NaN</td>\n",
       "      <td>2.0</td>\n",
       "      <td>NaN</td>\n",
       "      <td>2.0</td>\n",
       "      <td>4.0</td>\n",
       "      <td>1.0</td>\n",
       "      <td>NaN</td>\n",
       "      <td>NaN</td>\n",
       "    </tr>\n",
       "    <tr>\n",
       "      <th>2011-06-24</th>\n",
       "      <td>3.0</td>\n",
       "      <td>6.0</td>\n",
       "      <td>1.5</td>\n",
       "      <td>0.5</td>\n",
       "      <td>NaN</td>\n",
       "      <td>4.0</td>\n",
       "      <td>6.0</td>\n",
       "      <td>1.0</td>\n",
       "      <td>NaN</td>\n",
       "      <td>0.0</td>\n",
       "    </tr>\n",
       "    <tr>\n",
       "      <th>2011-06-25</th>\n",
       "      <td>4.0</td>\n",
       "      <td>8.0</td>\n",
       "      <td>3.0</td>\n",
       "      <td>0.0</td>\n",
       "      <td>0.0</td>\n",
       "      <td>4.0</td>\n",
       "      <td>NaN</td>\n",
       "      <td>NaN</td>\n",
       "      <td>NaN</td>\n",
       "      <td>0.0</td>\n",
       "    </tr>\n",
       "  </tbody>\n",
       "</table>\n",
       "</div>"
      ],
      "text/plain": [
       "store                         BmUP                                   \\\n",
       "target_names_prod_by_prod baguette croissant petit croissant simple   \n",
       "date                                                                  \n",
       "2009-06-16                     2.0             5.0              0.0   \n",
       "2009-06-28                     NaN             NaN              6.0   \n",
       "2011-06-23                     NaN             NaN              NaN   \n",
       "2011-06-24                     3.0             6.0              1.5   \n",
       "2011-06-25                     4.0             8.0              3.0   \n",
       "\n",
       "store                                                                \\\n",
       "target_names_prod_by_prod milhojas frambuesa mousse tres chocolates   \n",
       "date                                                                  \n",
       "2009-06-16                               NaN                    0.0   \n",
       "2009-06-28                               NaN                    NaN   \n",
       "2011-06-23                               2.0                    NaN   \n",
       "2011-06-24                               0.5                    NaN   \n",
       "2011-06-25                               0.0                    0.0   \n",
       "\n",
       "store                                                                      \\\n",
       "target_names_prod_by_prod palmera chocolate postre de fresas y mascarpone   \n",
       "date                                                                        \n",
       "2009-06-16                              NaN                           NaN   \n",
       "2009-06-28                              NaN                           NaN   \n",
       "2011-06-23                              2.0                           4.0   \n",
       "2011-06-24                              4.0                           6.0   \n",
       "2011-06-25                              4.0                           NaN   \n",
       "\n",
       "store                                                          \n",
       "target_names_prod_by_prod tarta de manzana tarta opera tortel  \n",
       "date                                                           \n",
       "2009-06-16                             NaN         NaN    0.0  \n",
       "2009-06-28                             NaN         NaN    NaN  \n",
       "2011-06-23                             1.0         NaN    NaN  \n",
       "2011-06-24                             1.0         NaN    0.0  \n",
       "2011-06-25                             NaN         NaN    0.0  "
      ]
     },
     "execution_count": 103,
     "metadata": {},
     "output_type": "execute_result"
    }
   ],
   "source": [
    "aaa.head()"
   ]
  },
  {
   "cell_type": "code",
   "execution_count": 104,
   "metadata": {},
   "outputs": [],
   "source": [
    "aaa.fillna(0.0, inplace=True)"
   ]
  },
  {
   "cell_type": "code",
   "execution_count": 105,
   "metadata": {},
   "outputs": [
    {
     "data": {
      "text/html": [
       "<div>\n",
       "<style scoped>\n",
       "    .dataframe tbody tr th:only-of-type {\n",
       "        vertical-align: middle;\n",
       "    }\n",
       "\n",
       "    .dataframe tbody tr th {\n",
       "        vertical-align: top;\n",
       "    }\n",
       "\n",
       "    .dataframe thead tr th {\n",
       "        text-align: left;\n",
       "    }\n",
       "\n",
       "    .dataframe thead tr:last-of-type th {\n",
       "        text-align: right;\n",
       "    }\n",
       "</style>\n",
       "<table border=\"1\" class=\"dataframe\">\n",
       "  <thead>\n",
       "    <tr>\n",
       "      <th>store</th>\n",
       "      <th colspan=\"10\" halign=\"left\">BmUP</th>\n",
       "    </tr>\n",
       "    <tr>\n",
       "      <th>target_names_prod_by_prod</th>\n",
       "      <th>baguette</th>\n",
       "      <th>croissant petit</th>\n",
       "      <th>croissant simple</th>\n",
       "      <th>milhojas frambuesa</th>\n",
       "      <th>mousse tres chocolates</th>\n",
       "      <th>palmera chocolate</th>\n",
       "      <th>postre de fresas y mascarpone</th>\n",
       "      <th>tarta de manzana</th>\n",
       "      <th>tarta opera</th>\n",
       "      <th>tortel</th>\n",
       "    </tr>\n",
       "    <tr>\n",
       "      <th>date</th>\n",
       "      <th></th>\n",
       "      <th></th>\n",
       "      <th></th>\n",
       "      <th></th>\n",
       "      <th></th>\n",
       "      <th></th>\n",
       "      <th></th>\n",
       "      <th></th>\n",
       "      <th></th>\n",
       "      <th></th>\n",
       "    </tr>\n",
       "  </thead>\n",
       "  <tbody>\n",
       "    <tr>\n",
       "      <th>2009-06-16</th>\n",
       "      <td>2.0</td>\n",
       "      <td>5.0</td>\n",
       "      <td>0.0</td>\n",
       "      <td>0.0</td>\n",
       "      <td>0.0</td>\n",
       "      <td>0.0</td>\n",
       "      <td>0.0</td>\n",
       "      <td>0.0</td>\n",
       "      <td>0.0</td>\n",
       "      <td>0.0</td>\n",
       "    </tr>\n",
       "    <tr>\n",
       "      <th>2009-06-28</th>\n",
       "      <td>0.0</td>\n",
       "      <td>0.0</td>\n",
       "      <td>6.0</td>\n",
       "      <td>0.0</td>\n",
       "      <td>0.0</td>\n",
       "      <td>0.0</td>\n",
       "      <td>0.0</td>\n",
       "      <td>0.0</td>\n",
       "      <td>0.0</td>\n",
       "      <td>0.0</td>\n",
       "    </tr>\n",
       "    <tr>\n",
       "      <th>2011-06-23</th>\n",
       "      <td>0.0</td>\n",
       "      <td>0.0</td>\n",
       "      <td>0.0</td>\n",
       "      <td>2.0</td>\n",
       "      <td>0.0</td>\n",
       "      <td>2.0</td>\n",
       "      <td>4.0</td>\n",
       "      <td>1.0</td>\n",
       "      <td>0.0</td>\n",
       "      <td>0.0</td>\n",
       "    </tr>\n",
       "    <tr>\n",
       "      <th>2011-06-24</th>\n",
       "      <td>3.0</td>\n",
       "      <td>6.0</td>\n",
       "      <td>1.5</td>\n",
       "      <td>0.5</td>\n",
       "      <td>0.0</td>\n",
       "      <td>4.0</td>\n",
       "      <td>6.0</td>\n",
       "      <td>1.0</td>\n",
       "      <td>0.0</td>\n",
       "      <td>0.0</td>\n",
       "    </tr>\n",
       "    <tr>\n",
       "      <th>2011-06-25</th>\n",
       "      <td>4.0</td>\n",
       "      <td>8.0</td>\n",
       "      <td>3.0</td>\n",
       "      <td>0.0</td>\n",
       "      <td>0.0</td>\n",
       "      <td>4.0</td>\n",
       "      <td>0.0</td>\n",
       "      <td>0.0</td>\n",
       "      <td>0.0</td>\n",
       "      <td>0.0</td>\n",
       "    </tr>\n",
       "  </tbody>\n",
       "</table>\n",
       "</div>"
      ],
      "text/plain": [
       "store                         BmUP                                   \\\n",
       "target_names_prod_by_prod baguette croissant petit croissant simple   \n",
       "date                                                                  \n",
       "2009-06-16                     2.0             5.0              0.0   \n",
       "2009-06-28                     0.0             0.0              6.0   \n",
       "2011-06-23                     0.0             0.0              0.0   \n",
       "2011-06-24                     3.0             6.0              1.5   \n",
       "2011-06-25                     4.0             8.0              3.0   \n",
       "\n",
       "store                                                                \\\n",
       "target_names_prod_by_prod milhojas frambuesa mousse tres chocolates   \n",
       "date                                                                  \n",
       "2009-06-16                               0.0                    0.0   \n",
       "2009-06-28                               0.0                    0.0   \n",
       "2011-06-23                               2.0                    0.0   \n",
       "2011-06-24                               0.5                    0.0   \n",
       "2011-06-25                               0.0                    0.0   \n",
       "\n",
       "store                                                                      \\\n",
       "target_names_prod_by_prod palmera chocolate postre de fresas y mascarpone   \n",
       "date                                                                        \n",
       "2009-06-16                              0.0                           0.0   \n",
       "2009-06-28                              0.0                           0.0   \n",
       "2011-06-23                              2.0                           4.0   \n",
       "2011-06-24                              4.0                           6.0   \n",
       "2011-06-25                              4.0                           0.0   \n",
       "\n",
       "store                                                          \n",
       "target_names_prod_by_prod tarta de manzana tarta opera tortel  \n",
       "date                                                           \n",
       "2009-06-16                             0.0         0.0    0.0  \n",
       "2009-06-28                             0.0         0.0    0.0  \n",
       "2011-06-23                             1.0         0.0    0.0  \n",
       "2011-06-24                             1.0         0.0    0.0  \n",
       "2011-06-25                             0.0         0.0    0.0  "
      ]
     },
     "execution_count": 105,
     "metadata": {},
     "output_type": "execute_result"
    }
   ],
   "source": [
    "aaa.head()"
   ]
  },
  {
   "cell_type": "code",
   "execution_count": 106,
   "metadata": {},
   "outputs": [],
   "source": [
    "prov=filtered_df.groupby(['target_names_prod_by_prod','date'], as_index=False).sum()[['target_names_prod_by_prod', 'date', 'units_ordered']]"
   ]
  },
  {
   "cell_type": "code",
   "execution_count": 107,
   "metadata": {},
   "outputs": [],
   "source": [
    "bbb=pd.pivot_table(data=prov,values='units_ordered', index='date', columns='target_names_prod_by_prod')"
   ]
  },
  {
   "cell_type": "code",
   "execution_count": 108,
   "metadata": {},
   "outputs": [],
   "source": [
    "bbb.fillna(0.0, inplace=True)"
   ]
  },
  {
   "cell_type": "code",
   "execution_count": 109,
   "metadata": {
    "scrolled": true
   },
   "outputs": [
    {
     "data": {
      "text/plain": [
       "<matplotlib.axes._subplots.AxesSubplot at 0x2dd9c3fad68>"
      ]
     },
     "execution_count": 109,
     "metadata": {},
     "output_type": "execute_result"
    },
    {
     "data": {
      "image/png": "[encoded data removed]",
      "text/plain": [
       "<Figure size 432x288 with 1 Axes>"
      ]
     },
     "metadata": {
      "needs_background": "light"
     },
     "output_type": "display_data"
    }
   ],
   "source": [
    "bbb.plot()"
   ]
  },
  {
   "cell_type": "code",
   "execution_count": 110,
   "metadata": {
    "scrolled": true
   },
   "outputs": [
    {
     "data": {
      "text/plain": [
       "target_names_prod_by_prod\n",
       "baguette                         80.0\n",
       "croissant petit                  12.0\n",
       "croissant simple                 35.0\n",
       "milhojas frambuesa                5.0\n",
       "mousse tres chocolates            2.0\n",
       "palmera chocolate                30.0\n",
       "postre de fresas y mascarpone    18.0\n",
       "tarta de manzana                  5.0\n",
       "tarta opera                       1.0\n",
       "tortel                           70.0\n",
       "dtype: float64"
      ]
     },
     "execution_count": 110,
     "metadata": {},
     "output_type": "execute_result"
    }
   ],
   "source": [
    "bbb.max()"
   ]
  },
  {
   "cell_type": "code",
   "execution_count": null,
   "metadata": {},
   "outputs": [],
   "source": []
  },
  {
   "cell_type": "code",
   "execution_count": null,
   "metadata": {},
   "outputs": [],
   "source": []
  },
  {
   "cell_type": "code",
   "execution_count": null,
   "metadata": {},
   "outputs": [],
   "source": []
  },
  {
   "cell_type": "code",
   "execution_count": null,
   "metadata": {},
   "outputs": [],
   "source": []
  }
 ],
 "metadata": {
  "kernelspec": {
   "display_name": "Python 3",
   "language": "python",
   "name": "python3"
  },
  "language_info": {
   "codemirror_mode": {
    "name": "ipython",
    "version": 3
   },
   "file_extension": ".py",
   "mimetype": "text/x-python",
   "name": "python",
   "nbconvert_exporter": "python",
   "pygments_lexer": "ipython3",
   "version": "3.7.3"
  }
 },
 "nbformat": 4,
 "nbformat_minor": 2
}
