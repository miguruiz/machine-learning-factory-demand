{
 "cells": [
  {
   "cell_type": "markdown",
   "metadata": {},
   "source": [
    "# SELECTING OUR PRODUCTS:"
   ]
  },
  {
   "cell_type": "markdown",
   "metadata": {},
   "source": [
    "The client has provided us a list of 10 products they want to use for the pilot. However, the database, as well os the names provided by the client are not normalized, hence we will need to do some analysis to indetify the real matches between the provided list, and the products ID/Description in the database.\n",
    "\n",
    "The following script, analysos possible name matches, and filters the file transaction file to only include the relevant products for the pilot."
   ]
  },
  {
   "cell_type": "code",
   "execution_count": null,
   "metadata": {},
   "outputs": [],
   "source": [
    "# Importing packages:\n",
    "\n",
    "import pandas as pd\n",
    "import matplotlib.pyplot as plt\n",
    "import numpy as np\n",
    "\n",
    "%matplotlib inline"
   ]
  },
  {
   "cell_type": "code",
   "execution_count": null,
   "metadata": {},
   "outputs": [],
   "source": [
    "file_path = \"../../data/01_raw/\"\n",
    "file_name = \"b2-transactions.csv\"\n",
    "\n",
    "filtered_file_name=\"c1-filtered_transactions.csv\"\n",
    "\n",
    "sep=\";\""
   ]
  },
  {
   "cell_type": "code",
   "execution_count": null,
   "metadata": {},
   "outputs": [],
   "source": [
    "dict_of_products={'croissant': 100,\n",
    "                  'croissant petit': 103,\n",
    "                  'tarta mousse 3 chocolates': 10002,\n",
    "                  'tarta de manzana 2º': 462,\n",
    "                  'palmeras de trufa': 182,\n",
    "                  'tarta opera': 414,\n",
    "                  'postre fresas y mascarpone': 4511,\n",
    "                  'milhojas frambuesa 2º': 459,\n",
    "                  'torteles': 112,\n",
    "                  'baguette': 115}"
   ]
  },
  {
   "cell_type": "code",
   "execution_count": null,
   "metadata": {},
   "outputs": [],
   "source": [
    "reader=pd.read_csv(file_path+file_name, sep=sep, chunksize=100000)\n",
    "\n",
    "\n",
    "filtered_df=pd.DataFrame()\n",
    "\n",
    "for chunk in reader:\n",
    "    \n",
    "    chunk.dropna(how='any', inplace=True)\n",
    "    chunk=chunk.drop('Unnamed: 0', axis=1)\n",
    "\n",
    "    for value in dict_of_products.values():\n",
    "        \n",
    "        if filtered_df.empty:\n",
    "            filtered_df=chunk[chunk['product_id']==value]\n",
    "        else:\n",
    "            filtered_df=filtered_df.append(chunk[chunk['product_id']==value])\n",
    "\n",
    "        "
   ]
  },
  {
   "cell_type": "code",
   "execution_count": null,
   "metadata": {
    "scrolled": false
   },
   "outputs": [],
   "source": [
    "filtered_df.head()"
   ]
  },
  {
   "cell_type": "code",
   "execution_count": null,
   "metadata": {},
   "outputs": [],
   "source": [
    "filtered_df['product_id'].unique()"
   ]
  },
  {
   "cell_type": "code",
   "execution_count": null,
   "metadata": {},
   "outputs": [],
   "source": [
    "filtered_df.shape"
   ]
  },
  {
   "cell_type": "code",
   "execution_count": null,
   "metadata": {},
   "outputs": [],
   "source": [
    "filtered_df[filtered_df['product_id']==103].shape"
   ]
  },
  {
   "cell_type": "markdown",
   "metadata": {},
   "source": [
    "## DATES TO APPROPRIATE FORMAT USING DATETIME:"
   ]
  },
  {
   "cell_type": "code",
   "execution_count": null,
   "metadata": {},
   "outputs": [],
   "source": [
    "from datetime import datetime as dttm"
   ]
  },
  {
   "cell_type": "code",
   "execution_count": null,
   "metadata": {},
   "outputs": [],
   "source": [
    "filtered_df['date']=filtered_df['order_date'].apply(lambda x: dttm.strptime(x,'%d/%m/%Y 0:00:00'))"
   ]
  },
  {
   "cell_type": "code",
   "execution_count": null,
   "metadata": {},
   "outputs": [],
   "source": [
    "filtered_df['units_ordered_numeric']=filtered_df['units_ordered'].str.split(\",\").str[0].astype(dtype='long')"
   ]
  },
  {
   "cell_type": "code",
   "execution_count": null,
   "metadata": {},
   "outputs": [],
   "source": [
    "filtered_df.drop('order_date', axis=1, inplace=True)\n"
   ]
  },
  {
   "cell_type": "code",
   "execution_count": null,
   "metadata": {},
   "outputs": [],
   "source": [
    "filtered_df.drop('units_ordered', axis=1, inplace=True)"
   ]
  },
  {
   "cell_type": "code",
   "execution_count": null,
   "metadata": {},
   "outputs": [],
   "source": [
    "filtered_df.rename(columns={'units_ordered_numeric':'units_ordered'}, inplace=True)"
   ]
  },
  {
   "cell_type": "code",
   "execution_count": null,
   "metadata": {
    "scrolled": true
   },
   "outputs": [],
   "source": [
    "filtered_df.head()"
   ]
  },
  {
   "cell_type": "code",
   "execution_count": null,
   "metadata": {},
   "outputs": [],
   "source": [
    "filtered_df.to_csv(file_path+filtered_file_name, sep=sep)"
   ]
  }
 ],
 "metadata": {
  "kernelspec": {
   "display_name": "Python 3",
   "language": "python",
   "name": "python3"
  },
  "language_info": {
   "codemirror_mode": {
    "name": "ipython",
    "version": 3
   },
   "file_extension": ".py",
   "mimetype": "text/x-python",
   "name": "python",
   "nbconvert_exporter": "python",
   "pygments_lexer": "ipython3",
   "version": "3.7.3"
  }
 },
 "nbformat": 4,
 "nbformat_minor": 2
}
