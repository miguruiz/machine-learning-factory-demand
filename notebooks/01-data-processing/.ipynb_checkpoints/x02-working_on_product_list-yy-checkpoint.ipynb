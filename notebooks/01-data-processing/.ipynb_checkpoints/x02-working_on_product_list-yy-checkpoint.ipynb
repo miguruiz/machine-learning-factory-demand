{
 "cells": [
  {
   "cell_type": "markdown",
   "metadata": {},
   "source": [
    "# CREATING THE LIST OF PRODUCTS FOR THE ANALYSIS:"
   ]
  },
  {
   "cell_type": "markdown",
   "metadata": {},
   "source": [
    "After rearranging the data in a more convenient manner and doing some introductory analysis of the data, we now want to get down to work with our data.\n",
    "\n",
    "A list has been given to us of the 10 products that our clients finded as more relevant to their business.\n",
    "\n",
    "What we want now is to check wether the names on the list correspond to certain uniques ids, or, as seen in the previous scripts, some conflict of unicity will arise between the id of our products and their descriptions.\n",
    "\n",
    "So, we are going to check our dataframe and select from it the ids and descriptions of our products that match the indications given in our clients list.\n",
    "\n",
    "We will do this in two phases: in the first one we will create a dataframe, with only some of the rows of our csv.\n",
    "\n",
    "In the second part, we will use chunks to load, chunk by chunk, all the dataframe, and extract the samei nformation.\n",
    "\n",
    "Finally, with the lists (in reality, two dictionaries) of the ids and descriptions that match every product given to us, we will decide which are the more appropriate.\n",
    "\n",
    "Perhaps some guidance from our client would be needed at this stage."
   ]
  },
  {
   "cell_type": "markdown",
   "metadata": {},
   "source": [
    "## 1. LOADING ONLY PART OF THE DATAFRAME:"
   ]
  },
  {
   "cell_type": "code",
   "execution_count": null,
   "metadata": {},
   "outputs": [],
   "source": [
    "# Importing packages:\n",
    "\n",
    "import pandas as pd\n",
    "import matplotlib.pyplot as plt\n",
    "import numpy as np\n",
    "\n",
    "%matplotlib inline"
   ]
  },
  {
   "cell_type": "code",
   "execution_count": null,
   "metadata": {},
   "outputs": [],
   "source": [
    "# Defining the search path of the file, the name and the separator:\n",
    "\n",
    "file_path = \"../../data/01_raw/\"\n",
    "file_name = \"b2-transactions.csv\"\n",
    "\n",
    "sep=\";\""
   ]
  },
  {
   "cell_type": "code",
   "execution_count": null,
   "metadata": {},
   "outputs": [],
   "source": [
    "# We create the list of selected products, and will try with it to obtain the values of the ids of the indicated products:\n",
    "\n",
    "list_of_products=['croissant',\n",
    "                  'croissant petit',\n",
    "                  'tarta mousse 3 chocolates',\n",
    "                  'tarta de manzana 2º',\n",
    "                  'palmera', \n",
    "                  'tarta opera',\n",
    "                  'postre fresas y mascarpone',\n",
    "                  'milhojas frambuesa 2º',\n",
    "                  'tortel',\n",
    "                  'baguette']"
   ]
  },
  {
   "cell_type": "code",
   "execution_count": null,
   "metadata": {
    "scrolled": true
   },
   "outputs": [],
   "source": [
    "# We import the dataframe:\n",
    "\n",
    "df=pd.read_csv(file_path+file_name, nrows=1000000, sep=sep)"
   ]
  },
  {
   "cell_type": "code",
   "execution_count": null,
   "metadata": {},
   "outputs": [],
   "source": [
    "# According to what we saw in the previous notebook, we have to do some cleaning:\n",
    "\n",
    "df.dropna(how='any', inplace=True)\n",
    "df=df.drop('Unnamed: 0', axis=1)"
   ]
  },
  {
   "cell_type": "code",
   "execution_count": null,
   "metadata": {},
   "outputs": [],
   "source": [
    "# Most of the descriptions are in uppercase, we first reduce everything to lowercase:\n",
    "\n",
    "df['description_lower']=df['description'].str.lower()"
   ]
  },
  {
   "cell_type": "code",
   "execution_count": null,
   "metadata": {
    "scrolled": true
   },
   "outputs": [],
   "source": [
    "# Now we construct the dictionaries of the selected ids and descriptions that each product of the list finds:\n",
    "\n",
    "# What you are seeing here is the final version both of the list of the selected products, and the way they are looked for in the\n",
    "# dataframe. We started looking within the string of the description, with a \".contains\", but it was noticed that startswith \n",
    "# was more suited for the job. Also, the values in the list of the products were changed in order to capture more names\n",
    "# each time:\n",
    "\n",
    "rel_prod_list_ids=dict()\n",
    "rel_prod_list_descrip=dict()\n",
    "\n",
    "for product in list_of_products:\n",
    "    rel_prod_list_ids[product]=df[df['description_lower'].str.startswith(product)]['product_id'].unique()\n",
    "    rel_prod_list_descrip[product]=df[df['description_lower'].str.startswith(product)]['description_lower'].unique()"
   ]
  },
  {
   "cell_type": "code",
   "execution_count": null,
   "metadata": {},
   "outputs": [],
   "source": [
    "# For minor, additional checks:\n",
    "\n",
    "df[df['product_id']==107].groupby('description').first()"
   ]
  },
  {
   "cell_type": "code",
   "execution_count": null,
   "metadata": {},
   "outputs": [],
   "source": [
    "# This is the dictionary with the word and its associated codes:\n",
    "\n",
    "rel_prod_list_ids"
   ]
  },
  {
   "cell_type": "code",
   "execution_count": null,
   "metadata": {},
   "outputs": [],
   "source": [
    "# The same but with the descriptions: Just for checks:\n",
    "\n",
    "rel_prod_list_descrip[list_of_products[5]]"
   ]
  },
  {
   "cell_type": "code",
   "execution_count": null,
   "metadata": {},
   "outputs": [],
   "source": [
    "# For some additional checks:\n",
    "\n",
    "df[df['product_id']==450]['description'].unique()"
   ]
  },
  {
   "cell_type": "markdown",
   "metadata": {},
   "source": [
    "## 2. LOADING ALL THE DATAFRAME IN CHUNKS AND GETTING ALL THE RESULTS:"
   ]
  },
  {
   "cell_type": "code",
   "execution_count": null,
   "metadata": {},
   "outputs": [],
   "source": [
    "# We import the dataframe:\n",
    "\n",
    "reader=pd.read_csv(file_path+file_name, sep=sep, chunksize=2000000)\n",
    "\n",
    "# Two empty lists are created to store, for each product, the list that results from looking for it in the chunk.\n",
    "\n",
    "NL1=list([None]*len(list_of_products))\n",
    "NL2=list([None]*len(list_of_products))\n",
    "\n",
    "# Getting the chunks and proceeding:\n",
    "\n",
    "for chunk in reader:\n",
    "\n",
    "    chunk.dropna(how='any', inplace=True)\n",
    "    chunk=chunk.drop('Unnamed: 0', axis=1)\n",
    "\n",
    "    chunk['description_lower']=chunk['description'].str.lower()\n",
    "\n",
    "    list_prod_list_ids=[None]*len(list_of_products)\n",
    "    list_prod_list_descrip=[None]*len(list_of_products)\n",
    "        \n",
    "    for i, product in enumerate(list_of_products):\n",
    "\n",
    "        list_prod_list_ids[i]=list(chunk[chunk['description_lower'].str.startswith(product)]['product_id'].unique())\n",
    "        list_prod_list_descrip[i]=list(chunk[chunk['description_lower'].str.startswith(product)]['description_lower'].unique())\n",
    "        \n",
    "    for i, element in enumerate(list_prod_list_ids):\n",
    "        \n",
    "        if NL1[i]:    \n",
    "            NL1.append(list_prod_list_ids[i])\n",
    "            NL2.append(list_prod_list_descrip[i])\n",
    "            \n",
    "        else:\n",
    "            NL1[i]=list_prod_list_ids[i]\n",
    "            NL2[i]=list_prod_list_descrip[i]\n",
    "    "
   ]
  },
  {
   "cell_type": "code",
   "execution_count": null,
   "metadata": {},
   "outputs": [],
   "source": [
    "rel_prod_list_ids=dict(zip(list_of_products,NL1))\n",
    "rel_prod_list_descrip=dict(zip(list_of_products,NL2))"
   ]
  },
  {
   "cell_type": "code",
   "execution_count": null,
   "metadata": {},
   "outputs": [],
   "source": [
    "rel_prod_list_ids"
   ]
  },
  {
   "cell_type": "markdown",
   "metadata": {},
   "source": [
    "##  3. FINAL LIST:"
   ]
  },
  {
   "cell_type": "code",
   "execution_count": null,
   "metadata": {},
   "outputs": [],
   "source": [
    "# At end, we reach the following conclussions:\n",
    "\n",
    "dict_of_products={'croissant': 100, # serious doubts, if it is not the 100, then possibly it should be 100+101+102\n",
    "                  'croissant petit': 103,\n",
    "                  'tarta mousse 3 chocolates': 9999, # almost only for order, creating a new id for this product is suggested\n",
    "                  'tarta de manzana 2º': 462,\n",
    "                  'palmeras de trufa': 182, # palmeras: 140\n",
    "                  'tarta opera': 414, # 9999, for order, mostly. If included, creating a new id for this product is suggested\n",
    "                  'postre fresas y mascarpone':4511,\n",
    "                  'milhojas frambuesa 2º': 459,\n",
    "                  'torteles': 112,\n",
    "                  'baguette':115}"
   ]
  },
  {
   "cell_type": "code",
   "execution_count": null,
   "metadata": {},
   "outputs": [],
   "source": [
    "dict_of_products"
   ]
  },
  {
   "cell_type": "markdown",
   "metadata": {},
   "source": [
    "## 4. CHANGING THE ID OF A PRODUCT:"
   ]
  },
  {
   "cell_type": "markdown",
   "metadata": {},
   "source": [
    "We face now the problem that one of our products is using a code that describes the orders (as seen in previous scripts).\n",
    "\n",
    "To avoid complexity in the code to come, we decide to change the id of our product to another one, taking care firstly that it is not currently in use."
   ]
  },
  {
   "cell_type": "code",
   "execution_count": null,
   "metadata": {},
   "outputs": [],
   "source": [
    "df.loc[df['description_lower'].str.startswith('tarta mousse 3 chocolates'), 'product_id']=10002"
   ]
  },
  {
   "cell_type": "code",
   "execution_count": null,
   "metadata": {},
   "outputs": [],
   "source": [
    "df[df ['product_id']==10002]"
   ]
  },
  {
   "cell_type": "code",
   "execution_count": null,
   "metadata": {},
   "outputs": [],
   "source": [
    "# We make this small arrangement also to the dict_of_products:\n",
    "\n",
    "dict_of_products['tarta mousse 3 chocolates']= 10002 # New id created"
   ]
  },
  {
   "cell_type": "code",
   "execution_count": null,
   "metadata": {},
   "outputs": [],
   "source": [
    "dict_of_products"
   ]
  },
  {
   "cell_type": "code",
   "execution_count": null,
   "metadata": {},
   "outputs": [],
   "source": []
  },
  {
   "cell_type": "code",
   "execution_count": null,
   "metadata": {},
   "outputs": [],
   "source": []
  }
 ],
 "metadata": {
  "kernelspec": {
   "display_name": "Python 3",
   "language": "python",
   "name": "python3"
  },
  "language_info": {
   "codemirror_mode": {
    "name": "ipython",
    "version": 3
   },
   "file_extension": ".py",
   "mimetype": "text/x-python",
   "name": "python",
   "nbconvert_exporter": "python",
   "pygments_lexer": "ipython3",
   "version": "3.7.3"
  }
 },
 "nbformat": 4,
 "nbformat_minor": 2
}
