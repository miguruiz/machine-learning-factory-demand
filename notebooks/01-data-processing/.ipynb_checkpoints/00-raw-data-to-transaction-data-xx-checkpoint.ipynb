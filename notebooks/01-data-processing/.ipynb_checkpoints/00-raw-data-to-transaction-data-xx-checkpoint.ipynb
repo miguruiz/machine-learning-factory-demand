{
 "cells": [
  {
   "cell_type": "markdown",
   "metadata": {},
   "source": [
    "# Transforming Raw data to a transaction table\n",
    "\n",
    "The following script transforms the raw data, which was provided aggregated by store, to a trasaction data with columns:\n",
    "\n",
    "- product_id\n",
    "- description\n",
    "- order_date\n",
    "- section\n",
    "- store\n",
    "- units_ordered"
   ]
  },
  {
   "cell_type": "code",
   "execution_count": 16,
   "metadata": {},
   "outputs": [],
   "source": [
    "import pandas as pd"
   ]
  },
  {
   "cell_type": "code",
   "execution_count": 17,
   "metadata": {},
   "outputs": [],
   "source": [
    "base_path = \"../../data/01_raw/\"\n",
    "\n",
    "file2 = \"b2.txt\" # Contains data from 201X to the extraction date on October 2019.\n",
    "\n",
    "header_file2 = [\"product_id\",\n",
    "          \"description\",\n",
    "          \"order_date\",\n",
    "          \"section\",\n",
    "          \"BmUP\",\n",
    "          \"VeUp\",\n",
    "          \"CzUP\",\n",
    "          \"AaUP\",\n",
    "          \"SeUP\",\n",
    "          \"JPUP\",\n",
    "          \"RzUP\",\n",
    "          \"AeUP\",\n",
    "          \"LiUP\",\n",
    "          \"EnUP\",\n",
    "          \"GoUP\",\n",
    "          \"GrUP\",\n",
    "          \"AnUP\",\n",
    "          \"MoUP\",\n",
    "          \"PoUP\",\n",
    "          \"MsUP\",\n",
    "          \"ViUP\",\n",
    "          \"ZiUO\",\n",
    "          \"GeUP\"]"
   ]
  },
  {
   "cell_type": "code",
   "execution_count": 18,
   "metadata": {},
   "outputs": [],
   "source": [
    "df = pd.read_csv(base_path + file2 , sep = \";\", encoding = \"ISO-8859-1\", names = header_file2)"
   ]
  },
  {
   "cell_type": "code",
   "execution_count": null,
   "metadata": {},
   "outputs": [],
   "source": [
    "df = df.melt(id_vars =[\"product_id\",\"description\",\"order_date\",\"section\"], var_name='store', value_name='units_ordered')\n"
   ]
  },
  {
   "cell_type": "code",
   "execution_count": null,
   "metadata": {},
   "outputs": [],
   "source": [
    "df.to_csv(\"../../data/01_raw/b2_transactions\", sep = \";\")"
   ]
  },
  {
   "cell_type": "code",
   "execution_count": null,
   "metadata": {},
   "outputs": [],
   "source": []
  },
  {
   "cell_type": "code",
   "execution_count": null,
   "metadata": {},
   "outputs": [],
   "source": []
  }
 ],
 "metadata": {
  "kernelspec": {
   "display_name": "Python 3",
   "language": "python",
   "name": "python3"
  }
 },
 "nbformat": 4,
 "nbformat_minor": 2
}
