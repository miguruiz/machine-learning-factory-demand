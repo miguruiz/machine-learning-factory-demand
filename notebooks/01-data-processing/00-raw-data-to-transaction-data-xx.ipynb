{
 "cells": [
  {
   "cell_type": "markdown",
   "metadata": {},
   "source": [
    "# Transforming Raw data to a transaction table\n",
    "\n",
    "The following script transforms the raw data, which was provided aggregated by store, to a trasaction data with columns:\n",
    "\n",
    "- product_id\n",
    "- description\n",
    "- order_date\n",
    "- section\n",
    "- store\n",
    "- units_ordered"
   ]
  },
  {
   "cell_type": "code",
   "execution_count": 21,
   "metadata": {},
   "outputs": [],
   "source": [
    "import pandas as pd"
   ]
  },
  {
   "cell_type": "code",
   "execution_count": 22,
   "metadata": {},
   "outputs": [],
   "source": [
    "input_path = \"../../data/01_raw/b2.txt\"\n",
    "output_path = \"../../data/01_raw/b2-transactions.csv\"\n",
    "col_names = [\"product_id\",\n",
    "          \"description\",\n",
    "          \"order_date\",\n",
    "          \"section\",\n",
    "          \"BmUP\",\n",
    "          \"VeUp\",\n",
    "          \"CzUP\",\n",
    "          \"AaUP\",\n",
    "          \"SeUP\",\n",
    "          \"JPUP\",\n",
    "          \"RzUP\",\n",
    "          \"AeUP\",\n",
    "          \"LiUP\",\n",
    "          \"EnUP\",\n",
    "          \"GoUP\",\n",
    "          \"GrUP\",\n",
    "          \"AnUP\",\n",
    "          \"MoUP\",\n",
    "          \"PoUP\",\n",
    "          \"MsUP\",\n",
    "          \"ViUP\",\n",
    "          \"ZiUO\",\n",
    "          \"GeUP\"]\n",
    "sep = \";\""
   ]
  },
  {
   "cell_type": "code",
   "execution_count": 23,
   "metadata": {},
   "outputs": [],
   "source": [
    "def raw_to_transactions (file, col_names):\n",
    "    df = pd.read_csv(base_path + file2 , sep = \";\", encoding = \"ISO-8859-1\", names = header_file2)\n",
    "    df = df.melt(id_vars =[\"product_id\",\"description\",\"order_date\",\"section\"], var_name='store', value_name='units_ordered')\n",
    "    return df\n",
    "\n"
   ]
  },
  {
   "cell_type": "code",
   "execution_count": 24,
   "metadata": {},
   "outputs": [],
   "source": [
    "# Main\n",
    "df = raw_to_transactions(input_path,col_names)\n",
    "df.to_csv(output_path, sep = sep)\n"
   ]
  },
  {
   "cell_type": "code",
   "execution_count": null,
   "metadata": {},
   "outputs": [],
   "source": []
  }
 ],
 "metadata": {
  "kernelspec": {
   "display_name": "Python 3",
   "language": "python",
   "name": "python3"
  }
 },
 "nbformat": 4,
 "nbformat_minor": 2
}
