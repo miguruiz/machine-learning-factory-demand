{
 "cells": [
  {
   "cell_type": "markdown",
   "metadata": {},
   "source": [
    "# FILTERING THE DATASET:"
   ]
  },
  {
   "cell_type": "markdown",
   "metadata": {},
   "source": [
    "Along this script we will get from an initial list of products provided by our client, to a final list (as per the names and ids present within the real data), which will be used to filter our initial data in order to get a smaller, more manageable file.\n",
    "\n",
    "This process will be divided in two main steps:\n",
    "\n",
    "- Check the names in our list with the descriptions present in our data, analyze them and select a final list\n",
    "\n",
    "- Use this list to filter our data and store the resulting information in a more small and convenient file"
   ]
  },
  {
   "cell_type": "markdown",
   "metadata": {},
   "source": [
    "## CREATING THE LIST OF PRODUCTS FOR THE ANALYSIS:"
   ]
  },
  {
   "cell_type": "markdown",
   "metadata": {},
   "source": [
    "After rearranging the data in a more convenient manner and doing some introductory analysis of the data, we now want to get down to work with our data.\n",
    "\n",
    "A list has been given to us of the 10 products that our clients found as more relevant to their business.\n",
    "\n",
    "What we want now is to check whether the names on the list correspond to certain uniques ids, or, as seen in the previous scripts, some conflict of unicity will arise between the id of our products and their descriptions.\n",
    "\n",
    "So, we are going to check our dataframe and select from it the ids and descriptions of our products that match the indications given in our clients list. With the lists (in reality, two dictionaries) of the ids and descriptions that match every product given to us, we will decide which are the more appropriate.\n",
    "\n",
    "Perhaps some guidance from our client would be needed at this stage."
   ]
  },
  {
   "cell_type": "markdown",
   "metadata": {},
   "source": [
    "### 1. Read dataframe"
   ]
  },
  {
   "cell_type": "code",
   "execution_count": 1,
   "metadata": {},
   "outputs": [
    {
     "name": "stderr",
     "output_type": "stream",
     "text": [
      "/home/mrnogues/anaconda3/lib/python3.6/site-packages/fuzzywuzzy/fuzz.py:11: UserWarning: Using slow pure-python SequenceMatcher. Install python-Levenshtein to remove this warning\n",
      "  warnings.warn('Using slow pure-python SequenceMatcher. Install python-Levenshtein to remove this warning')\n"
     ]
    }
   ],
   "source": [
    "# Importing packages:\n",
    "\n",
    "import pandas as pd\n",
    "import matplotlib.pyplot as plt\n",
    "import numpy as np\n",
    "import re\n",
    "from collections import Counter\n",
    "from fuzzywuzzy import fuzz\n",
    "from fuzzywuzzy import process\n",
    "import math\n",
    "import seaborn as sns\n",
    "\n",
    "\n",
    "%matplotlib inline\n",
    "pd.options.display.max_columns = None"
   ]
  },
  {
   "cell_type": "code",
   "execution_count": 2,
   "metadata": {},
   "outputs": [],
   "source": [
    "# Defining the search path of the file, the name and the separator:\n",
    "\n",
    "file_path = \"../../data/01_raw/\"\n",
    "file_name = \"b2-transactions.csv\" #'b2-transactions_sample.csv' \n",
    "exit_path = \"../../data/02_intermediate/\"\n",
    "\n",
    "filtered_file_name=\"c1-filtered_transactions.csv\"\n",
    "\n",
    "sep=\";\""
   ]
  },
  {
   "cell_type": "code",
   "execution_count": 3,
   "metadata": {},
   "outputs": [],
   "source": [
    "# We create the list of products provided by the client\n",
    "list_of_products=['croissant',\n",
    "                  'croissant petit',\n",
    "                  'tarta mousse 3 chocolates',\n",
    "                  'tarta de manzana 2º',\n",
    "                  'palmera de chocolate'\n",
    "                  'tarta opera',\n",
    "                  'postre fresas y mascarpone',\n",
    "                  'milhojas frambuesa 2º',\n",
    "                  'tortel',\n",
    "                  'baguette']"
   ]
  },
  {
   "cell_type": "code",
   "execution_count": 4,
   "metadata": {
    "scrolled": true
   },
   "outputs": [],
   "source": [
    "# We import the dataframe:\n",
    "df=pd.read_csv(file_path+file_name, sep=sep)"
   ]
  },
  {
   "cell_type": "code",
   "execution_count": 5,
   "metadata": {},
   "outputs": [
    {
     "data": {
      "text/html": [
       "<div>\n",
       "<style scoped>\n",
       "    .dataframe tbody tr th:only-of-type {\n",
       "        vertical-align: middle;\n",
       "    }\n",
       "\n",
       "    .dataframe tbody tr th {\n",
       "        vertical-align: top;\n",
       "    }\n",
       "\n",
       "    .dataframe thead th {\n",
       "        text-align: right;\n",
       "    }\n",
       "</style>\n",
       "<table border=\"1\" class=\"dataframe\">\n",
       "  <thead>\n",
       "    <tr style=\"text-align: right;\">\n",
       "      <th></th>\n",
       "      <th>product_id</th>\n",
       "      <th>description</th>\n",
       "      <th>order_date</th>\n",
       "      <th>section</th>\n",
       "      <th>store</th>\n",
       "      <th>units_ordered</th>\n",
       "    </tr>\n",
       "  </thead>\n",
       "  <tbody>\n",
       "    <tr>\n",
       "      <th>7029994</th>\n",
       "      <td>1310.0</td>\n",
       "      <td>CHOCOLATINA 40 GR. ALMENDRA</td>\n",
       "      <td>3/3/2009 0:00:00</td>\n",
       "      <td>0</td>\n",
       "      <td>SeUP</td>\n",
       "      <td>1,00</td>\n",
       "    </tr>\n",
       "    <tr>\n",
       "      <th>7114096</th>\n",
       "      <td>511.0</td>\n",
       "      <td>TEJAS</td>\n",
       "      <td>13/5/2010 0:00:00</td>\n",
       "      <td>0</td>\n",
       "      <td>SeUP</td>\n",
       "      <td>0,00</td>\n",
       "    </tr>\n",
       "    <tr>\n",
       "      <th>25955410</th>\n",
       "      <td>8760.0</td>\n",
       "      <td>PAN INTEGRAL</td>\n",
       "      <td>30/9/2013 0:00:00</td>\n",
       "      <td>0</td>\n",
       "      <td>ViUP</td>\n",
       "      <td>0,00</td>\n",
       "    </tr>\n",
       "    <tr>\n",
       "      <th>1654162</th>\n",
       "      <td>3388.0</td>\n",
       "      <td>ROUX DE BECHAMEL</td>\n",
       "      <td>8/4/2012 0:00:00</td>\n",
       "      <td>0</td>\n",
       "      <td>VeUp</td>\n",
       "      <td>0,00</td>\n",
       "    </tr>\n",
       "    <tr>\n",
       "      <th>1961066</th>\n",
       "      <td>459.0</td>\n",
       "      <td>MILHOJAS   FRAMBUESA 2º</td>\n",
       "      <td>17/6/2018 0:00:00</td>\n",
       "      <td>0</td>\n",
       "      <td>VeUp</td>\n",
       "      <td>0,00</td>\n",
       "    </tr>\n",
       "  </tbody>\n",
       "</table>\n",
       "</div>"
      ],
      "text/plain": [
       "          product_id                  description         order_date  section  \\\n",
       "7029994       1310.0  CHOCOLATINA 40 GR. ALMENDRA   3/3/2009 0:00:00        0   \n",
       "7114096        511.0                        TEJAS  13/5/2010 0:00:00        0   \n",
       "25955410      8760.0                 PAN INTEGRAL  30/9/2013 0:00:00        0   \n",
       "1654162       3388.0             ROUX DE BECHAMEL   8/4/2012 0:00:00        0   \n",
       "1961066        459.0      MILHOJAS   FRAMBUESA 2º  17/6/2018 0:00:00        0   \n",
       "\n",
       "         store units_ordered  \n",
       "7029994   SeUP          1,00  \n",
       "7114096   SeUP          0,00  \n",
       "25955410  ViUP          0,00  \n",
       "1654162   VeUp          0,00  \n",
       "1961066   VeUp          0,00  "
      ]
     },
     "execution_count": 5,
     "metadata": {},
     "output_type": "execute_result"
    }
   ],
   "source": [
    "df.sample(5)"
   ]
  },
  {
   "cell_type": "markdown",
   "metadata": {},
   "source": [
    "### 2. Normalizing and aggregating description names\n",
    "\n",
    "Unfortunately, there is no convention for the description and one id could \n",
    "\n",
    "1. Normalize descriptions as much as possible using:\n",
    "    - Regex expressions \n",
    "    - Basic NLP for spell-checking.\n",
    "2. Create a normalization file with the following structure:\n",
    "    - Unique Product_id and normalized description\n",
    "    - Flag to indicate if the product is part of the given list, or not.  \n",
    "3. Finally review the list manually. "
   ]
  },
  {
   "cell_type": "markdown",
   "metadata": {},
   "source": [
    "### 2.1 Normalizing description names "
   ]
  },
  {
   "cell_type": "code",
   "execution_count": 6,
   "metadata": {},
   "outputs": [],
   "source": [
    "# Setting Null descriptions to 'no-description'\n",
    "df['description'].fillna('no-description', inplace = True)\n",
    "\n",
    "# Unique product descriptions\n",
    "df_descriptions_unique = pd.Series(df['description'].unique())\n",
    "\n",
    "# Most of the descriptions are in uppercase, however others are in lower:\n",
    "df_descriptions_normalized = df_descriptions_unique.str.lower()\n",
    "\n",
    "#replace non alfanumeric with space\n",
    "df_descriptions_normalized=df_descriptions_normalized.str.replace(r'[^0-9a-zA-Zº()ª:-]+', ' ') \n",
    "\n",
    "# We also notice that there are spacing issues at the begining, end of the description and between words:\n",
    "df_descriptions_normalized=df_descriptions_normalized.str.strip()\n",
    "\n",
    "# Remove multi-spacing. multi '-' and multi ':'\n",
    "df_descriptions_normalized=df_descriptions_normalized.str.replace(r' +', ' ') \n",
    "df_descriptions_normalized=df_descriptions_normalized.str.replace(r'-+', ' ') \n",
    "df_descriptions_normalized=df_descriptions_normalized.str.replace(r':+', ' ') "
   ]
  },
  {
   "cell_type": "code",
   "execution_count": 7,
   "metadata": {},
   "outputs": [
    {
     "data": {
      "text/html": [
       "<div>\n",
       "<style scoped>\n",
       "    .dataframe tbody tr th:only-of-type {\n",
       "        vertical-align: middle;\n",
       "    }\n",
       "\n",
       "    .dataframe tbody tr th {\n",
       "        vertical-align: top;\n",
       "    }\n",
       "\n",
       "    .dataframe thead th {\n",
       "        text-align: right;\n",
       "    }\n",
       "</style>\n",
       "<table border=\"1\" class=\"dataframe\">\n",
       "  <thead>\n",
       "    <tr style=\"text-align: right;\">\n",
       "      <th></th>\n",
       "      <th>desc_original</th>\n",
       "      <th>desc_normalized</th>\n",
       "    </tr>\n",
       "  </thead>\n",
       "  <tbody>\n",
       "    <tr>\n",
       "      <th>5971</th>\n",
       "      <td>TARTA FRESAS Y MASCARPONE  10 R/</td>\n",
       "      <td>tarta fresas y mascarpone 10 r</td>\n",
       "    </tr>\n",
       "    <tr>\n",
       "      <th>35220</th>\n",
       "      <td>Encargo un cartel que pongaOSAMU 72   y debajo...</td>\n",
       "      <td>encargo un cartel que pongaosamu 72 y debajo d...</td>\n",
       "    </tr>\n",
       "    <tr>\n",
       "      <th>25264</th>\n",
       "      <td>MINI  POSTRES  MILHOJAS CHOCOLATE  CON PISTACHO</td>\n",
       "      <td>mini postres milhojas chocolate con pistacho</td>\n",
       "    </tr>\n",
       "    <tr>\n",
       "      <th>5311</th>\n",
       "      <td>Encargo TARTA DE LIMON DE 10 RAC.</td>\n",
       "      <td>encargo tarta de limon de 10 rac</td>\n",
       "    </tr>\n",
       "    <tr>\n",
       "      <th>7506</th>\n",
       "      <td>ENSAIMADA RELLENA 8 RAC</td>\n",
       "      <td>ensaimada rellena 8 rac</td>\n",
       "    </tr>\n",
       "    <tr>\n",
       "      <th>43411</th>\n",
       "      <td>SELVA NEGRA 3º CON UN CARTEL \" GRACIAS LUIS \"</td>\n",
       "      <td>selva negra 3º con un cartel gracias luis</td>\n",
       "    </tr>\n",
       "    <tr>\n",
       "      <th>45792</th>\n",
       "      <td>SELVA NEGRA 2º CON CARTEL \" FELICIDADES, ABUEL...</td>\n",
       "      <td>selva negra 2º con cartel felicidades abuela a...</td>\n",
       "    </tr>\n",
       "    <tr>\n",
       "      <th>4055</th>\n",
       "      <td>MOUSSE 3  CHOCOLATES 3º escrito en la tarta \"F...</td>\n",
       "      <td>mousse 3 chocolates 3º escrito en la tarta fel...</td>\n",
       "    </tr>\n",
       "    <tr>\n",
       "      <th>29766</th>\n",
       "      <td>HELADOS  VAINILLA  100 R/</td>\n",
       "      <td>helados vainilla 100 r</td>\n",
       "    </tr>\n",
       "    <tr>\n",
       "      <th>41116</th>\n",
       "      <td>TARTAS   SELVA  NEGRA  12 R/</td>\n",
       "      <td>tartas selva negra 12 r</td>\n",
       "    </tr>\n",
       "  </tbody>\n",
       "</table>\n",
       "</div>"
      ],
      "text/plain": [
       "                                           desc_original  \\\n",
       "5971                    TARTA FRESAS Y MASCARPONE  10 R/   \n",
       "35220  Encargo un cartel que pongaOSAMU 72   y debajo...   \n",
       "25264    MINI  POSTRES  MILHOJAS CHOCOLATE  CON PISTACHO   \n",
       "5311                   Encargo TARTA DE LIMON DE 10 RAC.   \n",
       "7506                             ENSAIMADA RELLENA 8 RAC   \n",
       "43411      SELVA NEGRA 3º CON UN CARTEL \" GRACIAS LUIS \"   \n",
       "45792  SELVA NEGRA 2º CON CARTEL \" FELICIDADES, ABUEL...   \n",
       "4055   MOUSSE 3  CHOCOLATES 3º escrito en la tarta \"F...   \n",
       "29766                          HELADOS  VAINILLA  100 R/   \n",
       "41116                       TARTAS   SELVA  NEGRA  12 R/   \n",
       "\n",
       "                                         desc_normalized  \n",
       "5971                      tarta fresas y mascarpone 10 r  \n",
       "35220  encargo un cartel que pongaosamu 72 y debajo d...  \n",
       "25264       mini postres milhojas chocolate con pistacho  \n",
       "5311                    encargo tarta de limon de 10 rac  \n",
       "7506                             ensaimada rellena 8 rac  \n",
       "43411          selva negra 3º con un cartel gracias luis  \n",
       "45792  selva negra 2º con cartel felicidades abuela a...  \n",
       "4055   mousse 3 chocolates 3º escrito en la tarta fel...  \n",
       "29766                             helados vainilla 100 r  \n",
       "41116                            tartas selva negra 12 r  "
      ]
     },
     "execution_count": 7,
     "metadata": {},
     "output_type": "execute_result"
    }
   ],
   "source": [
    "pd.DataFrame(dict(desc_original = df_descriptions_unique, desc_normalized = df_descriptions_normalized)).sample(10)"
   ]
  },
  {
   "cell_type": "markdown",
   "metadata": {},
   "source": [
    "Now lets gets get our hands dirty and apply some maths to calculate string distnace and finish cleaning all those messy product descriptions... This is what we are going to do:\n",
    "\n",
    "1. Create a dataset with pastry products by parsing the bakery catalogues, and other pastry websites. (this was done manually, by converting the pdf catalogues to txt using an external web. THe resulting file is named productos.txt)\n",
    "\n",
    "2. Following the indications from: https://medium.com/@hdezfloresmiguelangel/implementando-un-corrector-ortogr%C3%A1fico-en-python-utilizando-la-distancia-de-levenshtein-498ec0dd1105 create an spell-checker based on the products.txt dataset and the Levenshtein distance\n"
   ]
  },
  {
   "cell_type": "code",
   "execution_count": 8,
   "metadata": {},
   "outputs": [],
   "source": [
    "def words(text): return re.findall(r'\\w+', text.lower())\n",
    "\n",
    "WORDS = Counter(words(open('../../data/01_additional_data/productos.txt').read()))\n",
    "\n",
    "def P(word, N=sum(WORDS.values())): \n",
    "    \"Probability of `word`.\"\n",
    "    return WORDS[word] / N\n",
    "\n",
    "def correction(word): \n",
    "    \"Most probable spelling correction for word.\"\n",
    "    return max(candidates(word), key=P)\n",
    "\n",
    "def candidates(word): \n",
    "    \"Generate possible spelling corrections for word.\"\n",
    "    return (known([word]) or known(edits1(word)) or known(edits2(word)) or [word])\n",
    "\n",
    "def known(words): \n",
    "    \"The subset of `words` that appear in the dictionary of WORDS.\"\n",
    "    return set(w for w in words if w in WORDS)\n",
    "\n",
    "def edits1(word):\n",
    "    \"All edits that are one edit away from `word`.\"\n",
    "    letters    = 'abcdefghijklmnopqrstuvwxyz'\n",
    "    splits     = [(word[:i], word[i:])    for i in range(len(word) + 1)]\n",
    "    deletes    = [L + R[1:]               for L, R in splits if R]\n",
    "    transposes = [L + R[1] + R[0] + R[2:] for L, R in splits if len(R)>1]\n",
    "    replaces   = [L + c + R[1:]           for L, R in splits if R for c in letters]\n",
    "    inserts    = [L + c + R               for L, R in splits for c in letters]\n",
    "    return set(deletes + transposes + replaces + inserts)\n",
    "\n",
    "def edits2(word): \n",
    "    \"All edits that are two edits away from `word`.\"\n",
    "    return (e2 for e1 in edits1(word) for e2 in edits1(e1))"
   ]
  },
  {
   "cell_type": "code",
   "execution_count": 9,
   "metadata": {},
   "outputs": [
    {
     "data": {
      "text/plain": [
       "'tarta'"
      ]
     },
     "execution_count": 9,
     "metadata": {},
     "output_type": "execute_result"
    }
   ],
   "source": [
    "correction(\"trta\")"
   ]
  },
  {
   "cell_type": "code",
   "execution_count": 10,
   "metadata": {},
   "outputs": [
    {
     "data": {
      "text/plain": [
       "'cafe'"
      ]
     },
     "execution_count": 10,
     "metadata": {},
     "output_type": "execute_result"
    }
   ],
   "source": [
    "correction(\"café\")"
   ]
  },
  {
   "cell_type": "markdown",
   "metadata": {},
   "source": [
    "Fantastic! the it seems to work. Lets now apply it to our dataset:"
   ]
  },
  {
   "cell_type": "code",
   "execution_count": 11,
   "metadata": {},
   "outputs": [],
   "source": [
    "def spell_check (line):\n",
    "    \"Given a sentence, returns spell-checks word by word\"\n",
    "    if type(line) == str and len(line) > 0:\n",
    "        new = []\n",
    "        line = line.split(\" \")\n",
    "        for word in line:\n",
    "            if type(word) == str:\n",
    "                word = correction(word)\n",
    "            new.append(word)\n",
    "        return \" \".join(new)\n",
    "            \n",
    "    else:\n",
    "        return line"
   ]
  },
  {
   "cell_type": "code",
   "execution_count": 12,
   "metadata": {},
   "outputs": [],
   "source": [
    "# CAUTION! The following cell e may take a long time to process (5 hours): \n",
    "\n",
    "# spell-check word by word the dataset:\n",
    "df_descriptions_normalized = df_descriptions_normalized.apply(lambda line: spell_check(line))"
   ]
  },
  {
   "cell_type": "markdown",
   "metadata": {},
   "source": [
    "Lets now merge the normalized names back to the original file, and check how effective was this cleaning:"
   ]
  },
  {
   "cell_type": "code",
   "execution_count": 13,
   "metadata": {},
   "outputs": [
    {
     "data": {
      "text/html": [
       "<div>\n",
       "<style scoped>\n",
       "    .dataframe tbody tr th:only-of-type {\n",
       "        vertical-align: middle;\n",
       "    }\n",
       "\n",
       "    .dataframe tbody tr th {\n",
       "        vertical-align: top;\n",
       "    }\n",
       "\n",
       "    .dataframe thead th {\n",
       "        text-align: right;\n",
       "    }\n",
       "</style>\n",
       "<table border=\"1\" class=\"dataframe\">\n",
       "  <thead>\n",
       "    <tr style=\"text-align: right;\">\n",
       "      <th></th>\n",
       "      <th>product_id</th>\n",
       "      <th>description</th>\n",
       "      <th>order_date</th>\n",
       "      <th>section</th>\n",
       "      <th>store</th>\n",
       "      <th>units_ordered</th>\n",
       "      <th>desc_normalized</th>\n",
       "    </tr>\n",
       "  </thead>\n",
       "  <tbody>\n",
       "    <tr>\n",
       "      <th>4032295</th>\n",
       "      <td>737.0</td>\n",
       "      <td>CHOCOLATE Y PRALINÉ</td>\n",
       "      <td>26/4/2009 0:00:00</td>\n",
       "      <td>0</td>\n",
       "      <td>CzUP</td>\n",
       "      <td>0,00</td>\n",
       "      <td>chocolate y pain</td>\n",
       "    </tr>\n",
       "    <tr>\n",
       "      <th>16796468</th>\n",
       "      <td>240.0</td>\n",
       "      <td>ECLER QUESO Y NUEZ</td>\n",
       "      <td>23/9/2008 0:00:00</td>\n",
       "      <td>0</td>\n",
       "      <td>GoUP</td>\n",
       "      <td>0,00</td>\n",
       "      <td>eclair queso y que</td>\n",
       "    </tr>\n",
       "    <tr>\n",
       "      <th>20729807</th>\n",
       "      <td>4427.0</td>\n",
       "      <td>TARTA TARTALETA DE CHOCOLATE Y PLATANO</td>\n",
       "      <td>12/2/2016 0:00:00</td>\n",
       "      <td>0</td>\n",
       "      <td>AnUP</td>\n",
       "      <td>1,00</td>\n",
       "      <td>tarta tartaleta de chocolate y platano</td>\n",
       "    </tr>\n",
       "    <tr>\n",
       "      <th>8716222</th>\n",
       "      <td>1454.0</td>\n",
       "      <td>PIRULETAS NARANJA</td>\n",
       "      <td>20/3/2010 0:00:00</td>\n",
       "      <td>0</td>\n",
       "      <td>JPUP</td>\n",
       "      <td>0,00</td>\n",
       "      <td>piruletas naranja</td>\n",
       "    </tr>\n",
       "    <tr>\n",
       "      <th>23208726</th>\n",
       "      <td>105.0</td>\n",
       "      <td>CROISSANT CHOCOLATE</td>\n",
       "      <td>11/8/2010 0:00:00</td>\n",
       "      <td>0</td>\n",
       "      <td>PoUP</td>\n",
       "      <td>1,00</td>\n",
       "      <td>croissant chocolate</td>\n",
       "    </tr>\n",
       "  </tbody>\n",
       "</table>\n",
       "</div>"
      ],
      "text/plain": [
       "          product_id                             description  \\\n",
       "4032295        737.0                     CHOCOLATE Y PRALINÉ   \n",
       "16796468       240.0                      ECLER QUESO Y NUEZ   \n",
       "20729807      4427.0  TARTA TARTALETA DE CHOCOLATE Y PLATANO   \n",
       "8716222       1454.0                       PIRULETAS NARANJA   \n",
       "23208726       105.0                     CROISSANT CHOCOLATE   \n",
       "\n",
       "                 order_date  section store units_ordered  \\\n",
       "4032295   26/4/2009 0:00:00        0  CzUP          0,00   \n",
       "16796468  23/9/2008 0:00:00        0  GoUP          0,00   \n",
       "20729807  12/2/2016 0:00:00        0  AnUP          1,00   \n",
       "8716222   20/3/2010 0:00:00        0  JPUP          0,00   \n",
       "23208726  11/8/2010 0:00:00        0  PoUP          1,00   \n",
       "\n",
       "                                 desc_normalized  \n",
       "4032295                         chocolate y pain  \n",
       "16796468                      eclair queso y que  \n",
       "20729807  tarta tartaleta de chocolate y platano  \n",
       "8716222                        piruletas naranja  \n",
       "23208726                     croissant chocolate  "
      ]
     },
     "execution_count": 13,
     "metadata": {},
     "output_type": "execute_result"
    }
   ],
   "source": [
    "to_merge = pd.DataFrame(dict(description = df_descriptions_unique, desc_normalized = df_descriptions_normalized))\n",
    "\n",
    "df_with_normalized_descriptions_transactions = pd.merge(df, to_merge, how='left', on = 'description').sort_values(by='order_date')\n",
    "df_with_normalized_descriptions_transactions.sample(5)"
   ]
  },
  {
   "cell_type": "code",
   "execution_count": 14,
   "metadata": {},
   "outputs": [
    {
     "name": "stdout",
     "output_type": "stream",
     "text": [
      "OK - 'df' has the same size as 'df_with_normalized_descriptions_transactions' \n"
     ]
    }
   ],
   "source": [
    "#Control merge size:\n",
    "if (df.shape[0] == df_with_normalized_descriptions_transactions.shape[0] ): \n",
    "    test0 = \"OK - 'df' has the same size as 'df_with_normalized_descriptions_transactions' \"\n",
    "else:\n",
    "    test0 = \"ERROR - 'df' has NOT the same size as 'df_with_normalized_descriptions_transactions' \"\n",
    "print(test0)"
   ]
  },
  {
   "cell_type": "code",
   "execution_count": 15,
   "metadata": {},
   "outputs": [
    {
     "name": "stdout",
     "output_type": "stream",
     "text": [
      "The product descritions were cleaned from 48517 unique names to 40041.\n"
     ]
    }
   ],
   "source": [
    "# Checking effectiveness of the data cleaning:\n",
    "unique_descriptions_raw = len(df['description'].unique())\n",
    "unique_descriptions_normalized = len(df_with_normalized_descriptions_transactions['desc_normalized'].unique())\n",
    "print('The product descritions were cleaned from {} unique names to {}.'.format(unique_descriptions_raw,unique_descriptions_normalized))"
   ]
  },
  {
   "cell_type": "markdown",
   "metadata": {},
   "source": [
    "Not super effective..."
   ]
  },
  {
   "cell_type": "code",
   "execution_count": 16,
   "metadata": {},
   "outputs": [],
   "source": [
    "# Saving the file to the intermiady folder\n",
    "output_path_df_with_normalized_descriptions_transactions = exit_path + 'data_with_normalized_names.csv'\n",
    "df_with_normalized_descriptions_transactions.to_csv(output_path_df_with_normalized_descriptions_transactions, index = False, sep = ';' )"
   ]
  },
  {
   "cell_type": "markdown",
   "metadata": {},
   "source": [
    "### 2.2 Identifying product descriptions that the client wants us to predict\n",
    "\n",
    "It is time to create the file that will be manually reviewed.\n",
    "\n",
    "- First, we compare the normalized descriptions with the list of products provided with the client, and suggest matches using the library fuzzywuzzy\n",
    "- Second, we will use the results from the other analysis.\n",
    "- third, we will manually evaluate if the results are good"
   ]
  },
  {
   "cell_type": "markdown",
   "metadata": {},
   "source": [
    "#### 2.2.1 Using the library fuzzywuzzy to compare the product normalized descriptions with the list of products provided by the client and suggest a match, or alternatively - \"match-not-found\""
   ]
  },
  {
   "cell_type": "code",
   "execution_count": 17,
   "metadata": {},
   "outputs": [],
   "source": [
    "df_normalized_desc_unique = pd.DataFrame(df_with_normalized_descriptions_transactions[\"desc_normalized\"].unique(), columns = ['desc_normalized'])"
   ]
  },
  {
   "cell_type": "code",
   "execution_count": 18,
   "metadata": {},
   "outputs": [],
   "source": [
    "def find_match (line, options = list_of_products):\n",
    "    \"Returns product match if the the calculated difference between strings is greater than 80, 'match-not-found' otherwise\"\n",
    "    if not(line is None) and type(line)== str:\n",
    "        highest = process.extractOne(line,list_of_products)\n",
    "        if not(highest is None) and highest[1] >80:\n",
    "            return highest[0]\n",
    "        else:\n",
    "            return 'match-not-found'\n",
    "    else:\n",
    "        return 'match-not-found'\n",
    "\n",
    "# Applying matching function to all product normalized descriptions\n",
    "df_normalized_desc_unique[\"target_names_fuzzywuuzy\"] = df_normalized_desc_unique[\"desc_normalized\"].apply(lambda line: find_match(line))"
   ]
  },
  {
   "cell_type": "markdown",
   "metadata": {},
   "source": [
    "Lets now evaluate how effectively did we match the normalized descriptions with the list that the client provided us:"
   ]
  },
  {
   "cell_type": "code",
   "execution_count": 19,
   "metadata": {},
   "outputs": [
    {
     "data": {
      "text/html": [
       "<div>\n",
       "<style scoped>\n",
       "    .dataframe tbody tr th:only-of-type {\n",
       "        vertical-align: middle;\n",
       "    }\n",
       "\n",
       "    .dataframe tbody tr th {\n",
       "        vertical-align: top;\n",
       "    }\n",
       "\n",
       "    .dataframe thead th {\n",
       "        text-align: right;\n",
       "    }\n",
       "</style>\n",
       "<table border=\"1\" class=\"dataframe\">\n",
       "  <thead>\n",
       "    <tr style=\"text-align: right;\">\n",
       "      <th></th>\n",
       "      <th>desc_normalized</th>\n",
       "      <th>target_names_fuzzywuuzy</th>\n",
       "    </tr>\n",
       "  </thead>\n",
       "  <tbody>\n",
       "    <tr>\n",
       "      <th>380</th>\n",
       "      <td>mousse chocolate blanco</td>\n",
       "      <td>match-not-found</td>\n",
       "    </tr>\n",
       "    <tr>\n",
       "      <th>417</th>\n",
       "      <td>postres mousse chocolate en vasito</td>\n",
       "      <td>match-not-found</td>\n",
       "    </tr>\n",
       "    <tr>\n",
       "      <th>419</th>\n",
       "      <td>postres mousse frutas bosque</td>\n",
       "      <td>match-not-found</td>\n",
       "    </tr>\n",
       "    <tr>\n",
       "      <th>483</th>\n",
       "      <td>postres mousse de limon</td>\n",
       "      <td>match-not-found</td>\n",
       "    </tr>\n",
       "    <tr>\n",
       "      <th>502</th>\n",
       "      <td>petit yogur mousse praline</td>\n",
       "      <td>croissant petit</td>\n",
       "    </tr>\n",
       "    <tr>\n",
       "      <th>570</th>\n",
       "      <td>mousse 3 chocolates 3</td>\n",
       "      <td>tarta mousse 3 chocolates</td>\n",
       "    </tr>\n",
       "    <tr>\n",
       "      <th>571</th>\n",
       "      <td>mousse 3 chocolates 1</td>\n",
       "      <td>tarta mousse 3 chocolates</td>\n",
       "    </tr>\n",
       "    <tr>\n",
       "      <th>572</th>\n",
       "      <td>mousse 3 chocolates 2</td>\n",
       "      <td>tarta mousse 3 chocolates</td>\n",
       "    </tr>\n",
       "    <tr>\n",
       "      <th>573</th>\n",
       "      <td>postres mousse tres chocolates</td>\n",
       "      <td>match-not-found</td>\n",
       "    </tr>\n",
       "    <tr>\n",
       "      <th>618</th>\n",
       "      <td>mousse de perigot</td>\n",
       "      <td>palmera de chocolatetarta opera</td>\n",
       "    </tr>\n",
       "  </tbody>\n",
       "</table>\n",
       "</div>"
      ],
      "text/plain": [
       "                        desc_normalized          target_names_fuzzywuuzy\n",
       "380             mousse chocolate blanco                  match-not-found\n",
       "417  postres mousse chocolate en vasito                  match-not-found\n",
       "419        postres mousse frutas bosque                  match-not-found\n",
       "483             postres mousse de limon                  match-not-found\n",
       "502          petit yogur mousse praline                  croissant petit\n",
       "570               mousse 3 chocolates 3        tarta mousse 3 chocolates\n",
       "571               mousse 3 chocolates 1        tarta mousse 3 chocolates\n",
       "572               mousse 3 chocolates 2        tarta mousse 3 chocolates\n",
       "573      postres mousse tres chocolates                  match-not-found\n",
       "618                   mousse de perigot  palmera de chocolatetarta opera"
      ]
     },
     "execution_count": 19,
     "metadata": {},
     "output_type": "execute_result"
    }
   ],
   "source": [
    "# Lets review the effectiveness filtering by 'mousse '. The expected result is that all 'mousse 3 chocolates' match\n",
    "df_normalized_desc_unique[df_normalized_desc_unique['desc_normalized'].str.contains('mousse')].head(10)"
   ]
  },
  {
   "cell_type": "markdown",
   "metadata": {},
   "source": [
    "As we can see... its not actually very good, lets try something different."
   ]
  },
  {
   "cell_type": "markdown",
   "metadata": {},
   "source": [
    "#### 2.2.1 Using the results from the other analysis\n",
    "\n",
    "Lets now use the results from the manual analysis to see how efective the measure was:"
   ]
  },
  {
   "cell_type": "code",
   "execution_count": 20,
   "metadata": {},
   "outputs": [],
   "source": [
    "# Since this matching is performed at id level, \n",
    "# lets create a new dataset with unique product_id, descriptions, and evaluate it:\n",
    "df_normalized_id_desc_unique = df_with_normalized_descriptions_transactions[[\"product_id\",'desc_normalized']].drop_duplicates()"
   ]
  },
  {
   "cell_type": "code",
   "execution_count": 21,
   "metadata": {},
   "outputs": [],
   "source": [
    "dict_of_products_matches={100: 'croissant', \n",
    "                  101: 'croissant',\n",
    "                  102: 'croissant',\n",
    "                  103: 'croissant petit',\n",
    "                  9999: 'tarta mousse 3 chocolates', # almost only for order, creating a new id for this product is suggested\n",
    "                  462: 'tarta de manzana 2º',\n",
    "                  182: 'palmera de chocolate', # palmeras: 140\n",
    "                  414: 'tarta opera', # 9999, for order, mostly. If included, creating a new id for this product is suggested\n",
    "                  4511:'postre fresas y mascarpone',\n",
    "                  459: 'milhojas frambuesa 2º',\n",
    "                  112: 'tortel',\n",
    "                  115: 'baguette'}"
   ]
  },
  {
   "cell_type": "code",
   "execution_count": 22,
   "metadata": {},
   "outputs": [],
   "source": [
    "def target_names_a(product_id, dict_of_products_matches= dict_of_products_matches):\n",
    "    'Returns match if the product_id is found within the given dict or, otherise \"match-not-found\"'\n",
    "    if not(product_id is None) and not(math.isnan(product_id)) and int(product_id)  in dict_of_products_matches:\n",
    "        return dict_of_products_matches[int(product_id)]\n",
    "    else:\n",
    "        return 'match-not-found'\n",
    "    \n",
    "df_normalized_id_desc_unique['target_names_manual_analysis']=df_normalized_id_desc_unique[\"product_id\"].apply(lambda line: target_names_a(line))"
   ]
  },
  {
   "cell_type": "markdown",
   "metadata": {},
   "source": [
    "Lets now check how effective this was:"
   ]
  },
  {
   "cell_type": "code",
   "execution_count": 23,
   "metadata": {
    "scrolled": true
   },
   "outputs": [
    {
     "data": {
      "text/html": [
       "<div>\n",
       "<style scoped>\n",
       "    .dataframe tbody tr th:only-of-type {\n",
       "        vertical-align: middle;\n",
       "    }\n",
       "\n",
       "    .dataframe tbody tr th {\n",
       "        vertical-align: top;\n",
       "    }\n",
       "\n",
       "    .dataframe thead th {\n",
       "        text-align: right;\n",
       "    }\n",
       "</style>\n",
       "<table border=\"1\" class=\"dataframe\">\n",
       "  <thead>\n",
       "    <tr style=\"text-align: right;\">\n",
       "      <th></th>\n",
       "      <th>product_id</th>\n",
       "      <th>desc_normalized</th>\n",
       "      <th>target_names_manual_analysis</th>\n",
       "    </tr>\n",
       "  </thead>\n",
       "  <tbody>\n",
       "    <tr>\n",
       "      <th>2498667</th>\n",
       "      <td>618.0</td>\n",
       "      <td>mousse chocolate blanco</td>\n",
       "      <td>match-not-found</td>\n",
       "    </tr>\n",
       "    <tr>\n",
       "      <th>2479507</th>\n",
       "      <td>877.0</td>\n",
       "      <td>postres mousse chocolate en vasito</td>\n",
       "      <td>match-not-found</td>\n",
       "    </tr>\n",
       "    <tr>\n",
       "      <th>2479509</th>\n",
       "      <td>879.0</td>\n",
       "      <td>postres mousse frutas bosque</td>\n",
       "      <td>match-not-found</td>\n",
       "    </tr>\n",
       "    <tr>\n",
       "      <th>13734845</th>\n",
       "      <td>821.0</td>\n",
       "      <td>postres mousse de limon</td>\n",
       "      <td>match-not-found</td>\n",
       "    </tr>\n",
       "    <tr>\n",
       "      <th>13734826</th>\n",
       "      <td>728.0</td>\n",
       "      <td>petit yogur mousse praline</td>\n",
       "      <td>match-not-found</td>\n",
       "    </tr>\n",
       "    <tr>\n",
       "      <th>25009569</th>\n",
       "      <td>453.0</td>\n",
       "      <td>mousse 3 chocolates 3</td>\n",
       "      <td>match-not-found</td>\n",
       "    </tr>\n",
       "    <tr>\n",
       "      <th>25009568</th>\n",
       "      <td>452.0</td>\n",
       "      <td>mousse 3 chocolates 1</td>\n",
       "      <td>match-not-found</td>\n",
       "    </tr>\n",
       "    <tr>\n",
       "      <th>25009567</th>\n",
       "      <td>451.0</td>\n",
       "      <td>mousse 3 chocolates 2</td>\n",
       "      <td>match-not-found</td>\n",
       "    </tr>\n",
       "    <tr>\n",
       "      <th>25009566</th>\n",
       "      <td>450.0</td>\n",
       "      <td>postres mousse tres chocolates</td>\n",
       "      <td>match-not-found</td>\n",
       "    </tr>\n",
       "    <tr>\n",
       "      <th>24921912</th>\n",
       "      <td>312.0</td>\n",
       "      <td>mousse de perigot</td>\n",
       "      <td>match-not-found</td>\n",
       "    </tr>\n",
       "    <tr>\n",
       "      <th>24921911</th>\n",
       "      <td>311.0</td>\n",
       "      <td>mousse de salmon</td>\n",
       "      <td>match-not-found</td>\n",
       "    </tr>\n",
       "    <tr>\n",
       "      <th>24921910</th>\n",
       "      <td>310.0</td>\n",
       "      <td>mousse de con opcion</td>\n",
       "      <td>match-not-found</td>\n",
       "    </tr>\n",
       "    <tr>\n",
       "      <th>24921909</th>\n",
       "      <td>309.0</td>\n",
       "      <td>mousse de con</td>\n",
       "      <td>match-not-found</td>\n",
       "    </tr>\n",
       "    <tr>\n",
       "      <th>21890758</th>\n",
       "      <td>425.0</td>\n",
       "      <td>postres mousse naranja</td>\n",
       "      <td>match-not-found</td>\n",
       "    </tr>\n",
       "    <tr>\n",
       "      <th>21879345</th>\n",
       "      <td>754.0</td>\n",
       "      <td>cartel de mousse de pistacho</td>\n",
       "      <td>match-not-found</td>\n",
       "    </tr>\n",
       "  </tbody>\n",
       "</table>\n",
       "</div>"
      ],
      "text/plain": [
       "          product_id                     desc_normalized  \\\n",
       "2498667        618.0             mousse chocolate blanco   \n",
       "2479507        877.0  postres mousse chocolate en vasito   \n",
       "2479509        879.0        postres mousse frutas bosque   \n",
       "13734845       821.0             postres mousse de limon   \n",
       "13734826       728.0          petit yogur mousse praline   \n",
       "25009569       453.0               mousse 3 chocolates 3   \n",
       "25009568       452.0               mousse 3 chocolates 1   \n",
       "25009567       451.0               mousse 3 chocolates 2   \n",
       "25009566       450.0      postres mousse tres chocolates   \n",
       "24921912       312.0                   mousse de perigot   \n",
       "24921911       311.0                    mousse de salmon   \n",
       "24921910       310.0                mousse de con opcion   \n",
       "24921909       309.0                       mousse de con   \n",
       "21890758       425.0              postres mousse naranja   \n",
       "21879345       754.0        cartel de mousse de pistacho   \n",
       "\n",
       "         target_names_manual_analysis  \n",
       "2498667               match-not-found  \n",
       "2479507               match-not-found  \n",
       "2479509               match-not-found  \n",
       "13734845              match-not-found  \n",
       "13734826              match-not-found  \n",
       "25009569              match-not-found  \n",
       "25009568              match-not-found  \n",
       "25009567              match-not-found  \n",
       "25009566              match-not-found  \n",
       "24921912              match-not-found  \n",
       "24921911              match-not-found  \n",
       "24921910              match-not-found  \n",
       "24921909              match-not-found  \n",
       "21890758              match-not-found  \n",
       "21879345              match-not-found  "
      ]
     },
     "execution_count": 23,
     "metadata": {},
     "output_type": "execute_result"
    }
   ],
   "source": [
    "# Lets review the effectiveness filtering by 'mousse '. The expected result is that all 'mousse 3 chocolates' match\n",
    "df_normalized_id_desc_unique[df_normalized_id_desc_unique['desc_normalized'].str.contains('mousse')].head(15)"
   ]
  },
  {
   "cell_type": "markdown",
   "metadata": {},
   "source": [
    "Again, not very good, since most of the 'mousse 3 chocolates' are unmatched."
   ]
  },
  {
   "cell_type": "markdown",
   "metadata": {},
   "source": [
    "It is clear that we need an better way to match the results. Lets try doing keywords filtering product by product."
   ]
  },
  {
   "cell_type": "code",
   "execution_count": 24,
   "metadata": {},
   "outputs": [],
   "source": [
    "# TO DELETE!\n",
    "output_path_df_with_normalized_descriptions_transactions = exit_path + 'data_with_normalized_names.csv'\n",
    "df_with_normalized_descriptions_transactions = pd.read_csv(output_path_df_with_normalized_descriptions_transactions, sep = ';' )\n"
   ]
  },
  {
   "cell_type": "markdown",
   "metadata": {},
   "source": [
    "### 2.3 Review Product by Product"
   ]
  },
  {
   "cell_type": "code",
   "execution_count": 25,
   "metadata": {},
   "outputs": [],
   "source": [
    "#First, lets create again a dataframe with unique descriptions\n",
    "unique_normalized_decriptions = df_with_normalized_descriptions_transactions[['product_id','desc_normalized']].drop_duplicates()\n",
    "\n",
    "#And a empty list to add all the unitary analysis. It will be use to concatenate results.\n",
    "list_of_dfs = []"
   ]
  },
  {
   "cell_type": "code",
   "execution_count": 26,
   "metadata": {},
   "outputs": [],
   "source": [
    "# Functions that we will use:\n",
    "\n",
    "def plot_count_per_id(df):\n",
    "    transactions_by_id = df.groupby(\"product_id\")['desc_normalized'].count()\n",
    "    transactions_by_id.plot.bar()"
   ]
  },
  {
   "cell_type": "markdown",
   "metadata": {},
   "source": [
    "#### 2.3.1 Matching: milhojas de frambuesa 2º"
   ]
  },
  {
   "cell_type": "code",
   "execution_count": 27,
   "metadata": {},
   "outputs": [],
   "source": [
    "def filter_milhojas (df):\n",
    "    'Filters the product descriptions of given dataset by \"milhojas\" and \"frambuesa 2\"'\n",
    "    milhojas = df[df['desc_normalized'].str.contains('milhojas')]\n",
    "    milhojas_frambuesa = milhojas[milhojas['desc_normalized'].str.contains('frambuesa 2')].copy()\n",
    "    return milhojas_frambuesa\n"
   ]
  },
  {
   "cell_type": "code",
   "execution_count": 28,
   "metadata": {},
   "outputs": [
    {
     "data": {
      "text/html": [
       "<div>\n",
       "<style scoped>\n",
       "    .dataframe tbody tr th:only-of-type {\n",
       "        vertical-align: middle;\n",
       "    }\n",
       "\n",
       "    .dataframe tbody tr th {\n",
       "        vertical-align: top;\n",
       "    }\n",
       "\n",
       "    .dataframe thead th {\n",
       "        text-align: right;\n",
       "    }\n",
       "</style>\n",
       "<table border=\"1\" class=\"dataframe\">\n",
       "  <thead>\n",
       "    <tr style=\"text-align: right;\">\n",
       "      <th></th>\n",
       "      <th>product_id</th>\n",
       "      <th>description</th>\n",
       "      <th>order_date</th>\n",
       "      <th>section</th>\n",
       "      <th>store</th>\n",
       "      <th>units_ordered</th>\n",
       "      <th>desc_normalized</th>\n",
       "    </tr>\n",
       "  </thead>\n",
       "  <tbody>\n",
       "    <tr>\n",
       "      <th>336</th>\n",
       "      <td>414.0</td>\n",
       "      <td>TARTA  MILHOJAS   FRAMBUESA  2º</td>\n",
       "      <td>1/1/2008 0:00:00</td>\n",
       "      <td>0</td>\n",
       "      <td>VeUp</td>\n",
       "      <td>0,00</td>\n",
       "      <td>tarta milhojas frambuesa 2</td>\n",
       "    </tr>\n",
       "    <tr>\n",
       "      <th>1129</th>\n",
       "      <td>459.0</td>\n",
       "      <td>MILHOJAS   FRAMBUESA 2º</td>\n",
       "      <td>1/1/2008 0:00:00</td>\n",
       "      <td>0</td>\n",
       "      <td>MsUP</td>\n",
       "      <td>0,00</td>\n",
       "      <td>milhojas frambuesa 2</td>\n",
       "    </tr>\n",
       "    <tr>\n",
       "      <th>1322</th>\n",
       "      <td>459.0</td>\n",
       "      <td>MILHOJAS   FRAMBUESA 2º</td>\n",
       "      <td>1/1/2008 0:00:00</td>\n",
       "      <td>0</td>\n",
       "      <td>ZiUO</td>\n",
       "      <td>0,00</td>\n",
       "      <td>milhojas frambuesa 2</td>\n",
       "    </tr>\n",
       "    <tr>\n",
       "      <th>1358</th>\n",
       "      <td>459.0</td>\n",
       "      <td>MILHOJAS   FRAMBUESA 2º</td>\n",
       "      <td>1/1/2008 0:00:00</td>\n",
       "      <td>0</td>\n",
       "      <td>VeUp</td>\n",
       "      <td>2,00</td>\n",
       "      <td>milhojas frambuesa 2</td>\n",
       "    </tr>\n",
       "    <tr>\n",
       "      <th>1370</th>\n",
       "      <td>414.0</td>\n",
       "      <td>TARTA  MILHOJAS   FRAMBUESA  2º</td>\n",
       "      <td>1/1/2008 0:00:00</td>\n",
       "      <td>0</td>\n",
       "      <td>ZiUO</td>\n",
       "      <td>0,00</td>\n",
       "      <td>tarta milhojas frambuesa 2</td>\n",
       "    </tr>\n",
       "  </tbody>\n",
       "</table>\n",
       "</div>"
      ],
      "text/plain": [
       "      product_id                      description        order_date  section  \\\n",
       "336        414.0  TARTA  MILHOJAS   FRAMBUESA  2º  1/1/2008 0:00:00        0   \n",
       "1129       459.0          MILHOJAS   FRAMBUESA 2º  1/1/2008 0:00:00        0   \n",
       "1322       459.0          MILHOJAS   FRAMBUESA 2º  1/1/2008 0:00:00        0   \n",
       "1358       459.0          MILHOJAS   FRAMBUESA 2º  1/1/2008 0:00:00        0   \n",
       "1370       414.0  TARTA  MILHOJAS   FRAMBUESA  2º  1/1/2008 0:00:00        0   \n",
       "\n",
       "     store units_ordered             desc_normalized  \n",
       "336   VeUp          0,00  tarta milhojas frambuesa 2  \n",
       "1129  MsUP          0,00        milhojas frambuesa 2  \n",
       "1322  ZiUO          0,00        milhojas frambuesa 2  \n",
       "1358  VeUp          2,00        milhojas frambuesa 2  \n",
       "1370  ZiUO          0,00  tarta milhojas frambuesa 2  "
      ]
     },
     "execution_count": 28,
     "metadata": {},
     "output_type": "execute_result"
    }
   ],
   "source": [
    "# Filter the transactions dataset\n",
    "milhojas_frambuesa_transacciones=filter_milhojas(df_with_normalized_descriptions_transactions)\n",
    "milhojas_frambuesa_transacciones.head()"
   ]
  },
  {
   "cell_type": "code",
   "execution_count": 29,
   "metadata": {},
   "outputs": [
    {
     "data": {
      "image/png": "[encoded data removed]",
      "text/plain": [
       "<Figure size 432x288 with 1 Axes>"
      ]
     },
     "metadata": {},
     "output_type": "display_data"
    }
   ],
   "source": [
    "# Plot the ditribution of 'product_id'\n",
    "plot_count_per_id(milhojas_frambuesa_transacciones)"
   ]
  },
  {
   "cell_type": "markdown",
   "metadata": {},
   "source": [
    "Lets explore the names distribution of 414, 459 and 9999:"
   ]
  },
  {
   "cell_type": "code",
   "execution_count": 30,
   "metadata": {},
   "outputs": [
    {
     "data": {
      "text/plain": [
       "milhojas frambuesa 2                       167542\n",
       "milhojas frambuesa 1                         1311\n",
       "tiras de milhojas rellena solo de crema       532\n",
       "milhojas frambuesa 3                          437\n",
       "milhojas frambuesa 2 solo crema               399\n",
       "Name: desc_normalized, dtype: int64"
      ]
     },
     "execution_count": 30,
     "metadata": {},
     "output_type": "execute_result"
    }
   ],
   "source": [
    "#Names distribution for product_id = 459:\n",
    "df_with_normalized_descriptions_transactions[df_with_normalized_descriptions_transactions['product_id']==459.0]['desc_normalized'].value_counts().head()"
   ]
  },
  {
   "cell_type": "code",
   "execution_count": 31,
   "metadata": {},
   "outputs": [
    {
     "data": {
      "text/plain": [
       "tarta mus tres chocolates 2    4807\n",
       "tarta milhojas frambuesa 2     4123\n",
       "tarta limon 3                  3420\n",
       "tarta milhojas 2               1824\n",
       "tarta tres chocolates 2        1805\n",
       "Name: desc_normalized, dtype: int64"
      ]
     },
     "execution_count": 31,
     "metadata": {},
     "output_type": "execute_result"
    }
   ],
   "source": [
    "#Names distribution for product_id = 414:\n",
    "df_with_normalized_descriptions_transactions[df_with_normalized_descriptions_transactions['product_id']==414.0]['desc_normalized'].value_counts().head()"
   ]
  },
  {
   "cell_type": "code",
   "execution_count": 32,
   "metadata": {},
   "outputs": [
    {
     "data": {
      "text/plain": [
       "tarta milhojas frambuesa 2                  950\n",
       "tiras de milhojas solo crema                912\n",
       "encargo tarta milhojas del 1                912\n",
       "tarta milhojas de frambuesa del 3           855\n",
       "encargo tarta milhojas y frambuesa del 1    798\n",
       "Name: desc_normalized, dtype: int64"
      ]
     },
     "execution_count": 32,
     "metadata": {},
     "output_type": "execute_result"
    }
   ],
   "source": [
    "#Names distribution for product_id = 9999:\n",
    "df_with_normalized_descriptions_transactions[(df_with_normalized_descriptions_transactions['product_id']==9999.0) & (df_with_normalized_descriptions_transactions['desc_normalized'].str.contains('milhoja'))]['desc_normalized'].value_counts().head()"
   ]
  },
  {
   "cell_type": "markdown",
   "metadata": {},
   "source": [
    "It seems there is a strong correlation with id 459, however 459 it also includes other types of 'milhojas'. In addition, 'milhojas de frambuesa 2º' is also included in id number 414, which seems to be a multiple 'tartas' id, and id 9999, which is the id used for custom orders.\n",
    "\n",
    "For these reasons, we decide to filter milhojas based on the description (filtering the dataframe with only disting 'product_id' and 'des_normalized' values:"
   ]
  },
  {
   "cell_type": "code",
   "execution_count": 33,
   "metadata": {},
   "outputs": [
    {
     "data": {
      "text/html": [
       "<div>\n",
       "<style scoped>\n",
       "    .dataframe tbody tr th:only-of-type {\n",
       "        vertical-align: middle;\n",
       "    }\n",
       "\n",
       "    .dataframe tbody tr th {\n",
       "        vertical-align: top;\n",
       "    }\n",
       "\n",
       "    .dataframe thead th {\n",
       "        text-align: right;\n",
       "    }\n",
       "</style>\n",
       "<table border=\"1\" class=\"dataframe\">\n",
       "  <thead>\n",
       "    <tr style=\"text-align: right;\">\n",
       "      <th></th>\n",
       "      <th>product_id</th>\n",
       "      <th>desc_normalized</th>\n",
       "      <th>target_names_prod_by_prod</th>\n",
       "    </tr>\n",
       "  </thead>\n",
       "  <tbody>\n",
       "    <tr>\n",
       "      <th>14193192</th>\n",
       "      <td>9999.0</td>\n",
       "      <td>encargo milhojas frambuesa 2 felix cumple laura</td>\n",
       "      <td>milhojas frambuesa</td>\n",
       "    </tr>\n",
       "    <tr>\n",
       "      <th>14942349</th>\n",
       "      <td>459.0</td>\n",
       "      <td>milhojas frambuesa 2 troceada en raciones</td>\n",
       "      <td>milhojas frambuesa</td>\n",
       "    </tr>\n",
       "    <tr>\n",
       "      <th>16726331</th>\n",
       "      <td>9999.0</td>\n",
       "      <td>encargo tarta milhojas de frambuesa 20 y</td>\n",
       "      <td>milhojas frambuesa</td>\n",
       "    </tr>\n",
       "    <tr>\n",
       "      <th>11707135</th>\n",
       "      <td>459.0</td>\n",
       "      <td>milhojas frambuesa 2 cartel grecia con los de ...</td>\n",
       "      <td>milhojas frambuesa</td>\n",
       "    </tr>\n",
       "    <tr>\n",
       "      <th>4769346</th>\n",
       "      <td>9999.0</td>\n",
       "      <td>encargo tarta milhojas frambuesa 2</td>\n",
       "      <td>milhojas frambuesa</td>\n",
       "    </tr>\n",
       "  </tbody>\n",
       "</table>\n",
       "</div>"
      ],
      "text/plain": [
       "          product_id                                    desc_normalized  \\\n",
       "14193192      9999.0    encargo milhojas frambuesa 2 felix cumple laura   \n",
       "14942349       459.0          milhojas frambuesa 2 troceada en raciones   \n",
       "16726331      9999.0           encargo tarta milhojas de frambuesa 20 y   \n",
       "11707135       459.0  milhojas frambuesa 2 cartel grecia con los de ...   \n",
       "4769346       9999.0                 encargo tarta milhojas frambuesa 2   \n",
       "\n",
       "         target_names_prod_by_prod  \n",
       "14193192        milhojas frambuesa  \n",
       "14942349        milhojas frambuesa  \n",
       "16726331        milhojas frambuesa  \n",
       "11707135        milhojas frambuesa  \n",
       "4769346         milhojas frambuesa  "
      ]
     },
     "execution_count": 33,
     "metadata": {},
     "output_type": "execute_result"
    }
   ],
   "source": [
    "#Save unique product_id and product_description:\n",
    "milhojas_frambuesa = filter_milhojas(unique_normalized_decriptions)\n",
    "milhojas_frambuesa['target_names_prod_by_prod'] = 'milhojas frambuesa'\n",
    "list_of_dfs.append(milhojas_frambuesa)\n",
    "milhojas_frambuesa.sample(5)"
   ]
  },
  {
   "cell_type": "markdown",
   "metadata": {},
   "source": [
    "#### 2.3.2 Matching: croissant petite\n",
    "\n",
    "From the analysis performed in notebook \"x01-transactions_to_partial_results-yy.ipynb\", it was concluded that 'croissant petite' had an strong correlation with id number '103' however, before commiting to filtering by that ID, lets plot the distribution of count of lines per ID, that satisfies the filters of the following function, from the transaction dataset, in order to :"
   ]
  },
  {
   "cell_type": "code",
   "execution_count": 34,
   "metadata": {},
   "outputs": [],
   "source": [
    "def filter_croissant_petit (df):\n",
    "    croissant = df[df['desc_normalized'].str.contains('croissant')].copy()\n",
    "    croissant_petite = croissant[croissant['desc_normalized'].str.contains('petit')].copy()\n",
    "    return croissant_petite"
   ]
  },
  {
   "cell_type": "code",
   "execution_count": 35,
   "metadata": {},
   "outputs": [
    {
     "data": {
      "text/html": [
       "<div>\n",
       "<style scoped>\n",
       "    .dataframe tbody tr th:only-of-type {\n",
       "        vertical-align: middle;\n",
       "    }\n",
       "\n",
       "    .dataframe tbody tr th {\n",
       "        vertical-align: top;\n",
       "    }\n",
       "\n",
       "    .dataframe thead th {\n",
       "        text-align: right;\n",
       "    }\n",
       "</style>\n",
       "<table border=\"1\" class=\"dataframe\">\n",
       "  <thead>\n",
       "    <tr style=\"text-align: right;\">\n",
       "      <th></th>\n",
       "      <th>product_id</th>\n",
       "      <th>description</th>\n",
       "      <th>order_date</th>\n",
       "      <th>section</th>\n",
       "      <th>store</th>\n",
       "      <th>units_ordered</th>\n",
       "      <th>desc_normalized</th>\n",
       "    </tr>\n",
       "  </thead>\n",
       "  <tbody>\n",
       "    <tr>\n",
       "      <th>242</th>\n",
       "      <td>103.0</td>\n",
       "      <td>CROISSANT PETIT</td>\n",
       "      <td>1/1/2008 0:00:00</td>\n",
       "      <td>0</td>\n",
       "      <td>VeUp</td>\n",
       "      <td>18,00</td>\n",
       "      <td>croissant petit</td>\n",
       "    </tr>\n",
       "    <tr>\n",
       "      <th>314</th>\n",
       "      <td>102.0</td>\n",
       "      <td>PETIT  CROISSANTS  ALARGADOS  FUTBOL</td>\n",
       "      <td>1/1/2008 0:00:00</td>\n",
       "      <td>0</td>\n",
       "      <td>VeUp</td>\n",
       "      <td>0,00</td>\n",
       "      <td>petit croissant alargados futbol</td>\n",
       "    </tr>\n",
       "    <tr>\n",
       "      <th>1368</th>\n",
       "      <td>102.0</td>\n",
       "      <td>PETIT  CROISSANTS  ALARGADOS  FUTBOL</td>\n",
       "      <td>1/1/2008 0:00:00</td>\n",
       "      <td>0</td>\n",
       "      <td>ZiUO</td>\n",
       "      <td>0,00</td>\n",
       "      <td>petit croissant alargados futbol</td>\n",
       "    </tr>\n",
       "    <tr>\n",
       "      <th>1488</th>\n",
       "      <td>103.0</td>\n",
       "      <td>CROISSANT PETIT</td>\n",
       "      <td>1/1/2008 0:00:00</td>\n",
       "      <td>0</td>\n",
       "      <td>ZiUO</td>\n",
       "      <td>0,00</td>\n",
       "      <td>croissant petit</td>\n",
       "    </tr>\n",
       "    <tr>\n",
       "      <th>1579</th>\n",
       "      <td>103.0</td>\n",
       "      <td>CROISSANT PETIT</td>\n",
       "      <td>1/1/2008 0:00:00</td>\n",
       "      <td>0</td>\n",
       "      <td>AeUP</td>\n",
       "      <td>0,00</td>\n",
       "      <td>croissant petit</td>\n",
       "    </tr>\n",
       "  </tbody>\n",
       "</table>\n",
       "</div>"
      ],
      "text/plain": [
       "      product_id                           description        order_date  \\\n",
       "242        103.0                       CROISSANT PETIT  1/1/2008 0:00:00   \n",
       "314        102.0  PETIT  CROISSANTS  ALARGADOS  FUTBOL  1/1/2008 0:00:00   \n",
       "1368       102.0  PETIT  CROISSANTS  ALARGADOS  FUTBOL  1/1/2008 0:00:00   \n",
       "1488       103.0                       CROISSANT PETIT  1/1/2008 0:00:00   \n",
       "1579       103.0                       CROISSANT PETIT  1/1/2008 0:00:00   \n",
       "\n",
       "      section store units_ordered                   desc_normalized  \n",
       "242         0  VeUp         18,00                   croissant petit  \n",
       "314         0  VeUp          0,00  petit croissant alargados futbol  \n",
       "1368        0  ZiUO          0,00  petit croissant alargados futbol  \n",
       "1488        0  ZiUO          0,00                   croissant petit  \n",
       "1579        0  AeUP          0,00                   croissant petit  "
      ]
     },
     "execution_count": 35,
     "metadata": {},
     "output_type": "execute_result"
    }
   ],
   "source": [
    "# Plotting the results:\n",
    "transactions_croissant_petite = filter_croissant_petit(df_with_normalized_descriptions_transactions)\n",
    "transactions_croissant_petite.head()"
   ]
  },
  {
   "cell_type": "code",
   "execution_count": 36,
   "metadata": {},
   "outputs": [
    {
     "data": {
      "image/png": "[encoded data removed]",
      "text/plain": [
       "<Figure size 432x288 with 1 Axes>"
      ]
     },
     "metadata": {},
     "output_type": "display_data"
    }
   ],
   "source": [
    "plot_count_per_id(transactions_croissant_petite)"
   ]
  },
  {
   "cell_type": "markdown",
   "metadata": {},
   "source": [
    "It is clear that id '103' represents the 'croissant petite';  in fact, after reviweing the data with the client, he suggested only taking 103."
   ]
  },
  {
   "cell_type": "code",
   "execution_count": 37,
   "metadata": {},
   "outputs": [
    {
     "data": {
      "text/html": [
       "<div>\n",
       "<style scoped>\n",
       "    .dataframe tbody tr th:only-of-type {\n",
       "        vertical-align: middle;\n",
       "    }\n",
       "\n",
       "    .dataframe tbody tr th {\n",
       "        vertical-align: top;\n",
       "    }\n",
       "\n",
       "    .dataframe thead th {\n",
       "        text-align: right;\n",
       "    }\n",
       "</style>\n",
       "<table border=\"1\" class=\"dataframe\">\n",
       "  <thead>\n",
       "    <tr style=\"text-align: right;\">\n",
       "      <th></th>\n",
       "      <th>product_id</th>\n",
       "      <th>desc_normalized</th>\n",
       "      <th>target_names_prod_by_prod</th>\n",
       "    </tr>\n",
       "  </thead>\n",
       "  <tbody>\n",
       "    <tr>\n",
       "      <th>242</th>\n",
       "      <td>103.0</td>\n",
       "      <td>croissant petit</td>\n",
       "      <td>croissant petit</td>\n",
       "    </tr>\n",
       "    <tr>\n",
       "      <th>331</th>\n",
       "      <td>103.0</td>\n",
       "      <td>mini napolitanas crema</td>\n",
       "      <td>croissant petit</td>\n",
       "    </tr>\n",
       "    <tr>\n",
       "      <th>332</th>\n",
       "      <td>103.0</td>\n",
       "      <td>mini napolitanas chocolate</td>\n",
       "      <td>croissant petit</td>\n",
       "    </tr>\n",
       "    <tr>\n",
       "      <th>333</th>\n",
       "      <td>103.0</td>\n",
       "      <td>focaccias futbol</td>\n",
       "      <td>croissant petit</td>\n",
       "    </tr>\n",
       "    <tr>\n",
       "      <th>89738</th>\n",
       "      <td>103.0</td>\n",
       "      <td>baguet multicereales</td>\n",
       "      <td>croissant petit</td>\n",
       "    </tr>\n",
       "  </tbody>\n",
       "</table>\n",
       "</div>"
      ],
      "text/plain": [
       "       product_id             desc_normalized target_names_prod_by_prod\n",
       "242         103.0             croissant petit           croissant petit\n",
       "331         103.0      mini napolitanas crema           croissant petit\n",
       "332         103.0  mini napolitanas chocolate           croissant petit\n",
       "333         103.0            focaccias futbol           croissant petit\n",
       "89738       103.0        baguet multicereales           croissant petit"
      ]
     },
     "execution_count": 37,
     "metadata": {},
     "output_type": "execute_result"
    }
   ],
   "source": [
    "# Saving id=103 as croissant petit\n",
    "croissant_petit = unique_normalized_decriptions[unique_normalized_decriptions['product_id']==103.0].copy()\n",
    "croissant_petit['target_names_prod_by_prod'] = 'croissant petit'\n",
    "list_of_dfs.append(croissant_petit)\n",
    "croissant_petit.head()"
   ]
  },
  {
   "cell_type": "markdown",
   "metadata": {},
   "source": [
    "#### 2.3.3 Matching: croissant\n",
    "\n",
    "From the analysis performed in notebook \"x01-transactions_to_partial_results-yy.ipynb\", it was concluded that 'croissant simple' had an strong correlation with id number '100' and '101' however, before commiting to filtering by that ID, lets plot the distribution of count of lines per ID, that satisfies the filters of the following function, from the transaction dataset, in order to :"
   ]
  },
  {
   "cell_type": "code",
   "execution_count": 38,
   "metadata": {},
   "outputs": [],
   "source": [
    "def filter_croissant_simple (df):\n",
    "    croissant = df[df['desc_normalized'].str.contains('croissant')].copy()\n",
    "    croissant_simple = croissant[~croissant['desc_normalized'].str.contains('petit|tira|masa')].copy()\n",
    "    return croissant_simple"
   ]
  },
  {
   "cell_type": "code",
   "execution_count": 39,
   "metadata": {},
   "outputs": [
    {
     "data": {
      "text/html": [
       "<div>\n",
       "<style scoped>\n",
       "    .dataframe tbody tr th:only-of-type {\n",
       "        vertical-align: middle;\n",
       "    }\n",
       "\n",
       "    .dataframe tbody tr th {\n",
       "        vertical-align: top;\n",
       "    }\n",
       "\n",
       "    .dataframe thead th {\n",
       "        text-align: right;\n",
       "    }\n",
       "</style>\n",
       "<table border=\"1\" class=\"dataframe\">\n",
       "  <thead>\n",
       "    <tr style=\"text-align: right;\">\n",
       "      <th></th>\n",
       "      <th>product_id</th>\n",
       "      <th>description</th>\n",
       "      <th>order_date</th>\n",
       "      <th>section</th>\n",
       "      <th>store</th>\n",
       "      <th>units_ordered</th>\n",
       "      <th>desc_normalized</th>\n",
       "    </tr>\n",
       "  </thead>\n",
       "  <tbody>\n",
       "    <tr>\n",
       "      <th>201</th>\n",
       "      <td>215.0</td>\n",
       "      <td>CROISANNT SOBRASADA PQ COCIDOS</td>\n",
       "      <td>1/1/2008 0:00:00</td>\n",
       "      <td>0</td>\n",
       "      <td>VeUp</td>\n",
       "      <td>2,00</td>\n",
       "      <td>croissant sobrasada px cocido</td>\n",
       "    </tr>\n",
       "    <tr>\n",
       "      <th>216</th>\n",
       "      <td>100.0</td>\n",
       "      <td>CROISANTS</td>\n",
       "      <td>1/1/2008 0:00:00</td>\n",
       "      <td>0</td>\n",
       "      <td>VeUp</td>\n",
       "      <td>20,00</td>\n",
       "      <td>croissant</td>\n",
       "    </tr>\n",
       "    <tr>\n",
       "      <th>240</th>\n",
       "      <td>101.0</td>\n",
       "      <td>CROISSANT</td>\n",
       "      <td>1/1/2008 0:00:00</td>\n",
       "      <td>0</td>\n",
       "      <td>VeUp</td>\n",
       "      <td>0,00</td>\n",
       "      <td>croissant</td>\n",
       "    </tr>\n",
       "    <tr>\n",
       "      <th>241</th>\n",
       "      <td>102.0</td>\n",
       "      <td>CROISSANT FRANCES</td>\n",
       "      <td>1/1/2008 0:00:00</td>\n",
       "      <td>0</td>\n",
       "      <td>VeUp</td>\n",
       "      <td>10,00</td>\n",
       "      <td>croissant francesa</td>\n",
       "    </tr>\n",
       "    <tr>\n",
       "      <th>267</th>\n",
       "      <td>105.0</td>\n",
       "      <td>CROISSANT CHOCOLATE</td>\n",
       "      <td>1/1/2008 0:00:00</td>\n",
       "      <td>0</td>\n",
       "      <td>VeUp</td>\n",
       "      <td>1,00</td>\n",
       "      <td>croissant chocolate</td>\n",
       "    </tr>\n",
       "  </tbody>\n",
       "</table>\n",
       "</div>"
      ],
      "text/plain": [
       "     product_id                     description        order_date  section  \\\n",
       "201       215.0  CROISANNT SOBRASADA PQ COCIDOS  1/1/2008 0:00:00        0   \n",
       "216       100.0                       CROISANTS  1/1/2008 0:00:00        0   \n",
       "240       101.0                       CROISSANT  1/1/2008 0:00:00        0   \n",
       "241       102.0               CROISSANT FRANCES  1/1/2008 0:00:00        0   \n",
       "267       105.0             CROISSANT CHOCOLATE  1/1/2008 0:00:00        0   \n",
       "\n",
       "    store units_ordered                desc_normalized  \n",
       "201  VeUp          2,00  croissant sobrasada px cocido  \n",
       "216  VeUp         20,00                      croissant  \n",
       "240  VeUp          0,00                      croissant  \n",
       "241  VeUp         10,00             croissant francesa  \n",
       "267  VeUp          1,00            croissant chocolate  "
      ]
     },
     "execution_count": 39,
     "metadata": {},
     "output_type": "execute_result"
    }
   ],
   "source": [
    "transactions_croissant_simple = filter_croissant_simple(df_with_normalized_descriptions_transactions)\n",
    "transactions_croissant_simple.head()"
   ]
  },
  {
   "cell_type": "code",
   "execution_count": 40,
   "metadata": {},
   "outputs": [
    {
     "data": {
      "image/png": "[encoded data removed]",
      "text/plain": [
       "<Figure size 432x288 with 1 Axes>"
      ]
     },
     "metadata": {},
     "output_type": "display_data"
    }
   ],
   "source": [
    "plot_count_per_id(transactions_croissant_simple)"
   ]
  },
  {
   "cell_type": "markdown",
   "metadata": {},
   "source": [
    "Interesting, the correlation seems to exsit for several ids... Lets explore a bit more... Lets plot the most common description from each id and see if we find any pattern:"
   ]
  },
  {
   "cell_type": "code",
   "execution_count": 41,
   "metadata": {},
   "outputs": [
    {
     "name": "stdout",
     "output_type": "stream",
     "text": [
      "***Plotting id: 215.0 \n",
      "-\n",
      "croissant sobrasada px cocido               91580\n",
      "croissant sobrasada px cocido de encargo       76\n",
      "croissant sobrasada px cocido encargo          38\n",
      "mini pizzas                                    19\n",
      "mini hamburguesitas                            19\n",
      "Name: desc_normalized, dtype: int64\n",
      "\n",
      "***Plotting id: 100.0 \n",
      "-\n",
      "croissant                       80598\n",
      "croissant normal mango           1197\n",
      "croissant alargados piezas        342\n",
      "croissant piezas alargadas        133\n",
      "croissant alargados y piezas       95\n",
      "Name: desc_normalized, dtype: int64\n",
      "\n",
      "***Plotting id: 101.0 \n",
      "-\n",
      "croissant                        72124\n",
      "croissant andes marcos piezas     8550\n",
      "suizos piezas hacer 10            4180\n",
      "ensaimadas piezas hacer 10        3477\n",
      "tiras de focaccias                2432\n",
      "Name: desc_normalized, dtype: int64\n",
      "\n",
      "***Plotting id: 102.0 \n",
      "-\n",
      "croissant francesa               86279\n",
      "croissant andes marcos piezas      703\n",
      "focaccias                          266\n",
      "chapatitas frio                    247\n",
      "mini hamburguesitas                190\n",
      "Name: desc_normalized, dtype: int64\n",
      "\n",
      "***Plotting id: 105.0 \n",
      "-\n",
      "croissant chocolate                 74803\n",
      "croissant de chocolate               1653\n",
      "croissant chocolate mango             570\n",
      "focaccias                              95\n",
      "croissant maria chocolate piezas       38\n",
      "Name: desc_normalized, dtype: int64\n",
      "\n",
      "***Plotting id: 106.0 \n",
      "-\n",
      "croissant racion                  81168\n",
      "croissant para la venta             589\n",
      "croissant normal nuevo              570\n",
      "focaccias                           247\n",
      "suizos piezas hacer a las 12 y      114\n",
      "Name: desc_normalized, dtype: int64\n",
      "\n",
      "***Plotting id: 107.0 \n",
      "-\n",
      "croissant racion            29716\n",
      "croissant almendra mango      532\n",
      "Name: desc_normalized, dtype: int64\n",
      "\n",
      "***Plotting id: 132.0 \n",
      "-\n",
      "croissant integral              94373\n",
      "croissant cereales mango         1159\n",
      "croissant integral encargo y       19\n",
      "Name: desc_normalized, dtype: int64\n",
      "\n",
      "***Plotting id: 213.0 \n",
      "-\n",
      "croissant sobrasada px cruda                58064\n",
      "croissant sobrasada px cruda encargo           19\n",
      "capas verduras de racion sin ainhoa            19\n",
      "croissant sobrasada px cruda y y encargo       19\n",
      "croissant sobrasada px cocido                  19\n",
      "Name: desc_normalized, dtype: int64\n",
      "\n",
      "***Plotting id: 5001.0 \n",
      "-\n",
      "croissant alargado grande piezas    33592\n",
      "cartel de cabello bote               2983\n",
      "mini hamburguesitas                   684\n",
      "ensaimadas piezas hacer 10            665\n",
      "suizos piezas hacer 10                570\n",
      "Name: desc_normalized, dtype: int64\n",
      "\n",
      "***Plotting id: 9999.0 \n",
      "-\n",
      "encargo                       25745\n",
      "julian de verduras             8227\n",
      "julian de pimiento             8151\n",
      "brandada de bacalao            6080\n",
      "encargo julian de pimiento     5035\n",
      "Name: desc_normalized, dtype: int64\n",
      "\n",
      "***Plotting id: 214.0 \n",
      "-\n",
      "croissant sobrasada g    589\n",
      "Name: desc_normalized, dtype: int64\n",
      "\n",
      "***Plotting id: 6012.0 \n",
      "-\n",
      "croissant maria choco riera hora    114\n",
      "croissant alargado grande            19\n",
      "Name: desc_normalized, dtype: int64\n",
      "\n",
      "***Plotting id: 513.0 \n",
      "-\n",
      "sable breton                                              31122\n",
      "croissant i ines                                             57\n",
      "macaron de chocolate las                                     19\n",
      "bolsa de palmeritas de hojaldre 160                          19\n",
      "pastas de macaron fresa chocolate pistacho 150 de cada       19\n",
      "Name: desc_normalized, dtype: int64\n",
      "\n",
      "***Plotting id: 103.0 \n",
      "-\n",
      "croissant petit                  94259\n",
      "mini napolitanas crema            1824\n",
      "mini napolitanas chocolate        1748\n",
      "croissant normal petit            1216\n",
      "croissant andes marcos piezas      380\n",
      "Name: desc_normalized, dtype: int64\n",
      "\n",
      "***Plotting id: 116.0 \n",
      "-\n",
      "dias coche                         35587\n",
      "crujiente crema canela y fresas    12977\n",
      "dias coche cocido                     38\n",
      "dias coche las                        38\n",
      "las de dias coche                     38\n",
      "Name: desc_normalized, dtype: int64\n",
      "\n",
      "***Plotting id: 2999.0 \n",
      "-\n",
      "mini torteles cruda         513\n",
      "mini ensaimadas cruda       475\n",
      "mini ensaimadas en cruda    456\n",
      "especial pollo              418\n",
      "mini torteles en cruda      418\n",
      "Name: desc_normalized, dtype: int64\n",
      "\n",
      "***Plotting id: 512.0 \n",
      "-\n",
      "petit carre                         29488\n",
      "pastas de macaron 500 piezas           19\n",
      "petit carre 3 00 g de encargo          19\n",
      "petit carre encargo de 3 800kg         19\n",
      "petit carre 2 blistes y pastas y       19\n",
      "Name: desc_normalized, dtype: int64\n",
      "\n",
      "***Plotting id: 112.0 \n",
      "-\n",
      "torteles                              82821\n",
      "baguet multicereales                    437\n",
      "ensaimadas piezas hacer a las 12 y      342\n",
      "focaccias                               228\n",
      "suizos piezas hacer las 12 y            209\n",
      "Name: desc_normalized, dtype: int64\n",
      "\n"
     ]
    }
   ],
   "source": [
    "for i in transactions_croissant_simple['product_id'].unique():\n",
    "    to_print = df_with_normalized_descriptions_transactions[df_with_normalized_descriptions_transactions['product_id']==i]['desc_normalized'].value_counts().head()\n",
    "    print(\"***Plotting id: {} \".format(i))\n",
    "    print(\"-\")\n",
    "\n",
    "    print(to_print)\n",
    "    print(\"\")\n"
   ]
  },
  {
   "cell_type": "markdown",
   "metadata": {},
   "source": [
    "It seems that they have different types of croissant. Checking with the client, he suggested taking only: 100.0 and 101.0 that contains the word 'croissant'"
   ]
  },
  {
   "cell_type": "code",
   "execution_count": 42,
   "metadata": {},
   "outputs": [
    {
     "data": {
      "text/html": [
       "<div>\n",
       "<style scoped>\n",
       "    .dataframe tbody tr th:only-of-type {\n",
       "        vertical-align: middle;\n",
       "    }\n",
       "\n",
       "    .dataframe tbody tr th {\n",
       "        vertical-align: top;\n",
       "    }\n",
       "\n",
       "    .dataframe thead th {\n",
       "        text-align: right;\n",
       "    }\n",
       "</style>\n",
       "<table border=\"1\" class=\"dataframe\">\n",
       "  <thead>\n",
       "    <tr style=\"text-align: right;\">\n",
       "      <th></th>\n",
       "      <th>product_id</th>\n",
       "      <th>desc_normalized</th>\n",
       "      <th>target_names_prod_by_prod</th>\n",
       "    </tr>\n",
       "  </thead>\n",
       "  <tbody>\n",
       "    <tr>\n",
       "      <th>216</th>\n",
       "      <td>100.0</td>\n",
       "      <td>croissant</td>\n",
       "      <td>croissant simple</td>\n",
       "    </tr>\n",
       "    <tr>\n",
       "      <th>240</th>\n",
       "      <td>101.0</td>\n",
       "      <td>croissant</td>\n",
       "      <td>croissant simple</td>\n",
       "    </tr>\n",
       "    <tr>\n",
       "      <th>19059</th>\n",
       "      <td>101.0</td>\n",
       "      <td>croissant andes marcos piezas</td>\n",
       "      <td>croissant simple</td>\n",
       "    </tr>\n",
       "    <tr>\n",
       "      <th>89735</th>\n",
       "      <td>101.0</td>\n",
       "      <td>croissant alargados andes piezas</td>\n",
       "      <td>croissant simple</td>\n",
       "    </tr>\n",
       "    <tr>\n",
       "      <th>350411</th>\n",
       "      <td>101.0</td>\n",
       "      <td>croissant alargados andes</td>\n",
       "      <td>croissant simple</td>\n",
       "    </tr>\n",
       "  </tbody>\n",
       "</table>\n",
       "</div>"
      ],
      "text/plain": [
       "        product_id                   desc_normalized target_names_prod_by_prod\n",
       "216          100.0                         croissant          croissant simple\n",
       "240          101.0                         croissant          croissant simple\n",
       "19059        101.0     croissant andes marcos piezas          croissant simple\n",
       "89735        101.0  croissant alargados andes piezas          croissant simple\n",
       "350411       101.0         croissant alargados andes          croissant simple"
      ]
     },
     "execution_count": 42,
     "metadata": {},
     "output_type": "execute_result"
    }
   ],
   "source": [
    "croissant_simple = unique_normalized_decriptions[(unique_normalized_decriptions['product_id']==100.0)|(unique_normalized_decriptions['product_id']==101.0)].copy()\n",
    "croissant_simple = croissant_simple[croissant_simple['desc_normalized'].str.contains('croissant')]\n",
    "croissant_simple = croissant_simple[~croissant_simple['desc_normalized'].str.contains('petit|tira|masa')].copy()\n",
    "\n",
    "croissant_simple['target_names_prod_by_prod'] = 'croissant simple'\n",
    "list_of_dfs.append(croissant_simple)\n",
    "croissant_simple.head()"
   ]
  },
  {
   "cell_type": "markdown",
   "metadata": {},
   "source": [
    "#### 2.3.4 Matching: tarta mousse tres chocolates\n",
    "\n",
    "From the analysis performed in notebook \"x01-transactions_to_partial_results-yy.ipynb\", it was concluded that 'mousse tres chocolates' had no correlation with a particular product_id, therefore the analysis will be based on the description:"
   ]
  },
  {
   "cell_type": "code",
   "execution_count": 43,
   "metadata": {},
   "outputs": [],
   "source": [
    "def filter_mousse_tres_chocolates (df):\n",
    "    tarta = df[df['desc_normalized'].str.contains('tarta')].copy()\n",
    "    mousse = tarta[tarta['desc_normalized'].str.contains('mousse|mus')].copy()\n",
    "    mousse_tres = mousse[mousse['desc_normalized'].str.contains('tres|3')].copy()\n",
    "    mousse_tres = mousse_tres[~mousse_tres['desc_normalized'].str.contains('mini')].copy()\n",
    "    mousse_tres_chocolates = mousse_tres[mousse_tres['desc_normalized'].str.contains('chocolate')].copy()\n",
    "    return mousse_tres_chocolates"
   ]
  },
  {
   "cell_type": "code",
   "execution_count": 44,
   "metadata": {},
   "outputs": [
    {
     "data": {
      "text/html": [
       "<div>\n",
       "<style scoped>\n",
       "    .dataframe tbody tr th:only-of-type {\n",
       "        vertical-align: middle;\n",
       "    }\n",
       "\n",
       "    .dataframe tbody tr th {\n",
       "        vertical-align: top;\n",
       "    }\n",
       "\n",
       "    .dataframe thead th {\n",
       "        text-align: right;\n",
       "    }\n",
       "</style>\n",
       "<table border=\"1\" class=\"dataframe\">\n",
       "  <thead>\n",
       "    <tr style=\"text-align: right;\">\n",
       "      <th></th>\n",
       "      <th>product_id</th>\n",
       "      <th>description</th>\n",
       "      <th>order_date</th>\n",
       "      <th>section</th>\n",
       "      <th>store</th>\n",
       "      <th>units_ordered</th>\n",
       "      <th>desc_normalized</th>\n",
       "    </tr>\n",
       "  </thead>\n",
       "  <tbody>\n",
       "    <tr>\n",
       "      <th>335</th>\n",
       "      <td>414.0</td>\n",
       "      <td>TARTA  MUS  TRES  CHOCOLATES  2º</td>\n",
       "      <td>1/1/2008 0:00:00</td>\n",
       "      <td>0</td>\n",
       "      <td>VeUp</td>\n",
       "      <td>0,00</td>\n",
       "      <td>tarta mus tres chocolates 2</td>\n",
       "    </tr>\n",
       "    <tr>\n",
       "      <th>1371</th>\n",
       "      <td>414.0</td>\n",
       "      <td>TARTA  MUS  TRES  CHOCOLATES  2º</td>\n",
       "      <td>1/1/2008 0:00:00</td>\n",
       "      <td>0</td>\n",
       "      <td>ZiUO</td>\n",
       "      <td>0,00</td>\n",
       "      <td>tarta mus tres chocolates 2</td>\n",
       "    </tr>\n",
       "    <tr>\n",
       "      <th>1695</th>\n",
       "      <td>414.0</td>\n",
       "      <td>TARTA  MUS  TRES  CHOCOLATES  2º</td>\n",
       "      <td>1/1/2008 0:00:00</td>\n",
       "      <td>0</td>\n",
       "      <td>AeUP</td>\n",
       "      <td>0,00</td>\n",
       "      <td>tarta mus tres chocolates 2</td>\n",
       "    </tr>\n",
       "    <tr>\n",
       "      <th>2057</th>\n",
       "      <td>414.0</td>\n",
       "      <td>TARTA  MUS  TRES  CHOCOLATES  2º</td>\n",
       "      <td>1/1/2008 0:00:00</td>\n",
       "      <td>0</td>\n",
       "      <td>AaUP</td>\n",
       "      <td>0,00</td>\n",
       "      <td>tarta mus tres chocolates 2</td>\n",
       "    </tr>\n",
       "    <tr>\n",
       "      <th>2537</th>\n",
       "      <td>414.0</td>\n",
       "      <td>TARTA  MUS  TRES  CHOCOLATES  2º</td>\n",
       "      <td>1/1/2008 0:00:00</td>\n",
       "      <td>0</td>\n",
       "      <td>LiUP</td>\n",
       "      <td>0,00</td>\n",
       "      <td>tarta mus tres chocolates 2</td>\n",
       "    </tr>\n",
       "  </tbody>\n",
       "</table>\n",
       "</div>"
      ],
      "text/plain": [
       "      product_id                       description        order_date  section  \\\n",
       "335        414.0  TARTA  MUS  TRES  CHOCOLATES  2º  1/1/2008 0:00:00        0   \n",
       "1371       414.0  TARTA  MUS  TRES  CHOCOLATES  2º  1/1/2008 0:00:00        0   \n",
       "1695       414.0  TARTA  MUS  TRES  CHOCOLATES  2º  1/1/2008 0:00:00        0   \n",
       "2057       414.0  TARTA  MUS  TRES  CHOCOLATES  2º  1/1/2008 0:00:00        0   \n",
       "2537       414.0  TARTA  MUS  TRES  CHOCOLATES  2º  1/1/2008 0:00:00        0   \n",
       "\n",
       "     store units_ordered              desc_normalized  \n",
       "335   VeUp          0,00  tarta mus tres chocolates 2  \n",
       "1371  ZiUO          0,00  tarta mus tres chocolates 2  \n",
       "1695  AeUP          0,00  tarta mus tres chocolates 2  \n",
       "2057  AaUP          0,00  tarta mus tres chocolates 2  \n",
       "2537  LiUP          0,00  tarta mus tres chocolates 2  "
      ]
     },
     "execution_count": 44,
     "metadata": {},
     "output_type": "execute_result"
    }
   ],
   "source": [
    "transactions_mousse_tres_chocolates = filter_mousse_tres_chocolates(df_with_normalized_descriptions_transactions)\n",
    "transactions_mousse_tres_chocolates.head()"
   ]
  },
  {
   "cell_type": "code",
   "execution_count": 45,
   "metadata": {},
   "outputs": [
    {
     "data": {
      "image/png": "[encoded data removed]",
      "text/plain": [
       "<Figure size 432x288 with 1 Axes>"
      ]
     },
     "metadata": {},
     "output_type": "display_data"
    }
   ],
   "source": [
    "plot_count_per_id(transactions_mousse_tres_chocolates)"
   ]
  },
  {
   "cell_type": "markdown",
   "metadata": {},
   "source": [
    "Interesting... Lets explore it more by having a look at the full distribution of names:"
   ]
  },
  {
   "cell_type": "code",
   "execution_count": 46,
   "metadata": {},
   "outputs": [
    {
     "name": "stdout",
     "output_type": "stream",
     "text": [
      "***Plotting id: 414.0 \n",
      "-\n",
      "tarta mus tres chocolates 2    4807\n",
      "tarta milhojas frambuesa 2     4123\n",
      "tarta limon 3                  3420\n",
      "tarta milhojas 2               1824\n",
      "tarta tres chocolates 2        1805\n",
      "Name: desc_normalized, dtype: int64\n",
      "\n",
      "***Plotting id: 9999.0 \n",
      "-\n",
      "encargo                       25745\n",
      "julian de verduras             8227\n",
      "julian de pimiento             8151\n",
      "brandada de bacalao            6080\n",
      "encargo julian de pimiento     5035\n",
      "Name: desc_normalized, dtype: int64\n",
      "\n",
      "***Plotting id: 451.0 \n",
      "-\n",
      "mousse 3 chocolates 2                                    167333\n",
      "mousse 3 chocolates 2 una de encargo                        266\n",
      "mousse 3 chocolates 4                                       133\n",
      "mousse 3 chocolates 2 encargo                               133\n",
      "mousse 3 chocolates 2 escrito en la tarta felicidades       114\n",
      "Name: desc_normalized, dtype: int64\n",
      "\n",
      "***Plotting id: 453.0 \n",
      "-\n",
      "mousse 3 chocolates 3               128003\n",
      "mousse 3 chocolates 4                  589\n",
      "mousse 3 chocolates del 4              190\n",
      "mousse 3 chocolates 3 de encargo       190\n",
      "mousse 3 chocolates 20rac              114\n",
      "Name: desc_normalized, dtype: int64\n",
      "\n",
      "***Plotting id: 410.0 \n",
      "-\n",
      "selva negra 2                  135679\n",
      "tarta con rosa 2                  437\n",
      "selva negra 2 infantil            380\n",
      "tarta mus tres chocolates 2       171\n",
      "tarta milhojas 2                  171\n",
      "Name: desc_normalized, dtype: int64\n",
      "\n",
      "***Plotting id: 452.0 \n",
      "-\n",
      "mousse 3 chocolates 1                        121657\n",
      "mousse 3 chocolates 1 de encargo                 76\n",
      "mousse 3 chocolates 1 una de encargo             76\n",
      "mousse 3 chocolates 1 escrito felicidades        38\n",
      "mousse 3 chocolates 1 encargo                    38\n",
      "Name: desc_normalized, dtype: int64\n",
      "\n",
      "***Plotting id: 402.0 \n",
      "-\n",
      "san marcos 2               109535\n",
      "san marcos 2 de encargo        95\n",
      "san marcos 2 encargo           76\n",
      "san marcos felicidades         76\n",
      "san marcos 2 infantil          76\n",
      "Name: desc_normalized, dtype: int64\n",
      "\n",
      "***Plotting id: 14984.0 \n",
      "-\n",
      "tarta mus tres chocolates 3                                                     76\n",
      "tarta selva negra 2 cortada de blanco                                           38\n",
      "tarta mus tres chocolates 50                                                    19\n",
      "tarta selva negra 6 con la caja de micky mas encima dibujada y y darek issac    19\n",
      "tarta mus tres chocolates 30 redonda felicidades                                19\n",
      "Name: desc_normalized, dtype: int64\n",
      "\n",
      "***Plotting id: 415.0 \n",
      "-\n",
      "tarta de limon 1                   14915\n",
      "tarta de limon 3                     114\n",
      "tarta selva negra 5                   38\n",
      "tarta de limon del ternera            19\n",
      "tarta de limon 3 de 10 raciones       19\n",
      "Name: desc_normalized, dtype: int64\n",
      "\n",
      "***Plotting id: 14992.0 \n",
      "-\n",
      "tarta mousse tres chocolates 6 escrito felix cumplea on    19\n",
      "Name: desc_normalized, dtype: int64\n",
      "\n",
      "***Plotting id: 14998.0 \n",
      "-\n",
      "tartas especiales                                                            38\n",
      "tarta mousse de tres chocolates del 4                                        38\n",
      "tartas especiales de 10 de mickey de 12 la con el bizcocho de selva negra    38\n",
      "tarta saint honore del 4                                                     38\n",
      "tarta selva negra 5 con la hora de la caja de en                             19\n",
      "Name: desc_normalized, dtype: int64\n",
      "\n",
      "***Plotting id: 450.0 \n",
      "-\n",
      "postres mousse tres chocolates      82403\n",
      "postres selva negra                  3116\n",
      "postres milhojas frambuesa           2926\n",
      "mini postres mus tres chocolates     2014\n",
      "postres milhojas                     1976\n",
      "Name: desc_normalized, dtype: int64\n",
      "\n",
      "***Plotting id: 409.0 \n",
      "-\n",
      "selva negra 1                                                       83733\n",
      "tarta con rosa 2                                                       57\n",
      "selva negra 1 encargo line                                             38\n",
      "selva negra con virutas de chocolate                                   38\n",
      "selva negra de 4 raciones con cartel felicidades hiruma sensei 7       19\n",
      "Name: desc_normalized, dtype: int64\n",
      "\n",
      "***Plotting id: 13999.0 \n",
      "-\n",
      "mini postres milhojas frambuesa        475\n",
      "mini postres mus tres chocolates       437\n",
      "mini postres mousse tres chocolates    418\n",
      "helado de vainilla raciones            285\n",
      "mini postres con rosa                  266\n",
      "Name: desc_normalized, dtype: int64\n",
      "\n",
      "***Plotting id: 411.0 \n",
      "-\n",
      "selva negra 3                112499\n",
      "selva negra 3 infantil          209\n",
      "selva negra 3 de encargo        190\n",
      "selva negra 4                   190\n",
      "selva negra 3 felicidades        95\n",
      "Name: desc_normalized, dtype: int64\n",
      "\n",
      "***Plotting id: 497.0 \n",
      "-\n",
      "tartaleta de fresa y mascarpone 2          15637\n",
      "tarta fresa y mascarpone 2                  9994\n",
      "frutas del bosque 2                         8284\n",
      "tartaleta de fresa y mascarpone del 3        247\n",
      "tartaleta de fresa y mascarpone 3 10rac      190\n",
      "Name: desc_normalized, dtype: int64\n",
      "\n",
      "***Plotting id: 4479.0 \n",
      "-\n",
      "mousse 3 choco 4                                                 95\n",
      "mousse 3 choco 4 escrito felix cumplea on cristina               19\n",
      "mousse 3 choco 20 la en decorada y prepara en para la casa al    19\n",
      "mousse 3 choco 4 y y con cartel felicidades alex                 19\n",
      "tarta mousse tres chocolates de 16 la                            19\n",
      "Name: desc_normalized, dtype: int64\n",
      "\n",
      "***Plotting id: 14988.0 \n",
      "-\n",
      "tarta selva negra 8                                                                      38\n",
      "tarta san marcos 4 con feo y y la tienda juan y y                                        19\n",
      "tarta selva negra 5                                                                      19\n",
      "tarta rellena nata y crema 2 rectangular y recubierta de nata y y tabla con david y y    19\n",
      "tarta milhojas frambuesa 2                                                               19\n",
      "Name: desc_normalized, dtype: int64\n",
      "\n"
     ]
    }
   ],
   "source": [
    "for i in transactions_mousse_tres_chocolates['product_id'].unique():\n",
    "    to_print = df_with_normalized_descriptions_transactions[df_with_normalized_descriptions_transactions['product_id']==i]['desc_normalized'].value_counts().head()\n",
    "    print(\"***Plotting id: {} \".format(i))\n",
    "    print(\"-\")\n",
    "\n",
    "    print(to_print)\n",
    "    print(\"\")\n"
   ]
  },
  {
   "cell_type": "markdown",
   "metadata": {},
   "source": [
    "It seems that 'tarta mousse tres chocolates' is all over the place... So the easiest is to filter by product description\""
   ]
  },
  {
   "cell_type": "code",
   "execution_count": 47,
   "metadata": {},
   "outputs": [
    {
     "data": {
      "text/html": [
       "<div>\n",
       "<style scoped>\n",
       "    .dataframe tbody tr th:only-of-type {\n",
       "        vertical-align: middle;\n",
       "    }\n",
       "\n",
       "    .dataframe tbody tr th {\n",
       "        vertical-align: top;\n",
       "    }\n",
       "\n",
       "    .dataframe thead th {\n",
       "        text-align: right;\n",
       "    }\n",
       "</style>\n",
       "<table border=\"1\" class=\"dataframe\">\n",
       "  <thead>\n",
       "    <tr style=\"text-align: right;\">\n",
       "      <th></th>\n",
       "      <th>product_id</th>\n",
       "      <th>desc_normalized</th>\n",
       "      <th>target_names_prod_by_prod</th>\n",
       "    </tr>\n",
       "  </thead>\n",
       "  <tbody>\n",
       "    <tr>\n",
       "      <th>335</th>\n",
       "      <td>414.0</td>\n",
       "      <td>tarta mus tres chocolates 2</td>\n",
       "      <td>mousse tres chocolates</td>\n",
       "    </tr>\n",
       "    <tr>\n",
       "      <th>18867</th>\n",
       "      <td>9999.0</td>\n",
       "      <td>tarta mousse 3 chocolates 3 escrito sobre la t...</td>\n",
       "      <td>mousse tres chocolates</td>\n",
       "    </tr>\n",
       "    <tr>\n",
       "      <th>90355</th>\n",
       "      <td>9999.0</td>\n",
       "      <td>tarta mousse 3 chocolates del segun escrito so...</td>\n",
       "      <td>mousse tres chocolates</td>\n",
       "    </tr>\n",
       "    <tr>\n",
       "      <th>105628</th>\n",
       "      <td>451.0</td>\n",
       "      <td>mousse 3 chocolates 2 escrito sobre la tarta f...</td>\n",
       "      <td>mousse tres chocolates</td>\n",
       "    </tr>\n",
       "    <tr>\n",
       "      <th>105632</th>\n",
       "      <td>9999.0</td>\n",
       "      <td>encargo tarta mousse 3 chocolates del 4 sandra...</td>\n",
       "      <td>mousse tres chocolates</td>\n",
       "    </tr>\n",
       "  </tbody>\n",
       "</table>\n",
       "</div>"
      ],
      "text/plain": [
       "        product_id                                    desc_normalized  \\\n",
       "335          414.0                        tarta mus tres chocolates 2   \n",
       "18867       9999.0  tarta mousse 3 chocolates 3 escrito sobre la t...   \n",
       "90355       9999.0  tarta mousse 3 chocolates del segun escrito so...   \n",
       "105628       451.0  mousse 3 chocolates 2 escrito sobre la tarta f...   \n",
       "105632      9999.0  encargo tarta mousse 3 chocolates del 4 sandra...   \n",
       "\n",
       "       target_names_prod_by_prod  \n",
       "335       mousse tres chocolates  \n",
       "18867     mousse tres chocolates  \n",
       "90355     mousse tres chocolates  \n",
       "105628    mousse tres chocolates  \n",
       "105632    mousse tres chocolates  "
      ]
     },
     "execution_count": 47,
     "metadata": {},
     "output_type": "execute_result"
    }
   ],
   "source": [
    "mousse_tres_chocolates = filter_mousse_tres_chocolates(unique_normalized_decriptions)\n",
    "mousse_tres_chocolates['target_names_prod_by_prod'] = 'mousse tres chocolates'\n",
    "list_of_dfs.append(mousse_tres_chocolates)\n",
    "mousse_tres_chocolates.head()"
   ]
  },
  {
   "cell_type": "markdown",
   "metadata": {},
   "source": [
    "#### 2.3.5 Matching: tarta de manzana 2\n",
    "From the analysis performed in notebook \"x01-transactions_to_partial_results-yy.ipynb\", it was concluded that 'tarta de manzana 2' had no correlation with a particular product_id, therefore the analysis will be based on the description:"
   ]
  },
  {
   "cell_type": "code",
   "execution_count": 48,
   "metadata": {},
   "outputs": [],
   "source": [
    "def filter_tarta_manzana_2 (df):\n",
    "    manzana_tarta = df[df['desc_normalized'].str.contains('manzana')]\n",
    "    #manzana_tarta = manzana[manzana['desc_normalized'].str.contains('tarta')].copy() #Removed because we saw it had better fit\n",
    "    manzana_tarta = manzana_tarta[~manzana_tarta['desc_normalized'].str.contains('caramelo')].copy()\n",
    "    manzana_tarta_dos = manzana_tarta[manzana_tarta['desc_normalized'].str.contains('dos|2')].copy()\n",
    "\n",
    "    return manzana_tarta_dos"
   ]
  },
  {
   "cell_type": "code",
   "execution_count": 49,
   "metadata": {},
   "outputs": [],
   "source": [
    "transactions_manzana_tarta_dos=filter_tarta_manzana_2(df_with_normalized_descriptions_transactions)"
   ]
  },
  {
   "cell_type": "code",
   "execution_count": 50,
   "metadata": {},
   "outputs": [
    {
     "data": {
      "image/png": "[encoded data removed]",
      "text/plain": [
       "<Figure size 432x288 with 1 Axes>"
      ]
     },
     "metadata": {},
     "output_type": "display_data"
    }
   ],
   "source": [
    "plot_count_per_id(transactions_manzana_tarta_dos)"
   ]
  },
  {
   "cell_type": "markdown",
   "metadata": {},
   "source": [
    "Looks like we found a winner!"
   ]
  },
  {
   "cell_type": "code",
   "execution_count": 51,
   "metadata": {},
   "outputs": [
    {
     "data": {
      "text/html": [
       "<div>\n",
       "<style scoped>\n",
       "    .dataframe tbody tr th:only-of-type {\n",
       "        vertical-align: middle;\n",
       "    }\n",
       "\n",
       "    .dataframe tbody tr th {\n",
       "        vertical-align: top;\n",
       "    }\n",
       "\n",
       "    .dataframe thead th {\n",
       "        text-align: right;\n",
       "    }\n",
       "</style>\n",
       "<table border=\"1\" class=\"dataframe\">\n",
       "  <thead>\n",
       "    <tr style=\"text-align: right;\">\n",
       "      <th></th>\n",
       "      <th>product_id</th>\n",
       "      <th>desc_normalized</th>\n",
       "      <th>target_names_prod_by_prod</th>\n",
       "    </tr>\n",
       "  </thead>\n",
       "  <tbody>\n",
       "    <tr>\n",
       "      <th>11275</th>\n",
       "      <td>462.0</td>\n",
       "      <td>manzana 2</td>\n",
       "      <td>tarta de manzana</td>\n",
       "    </tr>\n",
       "    <tr>\n",
       "      <th>37483</th>\n",
       "      <td>5001.0</td>\n",
       "      <td>manzana caramelizados</td>\n",
       "      <td>tarta de manzana</td>\n",
       "    </tr>\n",
       "    <tr>\n",
       "      <th>96970</th>\n",
       "      <td>9999.0</td>\n",
       "      <td>encargotarta manzana del 2</td>\n",
       "      <td>tarta de manzana</td>\n",
       "    </tr>\n",
       "    <tr>\n",
       "      <th>219167</th>\n",
       "      <td>9999.0</td>\n",
       "      <td>encargo tarta manzana del 2</td>\n",
       "      <td>tarta de manzana</td>\n",
       "    </tr>\n",
       "    <tr>\n",
       "      <th>219790</th>\n",
       "      <td>462.0</td>\n",
       "      <td>manzana 2 cartelfelicidades inmanol</td>\n",
       "      <td>tarta de manzana</td>\n",
       "    </tr>\n",
       "  </tbody>\n",
       "</table>\n",
       "</div>"
      ],
      "text/plain": [
       "        product_id                      desc_normalized  \\\n",
       "11275        462.0                            manzana 2   \n",
       "37483       5001.0                manzana caramelizados   \n",
       "96970       9999.0           encargotarta manzana del 2   \n",
       "219167      9999.0          encargo tarta manzana del 2   \n",
       "219790       462.0  manzana 2 cartelfelicidades inmanol   \n",
       "\n",
       "       target_names_prod_by_prod  \n",
       "11275           tarta de manzana  \n",
       "37483           tarta de manzana  \n",
       "96970           tarta de manzana  \n",
       "219167          tarta de manzana  \n",
       "219790          tarta de manzana  "
      ]
     },
     "execution_count": 51,
     "metadata": {},
     "output_type": "execute_result"
    }
   ],
   "source": [
    "manzana_tarta_dos = filter_tarta_manzana_2(unique_normalized_decriptions)\n",
    "manzana_tarta_dos['target_names_prod_by_prod'] = 'tarta de manzana'\n",
    "list_of_dfs.append(manzana_tarta_dos)\n",
    "manzana_tarta_dos.head()"
   ]
  },
  {
   "cell_type": "markdown",
   "metadata": {},
   "source": [
    "#### 2.3.6 Matching: palmera de chocolate "
   ]
  },
  {
   "cell_type": "code",
   "execution_count": 52,
   "metadata": {},
   "outputs": [],
   "source": [
    "def filter_palmera_chocolate (df):\n",
    "    palmera = df[df['desc_normalized'].str.contains('palmera')]\n",
    "    palmera_chocolate = palmera[palmera['desc_normalized'].str.contains('chocolate|trufa')].copy() #Added trufa after reviwing results\n",
    "    return palmera_chocolate"
   ]
  },
  {
   "cell_type": "code",
   "execution_count": 53,
   "metadata": {},
   "outputs": [
    {
     "data": {
      "text/html": [
       "<div>\n",
       "<style scoped>\n",
       "    .dataframe tbody tr th:only-of-type {\n",
       "        vertical-align: middle;\n",
       "    }\n",
       "\n",
       "    .dataframe tbody tr th {\n",
       "        vertical-align: top;\n",
       "    }\n",
       "\n",
       "    .dataframe thead th {\n",
       "        text-align: right;\n",
       "    }\n",
       "</style>\n",
       "<table border=\"1\" class=\"dataframe\">\n",
       "  <thead>\n",
       "    <tr style=\"text-align: right;\">\n",
       "      <th></th>\n",
       "      <th>product_id</th>\n",
       "      <th>description</th>\n",
       "      <th>order_date</th>\n",
       "      <th>section</th>\n",
       "      <th>store</th>\n",
       "      <th>units_ordered</th>\n",
       "      <th>desc_normalized</th>\n",
       "    </tr>\n",
       "  </thead>\n",
       "  <tbody>\n",
       "    <tr>\n",
       "      <th>234</th>\n",
       "      <td>182.0</td>\n",
       "      <td>PALMERAS DE TRUFA</td>\n",
       "      <td>1/1/2008 0:00:00</td>\n",
       "      <td>0</td>\n",
       "      <td>VeUp</td>\n",
       "      <td>4,00</td>\n",
       "      <td>palmera de trufa</td>\n",
       "    </tr>\n",
       "    <tr>\n",
       "      <th>1472</th>\n",
       "      <td>182.0</td>\n",
       "      <td>PALMERAS DE TRUFA</td>\n",
       "      <td>1/1/2008 0:00:00</td>\n",
       "      <td>0</td>\n",
       "      <td>ZiUO</td>\n",
       "      <td>0,00</td>\n",
       "      <td>palmera de trufa</td>\n",
       "    </tr>\n",
       "    <tr>\n",
       "      <th>1595</th>\n",
       "      <td>182.0</td>\n",
       "      <td>PALMERAS DE TRUFA</td>\n",
       "      <td>1/1/2008 0:00:00</td>\n",
       "      <td>0</td>\n",
       "      <td>AeUP</td>\n",
       "      <td>0,00</td>\n",
       "      <td>palmera de trufa</td>\n",
       "    </tr>\n",
       "    <tr>\n",
       "      <th>2637</th>\n",
       "      <td>182.0</td>\n",
       "      <td>PALMERAS DE TRUFA</td>\n",
       "      <td>1/1/2008 0:00:00</td>\n",
       "      <td>0</td>\n",
       "      <td>LiUP</td>\n",
       "      <td>0,00</td>\n",
       "      <td>palmera de trufa</td>\n",
       "    </tr>\n",
       "    <tr>\n",
       "      <th>2831</th>\n",
       "      <td>182.0</td>\n",
       "      <td>PALMERAS DE TRUFA</td>\n",
       "      <td>1/1/2008 0:00:00</td>\n",
       "      <td>0</td>\n",
       "      <td>RzUP</td>\n",
       "      <td>2,00</td>\n",
       "      <td>palmera de trufa</td>\n",
       "    </tr>\n",
       "  </tbody>\n",
       "</table>\n",
       "</div>"
      ],
      "text/plain": [
       "      product_id        description        order_date  section store  \\\n",
       "234        182.0  PALMERAS DE TRUFA  1/1/2008 0:00:00        0  VeUp   \n",
       "1472       182.0  PALMERAS DE TRUFA  1/1/2008 0:00:00        0  ZiUO   \n",
       "1595       182.0  PALMERAS DE TRUFA  1/1/2008 0:00:00        0  AeUP   \n",
       "2637       182.0  PALMERAS DE TRUFA  1/1/2008 0:00:00        0  LiUP   \n",
       "2831       182.0  PALMERAS DE TRUFA  1/1/2008 0:00:00        0  RzUP   \n",
       "\n",
       "     units_ordered   desc_normalized  \n",
       "234           4,00  palmera de trufa  \n",
       "1472          0,00  palmera de trufa  \n",
       "1595          0,00  palmera de trufa  \n",
       "2637          0,00  palmera de trufa  \n",
       "2831          2,00  palmera de trufa  "
      ]
     },
     "execution_count": 53,
     "metadata": {},
     "output_type": "execute_result"
    }
   ],
   "source": [
    "transactions_palmera_chocolate = filter_palmera_chocolate(df_with_normalized_descriptions_transactions)\n",
    "transactions_palmera_chocolate.head()"
   ]
  },
  {
   "cell_type": "code",
   "execution_count": 54,
   "metadata": {},
   "outputs": [
    {
     "data": {
      "image/png": "[encoded data removed]",
      "text/plain": [
       "<Figure size 432x288 with 1 Axes>"
      ]
     },
     "metadata": {},
     "output_type": "display_data"
    }
   ],
   "source": [
    "plot_count_per_id(transactions_palmera_chocolate)"
   ]
  },
  {
   "cell_type": "markdown",
   "metadata": {},
   "source": [
    "Again, we have a winner!"
   ]
  },
  {
   "cell_type": "code",
   "execution_count": 55,
   "metadata": {},
   "outputs": [
    {
     "data": {
      "text/html": [
       "<div>\n",
       "<style scoped>\n",
       "    .dataframe tbody tr th:only-of-type {\n",
       "        vertical-align: middle;\n",
       "    }\n",
       "\n",
       "    .dataframe tbody tr th {\n",
       "        vertical-align: top;\n",
       "    }\n",
       "\n",
       "    .dataframe thead th {\n",
       "        text-align: right;\n",
       "    }\n",
       "</style>\n",
       "<table border=\"1\" class=\"dataframe\">\n",
       "  <thead>\n",
       "    <tr style=\"text-align: right;\">\n",
       "      <th></th>\n",
       "      <th>product_id</th>\n",
       "      <th>desc_normalized</th>\n",
       "      <th>target_names_prod_by_prod</th>\n",
       "    </tr>\n",
       "  </thead>\n",
       "  <tbody>\n",
       "    <tr>\n",
       "      <th>234</th>\n",
       "      <td>182.0</td>\n",
       "      <td>palmera de trufa</td>\n",
       "      <td>palmera chocolate</td>\n",
       "    </tr>\n",
       "    <tr>\n",
       "      <th>147417</th>\n",
       "      <td>182.0</td>\n",
       "      <td>palmera de trufa (piezas)</td>\n",
       "      <td>palmera chocolate</td>\n",
       "    </tr>\n",
       "    <tr>\n",
       "      <th>2838683</th>\n",
       "      <td>182.0</td>\n",
       "      <td>palmera de trufa manda con el furgon del pan</td>\n",
       "      <td>palmera chocolate</td>\n",
       "    </tr>\n",
       "    <tr>\n",
       "      <th>3710620</th>\n",
       "      <td>182.0</td>\n",
       "      <td>palmera de trufa y y unidades y y encargo para...</td>\n",
       "      <td>palmera chocolate</td>\n",
       "    </tr>\n",
       "    <tr>\n",
       "      <th>5182990</th>\n",
       "      <td>182.0</td>\n",
       "      <td>palmera de trufa primer fuera n</td>\n",
       "      <td>palmera chocolate</td>\n",
       "    </tr>\n",
       "  </tbody>\n",
       "</table>\n",
       "</div>"
      ],
      "text/plain": [
       "         product_id                                    desc_normalized  \\\n",
       "234           182.0                                   palmera de trufa   \n",
       "147417        182.0                          palmera de trufa (piezas)   \n",
       "2838683       182.0       palmera de trufa manda con el furgon del pan   \n",
       "3710620       182.0  palmera de trufa y y unidades y y encargo para...   \n",
       "5182990       182.0                    palmera de trufa primer fuera n   \n",
       "\n",
       "        target_names_prod_by_prod  \n",
       "234             palmera chocolate  \n",
       "147417          palmera chocolate  \n",
       "2838683         palmera chocolate  \n",
       "3710620         palmera chocolate  \n",
       "5182990         palmera chocolate  "
      ]
     },
     "execution_count": 55,
     "metadata": {},
     "output_type": "execute_result"
    }
   ],
   "source": [
    "palmera_chocolate = filter_palmera_chocolate(unique_normalized_decriptions)\n",
    "palmera_chocolate['target_names_prod_by_prod'] = 'palmera chocolate'\n",
    "\n",
    "list_of_dfs.append(palmera_chocolate)\n",
    "palmera_chocolate.head()"
   ]
  },
  {
   "cell_type": "markdown",
   "metadata": {},
   "source": [
    "#### 2.3.7 Matching: tarta ópera "
   ]
  },
  {
   "cell_type": "code",
   "execution_count": 56,
   "metadata": {},
   "outputs": [],
   "source": [
    "def filter_tarta_opera(df):\n",
    "    opera = df[df['desc_normalized'].str.contains('opera')]\n",
    "    opera_tarta = opera[opera['desc_normalized'].str.contains('tarta')].copy()\n",
    "    return opera_tarta"
   ]
  },
  {
   "cell_type": "code",
   "execution_count": 57,
   "metadata": {},
   "outputs": [],
   "source": [
    "transactions_tarta_opera = filter_tarta_opera(df_with_normalized_descriptions_transactions)"
   ]
  },
  {
   "cell_type": "code",
   "execution_count": 58,
   "metadata": {},
   "outputs": [
    {
     "data": {
      "image/png": "[encoded data removed]",
      "text/plain": [
       "<Figure size 432x288 with 1 Axes>"
      ]
     },
     "metadata": {},
     "output_type": "display_data"
    }
   ],
   "source": [
    "plot_count_per_id(transactions_tarta_opera)"
   ]
  },
  {
   "cell_type": "code",
   "execution_count": 59,
   "metadata": {
    "scrolled": false
   },
   "outputs": [
    {
     "name": "stdout",
     "output_type": "stream",
     "text": [
      "***Plotting id: 9999.0 \n",
      "-\n",
      "encargo                       25745\n",
      "julian de verduras             8227\n",
      "julian de pimiento             8151\n",
      "brandada de bacalao            6080\n",
      "encargo julian de pimiento     5035\n",
      "Name: desc_normalized, dtype: int64\n",
      "\n",
      "***Plotting id: 414.0 \n",
      "-\n",
      "tarta mus tres chocolates 2    4807\n",
      "tarta milhojas frambuesa 2     4123\n",
      "tarta limon 3                  3420\n",
      "tarta milhojas 2               1824\n",
      "tarta tres chocolates 2        1805\n",
      "Name: desc_normalized, dtype: int64\n",
      "\n",
      "***Plotting id: 14998.0 \n",
      "-\n",
      "tartas especiales                                                            38\n",
      "tarta mousse de tres chocolates del 4                                        38\n",
      "tartas especiales de 10 de mickey de 12 la con el bizcocho de selva negra    38\n",
      "tarta saint honore del 4                                                     38\n",
      "tarta selva negra 5 con la hora de la caja de en                             19\n",
      "Name: desc_normalized, dtype: int64\n",
      "\n",
      "***Plotting id: 427.0 \n",
      "-\n",
      "opera 3                          34922\n",
      "opera 3 encargo                    114\n",
      "opera 3 felicidades nicolas         76\n",
      "opera 3 y escrito felicidades       57\n",
      "opera 4                             38\n",
      "Name: desc_normalized, dtype: int64\n",
      "\n",
      "***Plotting id: 428.0 \n",
      "-\n",
      "opera 2                                 111454\n",
      "opera 3                                    152\n",
      "opera 2 con cartel felicidades marta        38\n",
      "opera 2 1 de encargo                        38\n",
      "opera 2 felicidades eco                     38\n",
      "Name: desc_normalized, dtype: int64\n",
      "\n",
      "***Plotting id: 426.0 \n",
      "-\n",
      "opera 4                                                                 2033\n",
      "opera 5                                                                   38\n",
      "opera 4 encargo                                                           38\n",
      "opera del 6 decorada infantil y cartel felicidades                        19\n",
      "opera 4 escrito en la tarta y 19 a on tienda la mas guapade la fresa      19\n",
      "Name: desc_normalized, dtype: int64\n",
      "\n",
      "***Plotting id: 483.0 \n",
      "-\n",
      "tarta caja 2          3629\n",
      "postres con blanco    1995\n",
      "tarta con rosa 2        19\n",
      "tarta opera 3           19\n",
      "Name: desc_normalized, dtype: int64\n",
      "\n",
      "***Plotting id: 410.0 \n",
      "-\n",
      "selva negra 2                  135679\n",
      "tarta con rosa 2                  437\n",
      "selva negra 2 infantil            380\n",
      "tarta mus tres chocolates 2       171\n",
      "tarta milhojas 2                  171\n",
      "Name: desc_normalized, dtype: int64\n",
      "\n",
      "***Plotting id: 413.0 \n",
      "-\n",
      "tarta limon 2          119377\n",
      "tarta limon 3             912\n",
      "tarta limon 3 10rac       285\n",
      "tarta limon del 3         266\n",
      "tarta limon 3 10 la       209\n",
      "Name: desc_normalized, dtype: int64\n",
      "\n",
      "***Plotting id: 402.0 \n",
      "-\n",
      "san marcos 2               109535\n",
      "san marcos 2 de encargo        95\n",
      "san marcos 2 encargo           76\n",
      "san marcos felicidades         76\n",
      "san marcos 2 infantil          76\n",
      "Name: desc_normalized, dtype: int64\n",
      "\n",
      "***Plotting id: 450.0 \n",
      "-\n",
      "postres mousse tres chocolates      82403\n",
      "postres selva negra                  3116\n",
      "postres milhojas frambuesa           2926\n",
      "mini postres mus tres chocolates     2014\n",
      "postres milhojas                     1976\n",
      "Name: desc_normalized, dtype: int64\n",
      "\n",
      "***Plotting id: 403.0 \n",
      "-\n",
      "san marcos 3                            37202\n",
      "san marcos 3 infantil                      95\n",
      "san marcos 3 felicidades                   57\n",
      "san marcos 3 felix cumplea on monica       38\n",
      "san marcos 8 32rac                         38\n",
      "Name: desc_normalized, dtype: int64\n",
      "\n",
      "***Plotting id: 411.0 \n",
      "-\n",
      "selva negra 3                112499\n",
      "selva negra 3 infantil          209\n",
      "selva negra 3 de encargo        190\n",
      "selva negra 4                   190\n",
      "selva negra 3 felicidades        95\n",
      "Name: desc_normalized, dtype: int64\n",
      "\n"
     ]
    }
   ],
   "source": [
    "for i in transactions_tarta_opera['product_id'].unique():\n",
    "    to_print = df_with_normalized_descriptions_transactions[df_with_normalized_descriptions_transactions['product_id']==i]['desc_normalized'].value_counts().head()\n",
    "    print(\"***Plotting id: {} \".format(i))\n",
    "    print(\"-\")\n",
    "\n",
    "    print(to_print)\n",
    "    print(\"\")\n"
   ]
  },
  {
   "cell_type": "markdown",
   "metadata": {},
   "source": [
    "Again, all over the place, so we decided to use the description filter:"
   ]
  },
  {
   "cell_type": "code",
   "execution_count": 60,
   "metadata": {},
   "outputs": [
    {
     "data": {
      "text/html": [
       "<div>\n",
       "<style scoped>\n",
       "    .dataframe tbody tr th:only-of-type {\n",
       "        vertical-align: middle;\n",
       "    }\n",
       "\n",
       "    .dataframe tbody tr th {\n",
       "        vertical-align: top;\n",
       "    }\n",
       "\n",
       "    .dataframe thead th {\n",
       "        text-align: right;\n",
       "    }\n",
       "</style>\n",
       "<table border=\"1\" class=\"dataframe\">\n",
       "  <thead>\n",
       "    <tr style=\"text-align: right;\">\n",
       "      <th></th>\n",
       "      <th>product_id</th>\n",
       "      <th>desc_normalized</th>\n",
       "      <th>target_names_prod_by_prod</th>\n",
       "    </tr>\n",
       "  </thead>\n",
       "  <tbody>\n",
       "    <tr>\n",
       "      <th>11188</th>\n",
       "      <td>9999.0</td>\n",
       "      <td>tarta opera del 3</td>\n",
       "      <td>tarta opera</td>\n",
       "    </tr>\n",
       "    <tr>\n",
       "      <th>18868</th>\n",
       "      <td>9999.0</td>\n",
       "      <td>tarta opera del 4</td>\n",
       "      <td>tarta opera</td>\n",
       "    </tr>\n",
       "    <tr>\n",
       "      <th>114409</th>\n",
       "      <td>414.0</td>\n",
       "      <td>tarta opera 2</td>\n",
       "      <td>tarta opera</td>\n",
       "    </tr>\n",
       "    <tr>\n",
       "      <th>276927</th>\n",
       "      <td>9999.0</td>\n",
       "      <td>encargo tarta opera del 5</td>\n",
       "      <td>tarta opera</td>\n",
       "    </tr>\n",
       "    <tr>\n",
       "      <th>276928</th>\n",
       "      <td>9999.0</td>\n",
       "      <td>encargo tarta opera del 8</td>\n",
       "      <td>tarta opera</td>\n",
       "    </tr>\n",
       "  </tbody>\n",
       "</table>\n",
       "</div>"
      ],
      "text/plain": [
       "        product_id            desc_normalized target_names_prod_by_prod\n",
       "11188       9999.0          tarta opera del 3               tarta opera\n",
       "18868       9999.0          tarta opera del 4               tarta opera\n",
       "114409       414.0              tarta opera 2               tarta opera\n",
       "276927      9999.0  encargo tarta opera del 5               tarta opera\n",
       "276928      9999.0  encargo tarta opera del 8               tarta opera"
      ]
     },
     "execution_count": 60,
     "metadata": {},
     "output_type": "execute_result"
    }
   ],
   "source": [
    "tarta_opera = filter_tarta_opera(unique_normalized_decriptions)\n",
    "tarta_opera['target_names_prod_by_prod'] = 'tarta opera'\n",
    "\n",
    "list_of_dfs.append(tarta_opera)\n",
    "tarta_opera.head()"
   ]
  },
  {
   "cell_type": "code",
   "execution_count": null,
   "metadata": {},
   "outputs": [],
   "source": []
  },
  {
   "cell_type": "markdown",
   "metadata": {},
   "source": [
    "#### 2.3.9 Matching: postre de fresas y mascarpone"
   ]
  },
  {
   "cell_type": "code",
   "execution_count": 61,
   "metadata": {},
   "outputs": [],
   "source": [
    "def filter_postre_fresas_mascarpone (df):\n",
    "    postre = df[df['desc_normalized'].str.contains('postre')]\n",
    "    postre_fresa = postre[postre['desc_normalized'].str.contains('fresa')].copy()\n",
    "    postre_fresa = postre_fresa[~postre['desc_normalized'].str.contains('eclair')].copy() #Client indication\n",
    "    postre_fresa = postre_fresa[~postre['desc_normalized'].str.contains('tartaleta')].copy() #Client indication\n",
    "\n",
    "    postre_fresa_mascarpone = postre_fresa[postre_fresa['desc_normalized'].str.contains('mascarpone')].copy()\n",
    "    return postre_fresa_mascarpone"
   ]
  },
  {
   "cell_type": "code",
   "execution_count": 62,
   "metadata": {},
   "outputs": [
    {
     "name": "stderr",
     "output_type": "stream",
     "text": [
      "/home/mrnogues/anaconda3/lib/python3.6/site-packages/ipykernel_launcher.py:4: UserWarning: Boolean Series key will be reindexed to match DataFrame index.\n",
      "  after removing the cwd from sys.path.\n",
      "/home/mrnogues/anaconda3/lib/python3.6/site-packages/ipykernel_launcher.py:5: UserWarning: Boolean Series key will be reindexed to match DataFrame index.\n",
      "  \"\"\"\n"
     ]
    }
   ],
   "source": [
    "transactions_postre_fresas_mascarpone = filter_postre_fresas_mascarpone(df_with_normalized_descriptions_transactions)"
   ]
  },
  {
   "cell_type": "code",
   "execution_count": 63,
   "metadata": {},
   "outputs": [
    {
     "data": {
      "image/png": "[encoded data removed]",
      "text/plain": [
       "<Figure size 432x288 with 1 Axes>"
      ]
     },
     "metadata": {},
     "output_type": "display_data"
    }
   ],
   "source": [
    "plot_count_per_id(transactions_postre_fresas_mascarpone)"
   ]
  },
  {
   "cell_type": "code",
   "execution_count": 64,
   "metadata": {},
   "outputs": [
    {
     "name": "stdout",
     "output_type": "stream",
     "text": [
      "***Plotting id: 4511.0 \n",
      "-\n",
      "postres fresas y mascarpone                   71402\n",
      "postres tartaleta fresas y mascarpone           684\n",
      "postres fresas y mascarpone encargo line         38\n",
      "postres fresas y mascarpone encargo de           38\n",
      "postres fresas y mascarpone pedido on line       19\n",
      "Name: desc_normalized, dtype: int64\n",
      "\n",
      "***Plotting id: 9999.0 \n",
      "-\n",
      "encargo                       25745\n",
      "julian de verduras             8227\n",
      "julian de pimiento             8151\n",
      "brandada de bacalao            6080\n",
      "encargo julian de pimiento     5035\n",
      "Name: desc_normalized, dtype: int64\n",
      "\n",
      "***Plotting id: 450.0 \n",
      "-\n",
      "postres mousse tres chocolates      82403\n",
      "postres selva negra                  3116\n",
      "postres milhojas frambuesa           2926\n",
      "mini postres mus tres chocolates     2014\n",
      "postres milhojas                     1976\n",
      "Name: desc_normalized, dtype: int64\n",
      "\n",
      "***Plotting id: 45.0 \n",
      "-\n",
      "postres mousse tres chocolates    34865\n",
      "postres san marcos                  608\n",
      "postres selva negra                 361\n",
      "postres cheesecake                  323\n",
      "postres milhojas                    152\n",
      "Name: desc_normalized, dtype: int64\n",
      "\n"
     ]
    }
   ],
   "source": [
    "for i in transactions_postre_fresas_mascarpone['product_id'].unique():\n",
    "    to_print = df_with_normalized_descriptions_transactions[df_with_normalized_descriptions_transactions['product_id']==i]['desc_normalized'].value_counts().head()\n",
    "    print(\"***Plotting id: {} \".format(i))\n",
    "    print(\"-\")\n",
    "\n",
    "    print(to_print)\n",
    "    print(\"\")\n"
   ]
  },
  {
   "cell_type": "markdown",
   "metadata": {},
   "source": [
    "Seems that the filter is working :)"
   ]
  },
  {
   "cell_type": "code",
   "execution_count": 65,
   "metadata": {},
   "outputs": [
    {
     "name": "stderr",
     "output_type": "stream",
     "text": [
      "/home/mrnogues/anaconda3/lib/python3.6/site-packages/ipykernel_launcher.py:4: UserWarning: Boolean Series key will be reindexed to match DataFrame index.\n",
      "  after removing the cwd from sys.path.\n",
      "/home/mrnogues/anaconda3/lib/python3.6/site-packages/ipykernel_launcher.py:5: UserWarning: Boolean Series key will be reindexed to match DataFrame index.\n",
      "  \"\"\"\n"
     ]
    },
    {
     "data": {
      "text/html": [
       "<div>\n",
       "<style scoped>\n",
       "    .dataframe tbody tr th:only-of-type {\n",
       "        vertical-align: middle;\n",
       "    }\n",
       "\n",
       "    .dataframe tbody tr th {\n",
       "        vertical-align: top;\n",
       "    }\n",
       "\n",
       "    .dataframe thead th {\n",
       "        text-align: right;\n",
       "    }\n",
       "</style>\n",
       "<table border=\"1\" class=\"dataframe\">\n",
       "  <thead>\n",
       "    <tr style=\"text-align: right;\">\n",
       "      <th></th>\n",
       "      <th>product_id</th>\n",
       "      <th>desc_normalized</th>\n",
       "      <th>target_names_prod_by_prod</th>\n",
       "    </tr>\n",
       "  </thead>\n",
       "  <tbody>\n",
       "    <tr>\n",
       "      <th>37190</th>\n",
       "      <td>4511.0</td>\n",
       "      <td>postres fresas y mascarpone</td>\n",
       "      <td>postre de fresas y mascarpone</td>\n",
       "    </tr>\n",
       "    <tr>\n",
       "      <th>1492120</th>\n",
       "      <td>9999.0</td>\n",
       "      <td>encargo 1 postres de cada de breton milhojas l...</td>\n",
       "      <td>postre de fresas y mascarpone</td>\n",
       "    </tr>\n",
       "    <tr>\n",
       "      <th>3710627</th>\n",
       "      <td>9999.0</td>\n",
       "      <td>encargo postres de fresa y mascarpone</td>\n",
       "      <td>postre de fresas y mascarpone</td>\n",
       "    </tr>\n",
       "    <tr>\n",
       "      <th>6574446</th>\n",
       "      <td>9999.0</td>\n",
       "      <td>postres fresa y mascarpone</td>\n",
       "      <td>postre de fresas y mascarpone</td>\n",
       "    </tr>\n",
       "    <tr>\n",
       "      <th>8328632</th>\n",
       "      <td>9999.0</td>\n",
       "      <td>encargopostre fresa y mascarpone</td>\n",
       "      <td>postre de fresas y mascarpone</td>\n",
       "    </tr>\n",
       "  </tbody>\n",
       "</table>\n",
       "</div>"
      ],
      "text/plain": [
       "         product_id                                    desc_normalized  \\\n",
       "37190        4511.0                        postres fresas y mascarpone   \n",
       "1492120      9999.0  encargo 1 postres de cada de breton milhojas l...   \n",
       "3710627      9999.0              encargo postres de fresa y mascarpone   \n",
       "6574446      9999.0                         postres fresa y mascarpone   \n",
       "8328632      9999.0                   encargopostre fresa y mascarpone   \n",
       "\n",
       "             target_names_prod_by_prod  \n",
       "37190    postre de fresas y mascarpone  \n",
       "1492120  postre de fresas y mascarpone  \n",
       "3710627  postre de fresas y mascarpone  \n",
       "6574446  postre de fresas y mascarpone  \n",
       "8328632  postre de fresas y mascarpone  "
      ]
     },
     "execution_count": 65,
     "metadata": {},
     "output_type": "execute_result"
    }
   ],
   "source": [
    "postre_fresas_mascarpone = filter_postre_fresas_mascarpone(unique_normalized_decriptions)\n",
    "\n",
    "postre_fresas_mascarpone['target_names_prod_by_prod'] = 'postre de fresas y mascarpone'\n",
    "list_of_dfs.append(postre_fresas_mascarpone)\n",
    "postre_fresas_mascarpone.head()\n"
   ]
  },
  {
   "cell_type": "markdown",
   "metadata": {},
   "source": [
    "#### 2.3.9 Matching: tortel"
   ]
  },
  {
   "cell_type": "code",
   "execution_count": 66,
   "metadata": {},
   "outputs": [],
   "source": [
    "def filter_tortel (df):\n",
    "    tortel = df[df['desc_normalized'].str.contains('tortel')].copy()\n",
    "    tortel = tortel[~tortel['desc_normalized'].str.contains('tortellini|mini')].copy()\n",
    "\n",
    "    return tortel"
   ]
  },
  {
   "cell_type": "code",
   "execution_count": 67,
   "metadata": {},
   "outputs": [],
   "source": [
    "transactions_tortel = filter_tortel(df_with_normalized_descriptions_transactions)"
   ]
  },
  {
   "cell_type": "code",
   "execution_count": 68,
   "metadata": {},
   "outputs": [
    {
     "data": {
      "image/png": "[encoded data removed]",
      "text/plain": [
       "<Figure size 432x288 with 1 Axes>"
      ]
     },
     "metadata": {},
     "output_type": "display_data"
    }
   ],
   "source": [
    "plot_count_per_id(transactions_tortel)"
   ]
  },
  {
   "cell_type": "code",
   "execution_count": 69,
   "metadata": {},
   "outputs": [
    {
     "name": "stdout",
     "output_type": "stream",
     "text": [
      "***Plotting id: 112.0 \n",
      "-\n",
      "torteles                              82821\n",
      "baguet multicereales                    437\n",
      "ensaimadas piezas hacer a las 12 y      342\n",
      "focaccias                               228\n",
      "suizos piezas hacer las 12 y            209\n",
      "Name: desc_normalized, dtype: int64\n",
      "\n",
      "***Plotting id: 9999.0 \n",
      "-\n",
      "encargo                       25745\n",
      "julian de verduras             8227\n",
      "julian de pimiento             8151\n",
      "brandada de bacalao            6080\n",
      "encargo julian de pimiento     5035\n",
      "Name: desc_normalized, dtype: int64\n",
      "\n"
     ]
    }
   ],
   "source": [
    "for i in transactions_tortel['product_id'].unique():\n",
    "    to_print = df_with_normalized_descriptions_transactions[df_with_normalized_descriptions_transactions['product_id']==i]['desc_normalized'].value_counts().head()\n",
    "    print(\"***Plotting id: {} \".format(i))\n",
    "    print(\"-\")\n",
    "\n",
    "    print(to_print)\n",
    "    print(\"\")\n"
   ]
  },
  {
   "cell_type": "code",
   "execution_count": 70,
   "metadata": {},
   "outputs": [
    {
     "data": {
      "text/html": [
       "<div>\n",
       "<style scoped>\n",
       "    .dataframe tbody tr th:only-of-type {\n",
       "        vertical-align: middle;\n",
       "    }\n",
       "\n",
       "    .dataframe tbody tr th {\n",
       "        vertical-align: top;\n",
       "    }\n",
       "\n",
       "    .dataframe thead th {\n",
       "        text-align: right;\n",
       "    }\n",
       "</style>\n",
       "<table border=\"1\" class=\"dataframe\">\n",
       "  <thead>\n",
       "    <tr style=\"text-align: right;\">\n",
       "      <th></th>\n",
       "      <th>product_id</th>\n",
       "      <th>desc_normalized</th>\n",
       "      <th>target_names_prod_by_prod</th>\n",
       "    </tr>\n",
       "  </thead>\n",
       "  <tbody>\n",
       "    <tr>\n",
       "      <th>272</th>\n",
       "      <td>112.0</td>\n",
       "      <td>torteles</td>\n",
       "      <td>tortel</td>\n",
       "    </tr>\n",
       "    <tr>\n",
       "      <th>609768</th>\n",
       "      <td>9999.0</td>\n",
       "      <td>encargo380 torteles cocido para las tres</td>\n",
       "      <td>tortel</td>\n",
       "    </tr>\n",
       "    <tr>\n",
       "      <th>617650</th>\n",
       "      <td>112.0</td>\n",
       "      <td>torteles para cartel 4 50 10</td>\n",
       "      <td>tortel</td>\n",
       "    </tr>\n",
       "    <tr>\n",
       "      <th>617651</th>\n",
       "      <td>112.0</td>\n",
       "      <td>torteles para miercoles 50 50 10</td>\n",
       "      <td>tortel</td>\n",
       "    </tr>\n",
       "    <tr>\n",
       "      <th>617652</th>\n",
       "      <td>112.0</td>\n",
       "      <td>torteles para verdes 7 50 10</td>\n",
       "      <td>tortel</td>\n",
       "    </tr>\n",
       "  </tbody>\n",
       "</table>\n",
       "</div>"
      ],
      "text/plain": [
       "        product_id                           desc_normalized  \\\n",
       "272          112.0                                  torteles   \n",
       "609768      9999.0  encargo380 torteles cocido para las tres   \n",
       "617650       112.0              torteles para cartel 4 50 10   \n",
       "617651       112.0          torteles para miercoles 50 50 10   \n",
       "617652       112.0              torteles para verdes 7 50 10   \n",
       "\n",
       "       target_names_prod_by_prod  \n",
       "272                       tortel  \n",
       "609768                    tortel  \n",
       "617650                    tortel  \n",
       "617651                    tortel  \n",
       "617652                    tortel  "
      ]
     },
     "execution_count": 70,
     "metadata": {},
     "output_type": "execute_result"
    }
   ],
   "source": [
    "tortel = filter_tortel(unique_normalized_decriptions)\n",
    "\n",
    "tortel['target_names_prod_by_prod'] = 'tortel'\n",
    "list_of_dfs.append(tortel)\n",
    "tortel.head(5)"
   ]
  },
  {
   "cell_type": "markdown",
   "metadata": {},
   "source": [
    "#### 2.3.10 Matching: baguette"
   ]
  },
  {
   "cell_type": "code",
   "execution_count": 71,
   "metadata": {},
   "outputs": [],
   "source": [
    "def filter_baguette (df):\n",
    "    baguette = df[df['desc_normalized'].str.contains('baguette|baguete|baguet')].copy()\n",
    "    return baguette"
   ]
  },
  {
   "cell_type": "code",
   "execution_count": 72,
   "metadata": {},
   "outputs": [],
   "source": [
    "transaction_baguette = filter_baguette(df_with_normalized_descriptions_transactions)"
   ]
  },
  {
   "cell_type": "code",
   "execution_count": 73,
   "metadata": {},
   "outputs": [
    {
     "data": {
      "image/png": "[encoded data removed]",
      "text/plain": [
       "<Figure size 432x288 with 1 Axes>"
      ]
     },
     "metadata": {},
     "output_type": "display_data"
    }
   ],
   "source": [
    "plot_count_per_id(transaction_baguette)"
   ]
  },
  {
   "cell_type": "code",
   "execution_count": 74,
   "metadata": {},
   "outputs": [
    {
     "name": "stdout",
     "output_type": "stream",
     "text": [
      "***Plotting id: 115.0 \n",
      "-\n",
      "baguette mallorca                   47215\n",
      "baguett mallorca                    28177\n",
      "suizos piezas hacer a las 12 y         38\n",
      "petit en                               19\n",
      "ensaimadas piezas hacer las 12 y       19\n",
      "Name: desc_normalized, dtype: int64\n",
      "\n",
      "***Plotting id: 6016.0 \n",
      "-\n",
      "baguet piezas 5 hora          60306\n",
      "baguet 5 la ana                7942\n",
      "pan tostas tartas                19\n",
      "barritas integrales piezas       19\n",
      "tartas pan torrijas andes        19\n",
      "Name: desc_normalized, dtype: int64\n",
      "\n",
      "***Plotting id: 8739.0 \n",
      "-\n",
      "baguette mallorca integral    11552\n",
      "lorena integral                9348\n",
      "cold pan integral px             19\n",
      "Name: desc_normalized, dtype: int64\n",
      "\n",
      "***Plotting id: 103.0 \n",
      "-\n",
      "croissant petit                  94259\n",
      "mini napolitanas crema            1824\n",
      "mini napolitanas chocolate        1748\n",
      "croissant normal petit            1216\n",
      "croissant andes marcos piezas      380\n",
      "Name: desc_normalized, dtype: int64\n",
      "\n",
      "***Plotting id: 40001.0 \n",
      "-\n",
      "baguet    5149\n",
      "Name: desc_normalized, dtype: int64\n",
      "\n",
      "***Plotting id: 9999.0 \n",
      "-\n",
      "encargo                       25745\n",
      "julian de verduras             8227\n",
      "julian de pimiento             8151\n",
      "brandada de bacalao            6080\n",
      "encargo julian de pimiento     5035\n",
      "Name: desc_normalized, dtype: int64\n",
      "\n",
      "***Plotting id: 112.0 \n",
      "-\n",
      "torteles                              82821\n",
      "baguet multicereales                    437\n",
      "ensaimadas piezas hacer a las 12 y      342\n",
      "focaccias                               228\n",
      "suizos piezas hacer las 12 y            209\n",
      "Name: desc_normalized, dtype: int64\n",
      "\n",
      "***Plotting id: 113.0 \n",
      "-\n",
      "suizos                             82574\n",
      "suizos a las 10 hora                1425\n",
      "suizos a las 12 hora                 779\n",
      "suizos piezas                        114\n",
      "suizos piezas cocido 10 00 hora       76\n",
      "Name: desc_normalized, dtype: int64\n",
      "\n",
      "***Plotting id: 2999.0 \n",
      "-\n",
      "mini torteles cruda         513\n",
      "mini ensaimadas cruda       475\n",
      "mini ensaimadas en cruda    456\n",
      "especial pollo              418\n",
      "mini torteles en cruda      418\n",
      "Name: desc_normalized, dtype: int64\n",
      "\n",
      "***Plotting id: 101.0 \n",
      "-\n",
      "croissant                        72124\n",
      "croissant andes marcos piezas     8550\n",
      "suizos piezas hacer 10            4180\n",
      "ensaimadas piezas hacer 10        3477\n",
      "tiras de focaccias                2432\n",
      "Name: desc_normalized, dtype: int64\n",
      "\n",
      "***Plotting id: 102.0 \n",
      "-\n",
      "croissant francesa               86279\n",
      "croissant andes marcos piezas      703\n",
      "focaccias                          266\n",
      "chapatitas frio                    247\n",
      "mini hamburguesitas                190\n",
      "Name: desc_normalized, dtype: int64\n",
      "\n"
     ]
    }
   ],
   "source": [
    "for i in transaction_baguette['product_id'].unique():\n",
    "    to_print = df_with_normalized_descriptions_transactions[df_with_normalized_descriptions_transactions['product_id']==i]['desc_normalized'].value_counts().head()\n",
    "    print(\"***Plotting id: {} \".format(i))\n",
    "    print(\"-\")\n",
    "\n",
    "    print(to_print)\n",
    "    print(\"\")\n"
   ]
  },
  {
   "cell_type": "markdown",
   "metadata": {},
   "source": [
    "Per client indications we take id = 115.0 containing baguette"
   ]
  },
  {
   "cell_type": "code",
   "execution_count": 75,
   "metadata": {},
   "outputs": [
    {
     "data": {
      "text/html": [
       "<div>\n",
       "<style scoped>\n",
       "    .dataframe tbody tr th:only-of-type {\n",
       "        vertical-align: middle;\n",
       "    }\n",
       "\n",
       "    .dataframe tbody tr th {\n",
       "        vertical-align: top;\n",
       "    }\n",
       "\n",
       "    .dataframe thead th {\n",
       "        text-align: right;\n",
       "    }\n",
       "</style>\n",
       "<table border=\"1\" class=\"dataframe\">\n",
       "  <thead>\n",
       "    <tr style=\"text-align: right;\">\n",
       "      <th></th>\n",
       "      <th>product_id</th>\n",
       "      <th>desc_normalized</th>\n",
       "      <th>target_names_prod_by_prod</th>\n",
       "    </tr>\n",
       "  </thead>\n",
       "  <tbody>\n",
       "    <tr>\n",
       "      <th>274</th>\n",
       "      <td>115.0</td>\n",
       "      <td>baguett mallorca</td>\n",
       "      <td>baguette</td>\n",
       "    </tr>\n",
       "    <tr>\n",
       "      <th>43592</th>\n",
       "      <td>115.0</td>\n",
       "      <td>baguette mallorca</td>\n",
       "      <td>baguette</td>\n",
       "    </tr>\n",
       "    <tr>\n",
       "      <th>19757224</th>\n",
       "      <td>115.0</td>\n",
       "      <td>baguette mallorca sin la bolsa mallorca</td>\n",
       "      <td>baguette</td>\n",
       "    </tr>\n",
       "    <tr>\n",
       "      <th>20766325</th>\n",
       "      <td>115.0</td>\n",
       "      <td>baguette mallorcasin bolsa mallorca</td>\n",
       "      <td>baguette</td>\n",
       "    </tr>\n",
       "    <tr>\n",
       "      <th>22770998</th>\n",
       "      <td>115.0</td>\n",
       "      <td>baguette mallorca cocido</td>\n",
       "      <td>baguette</td>\n",
       "    </tr>\n",
       "  </tbody>\n",
       "</table>\n",
       "</div>"
      ],
      "text/plain": [
       "          product_id                          desc_normalized  \\\n",
       "274            115.0                         baguett mallorca   \n",
       "43592          115.0                        baguette mallorca   \n",
       "19757224       115.0  baguette mallorca sin la bolsa mallorca   \n",
       "20766325       115.0      baguette mallorcasin bolsa mallorca   \n",
       "22770998       115.0                 baguette mallorca cocido   \n",
       "\n",
       "         target_names_prod_by_prod  \n",
       "274                       baguette  \n",
       "43592                     baguette  \n",
       "19757224                  baguette  \n",
       "20766325                  baguette  \n",
       "22770998                  baguette  "
      ]
     },
     "execution_count": 75,
     "metadata": {},
     "output_type": "execute_result"
    }
   ],
   "source": [
    "baguette = unique_normalized_decriptions[unique_normalized_decriptions['product_id']==115.0].copy()\n",
    "baguette = baguette[baguette['desc_normalized'].str.contains('baguette|baguete|baguet')].copy()\n",
    "\n",
    "baguette['target_names_prod_by_prod'] = 'baguette'\n",
    "list_of_dfs.append(baguette)\n",
    "baguette.head(5)"
   ]
  },
  {
   "cell_type": "markdown",
   "metadata": {},
   "source": [
    "### Lets now concatenate results, merge them back to the  full list of normalized descriptions and evaluate its effectiveness"
   ]
  },
  {
   "cell_type": "code",
   "execution_count": 76,
   "metadata": {},
   "outputs": [],
   "source": [
    "# Lets concatenate the results:\n",
    "list_of_products_df = pd.concat(list_of_dfs, sort=False)"
   ]
  },
  {
   "cell_type": "code",
   "execution_count": 77,
   "metadata": {},
   "outputs": [],
   "source": [
    "df_desc_normalezed_vs_prod_by_prod = pd.merge(df_with_normalized_descriptions_transactions, list_of_products_df,how='left',on=['desc_normalized','product_id'])"
   ]
  },
  {
   "cell_type": "code",
   "execution_count": 78,
   "metadata": {},
   "outputs": [],
   "source": [
    "# Merging test:"
   ]
  },
  {
   "cell_type": "code",
   "execution_count": 79,
   "metadata": {},
   "outputs": [
    {
     "name": "stdout",
     "output_type": "stream",
     "text": [
      "OK - 'df_with_normalized_descriptions_transactions' has the same size as 'df_with_normalized_descriptions_transactions' \n"
     ]
    }
   ],
   "source": [
    "#Control merge size:\n",
    "if (df_with_normalized_descriptions_transactions.shape[0] == df_desc_normalezed_vs_prod_by_prod.shape[0] ): \n",
    "    test1 = \"OK - 'df_with_normalized_descriptions_transactions' has the same size as 'df_with_normalized_descriptions_transactions' \"\n",
    "else:\n",
    "    test1 = \"ERROR - 'df' has NOT the same size as 'df_desc_normalezed_vs_prod_by_prod' \"\n",
    "\n",
    "print(test1)"
   ]
  },
  {
   "cell_type": "markdown",
   "metadata": {},
   "source": [
    "*NOTE:*\n",
    "\n",
    "During the first executions of code with the full transactions file, this error was failing; 'df' had less rows than 'df_with_normalized_descriptions_transactions'. The reason for this was not easy to identify, however digging we found that that in the normalized description two products descriptions ware naming two different products in the description, however this was not the case for the raw description (before the spell-cheacker):\n",
    "\n",
    "for example:\n",
    "- Normalized prod description: 'tarta mousse 3 chocolates de 20 raciones con escrito sobre la tarta manzana y mini felicidades'\n",
    "- Raw description: 'TARTA MOUSSE 3 CHOCOLATES DE 20 RACIONES CON ESCRITO SOBRE LA TARTA:  MARIANA Y DANI FELICIDADES'\n",
    "\n",
    "Basically, the spell-corrector was solving some problems; normalizing 'trata' , 'taaarta' under 'tarta', but adding a new one: normalizing words that it doesnt know, that may be a correct word, to a word that it knows: 'MARIANA' to 'manzana'... Ofcourse this is a weakness, however from the manual inspections that were performed, it doesnt seem to happen often.\n",
    "\n",
    "How we solve it by adding to the bakery products dataset: \n",
    "- A list of the most common male and female spanish names: in order to avoid confusion in the names\n",
    "\n",
    "sources of the datasets:\n",
    "- spanish names:https://www.ine.es/dyngs/INEbase/es/operacion.htm?c=Estadistica_C&cid=1254736177009&menu=resultados&secc=1254736195454&idp=1254734710990\n",
    "\n",
    "\n",
    "Also, in this case we added some names that we found to the excel; the right thing to do should we had more time, would be to polish the dataset, by adding not just mallorca catalogue and names, but also a book in spanish. Perhaps, it would also be interesting to applying NLP to identify NAMES from the product descriptions and add them to the products dataset..."
   ]
  },
  {
   "cell_type": "markdown",
   "metadata": {},
   "source": [
    "### 2.5 Test that data has not been corrputed\n",
    "\n",
    "To test the integrity of the data, the original dataset should be the same as the last dataset without that we added, in other words, without the columns with the normalized descriptuons, and the target names:"
   ]
  },
  {
   "cell_type": "code",
   "execution_count": 80,
   "metadata": {},
   "outputs": [
    {
     "name": "stdout",
     "output_type": "stream",
     "text": [
      "Original dataset shape: (30550252, 6)\n",
      "Resulting dataset shape: (30550252, 8)\n"
     ]
    }
   ],
   "source": [
    "# First, lets check the size of both dataframes:\n",
    "print(\"Original dataset shape: {}\".format(df.shape))\n",
    "print(\"Resulting dataset shape: {}\".format(df_desc_normalezed_vs_prod_by_prod.shape))"
   ]
  },
  {
   "cell_type": "markdown",
   "metadata": {},
   "source": [
    "The shape looks good, we were expecting the resulting dataset to have to columns more. Lets now evauate if they are actually the same dataset if we remove the added columns:"
   ]
  },
  {
   "cell_type": "code",
   "execution_count": 81,
   "metadata": {},
   "outputs": [],
   "source": [
    "# Selecting original columnsd from the resulting df\n",
    "df_result = df_desc_normalezed_vs_prod_by_prod.loc[:, df.columns]"
   ]
  },
  {
   "cell_type": "code",
   "execution_count": 82,
   "metadata": {},
   "outputs": [],
   "source": [
    "# Now, lets compare it with the original dataset, sorting them out in the same way:\n",
    "df_result_sorted = df_result.sort_values(by = ['order_date','store','description','product_id', 'units_ordered']).reset_index().drop('index', axis = 1)\n",
    "df_original_sorted = df.sort_values(by = ['order_date','store','description',  'product_id', 'units_ordered']).reset_index().drop('index', axis = 1)"
   ]
  },
  {
   "cell_type": "code",
   "execution_count": 83,
   "metadata": {},
   "outputs": [
    {
     "data": {
      "text/html": [
       "<div>\n",
       "<style scoped>\n",
       "    .dataframe tbody tr th:only-of-type {\n",
       "        vertical-align: middle;\n",
       "    }\n",
       "\n",
       "    .dataframe tbody tr th {\n",
       "        vertical-align: top;\n",
       "    }\n",
       "\n",
       "    .dataframe thead th {\n",
       "        text-align: right;\n",
       "    }\n",
       "</style>\n",
       "<table border=\"1\" class=\"dataframe\">\n",
       "  <thead>\n",
       "    <tr style=\"text-align: right;\">\n",
       "      <th></th>\n",
       "      <th>product_id</th>\n",
       "      <th>description</th>\n",
       "      <th>order_date</th>\n",
       "      <th>section</th>\n",
       "      <th>store</th>\n",
       "      <th>units_ordered</th>\n",
       "    </tr>\n",
       "  </thead>\n",
       "  <tbody>\n",
       "    <tr>\n",
       "      <th>0</th>\n",
       "      <td>615.0</td>\n",
       "      <td>ALASKAS FRAMBUESA</td>\n",
       "      <td>1/1/2008 0:00:00</td>\n",
       "      <td>0</td>\n",
       "      <td>AaUP</td>\n",
       "      <td>2,00</td>\n",
       "    </tr>\n",
       "    <tr>\n",
       "      <th>1</th>\n",
       "      <td>172.0</td>\n",
       "      <td>1/2 PAN DE MOLDE ENVUELTO</td>\n",
       "      <td>1/1/2008 0:00:00</td>\n",
       "      <td>0</td>\n",
       "      <td>AaUP</td>\n",
       "      <td>0,00</td>\n",
       "    </tr>\n",
       "    <tr>\n",
       "      <th>2</th>\n",
       "      <td>9999.0</td>\n",
       "      <td>3 RACIONES DE ENSALADA DE CAPON</td>\n",
       "      <td>1/1/2008 0:00:00</td>\n",
       "      <td>0</td>\n",
       "      <td>AaUP</td>\n",
       "      <td>0,00</td>\n",
       "    </tr>\n",
       "    <tr>\n",
       "      <th>3</th>\n",
       "      <td>9999.0</td>\n",
       "      <td>3 RACIONES VERDURAS SALTEADAS</td>\n",
       "      <td>1/1/2008 0:00:00</td>\n",
       "      <td>0</td>\n",
       "      <td>AaUP</td>\n",
       "      <td>0,00</td>\n",
       "    </tr>\n",
       "    <tr>\n",
       "      <th>4</th>\n",
       "      <td>3252.0</td>\n",
       "      <td>ACETATO 11 POOL                          NUEVO</td>\n",
       "      <td>1/1/2008 0:00:00</td>\n",
       "      <td>0</td>\n",
       "      <td>AaUP</td>\n",
       "      <td>0,00</td>\n",
       "    </tr>\n",
       "  </tbody>\n",
       "</table>\n",
       "</div>"
      ],
      "text/plain": [
       "   product_id                                     description  \\\n",
       "0       615.0                               ALASKAS FRAMBUESA   \n",
       "1       172.0                       1/2 PAN DE MOLDE ENVUELTO   \n",
       "2      9999.0                 3 RACIONES DE ENSALADA DE CAPON   \n",
       "3      9999.0                   3 RACIONES VERDURAS SALTEADAS   \n",
       "4      3252.0  ACETATO 11 POOL                          NUEVO   \n",
       "\n",
       "         order_date  section store units_ordered  \n",
       "0  1/1/2008 0:00:00        0  AaUP          2,00  \n",
       "1  1/1/2008 0:00:00        0  AaUP          0,00  \n",
       "2  1/1/2008 0:00:00        0  AaUP          0,00  \n",
       "3  1/1/2008 0:00:00        0  AaUP          0,00  \n",
       "4  1/1/2008 0:00:00        0  AaUP          0,00  "
      ]
     },
     "execution_count": 83,
     "metadata": {},
     "output_type": "execute_result"
    }
   ],
   "source": [
    "df_result_sorted.head()"
   ]
  },
  {
   "cell_type": "code",
   "execution_count": 84,
   "metadata": {},
   "outputs": [
    {
     "data": {
      "text/html": [
       "<div>\n",
       "<style scoped>\n",
       "    .dataframe tbody tr th:only-of-type {\n",
       "        vertical-align: middle;\n",
       "    }\n",
       "\n",
       "    .dataframe tbody tr th {\n",
       "        vertical-align: top;\n",
       "    }\n",
       "\n",
       "    .dataframe thead th {\n",
       "        text-align: right;\n",
       "    }\n",
       "</style>\n",
       "<table border=\"1\" class=\"dataframe\">\n",
       "  <thead>\n",
       "    <tr style=\"text-align: right;\">\n",
       "      <th></th>\n",
       "      <th>product_id</th>\n",
       "      <th>description</th>\n",
       "      <th>order_date</th>\n",
       "      <th>section</th>\n",
       "      <th>store</th>\n",
       "      <th>units_ordered</th>\n",
       "    </tr>\n",
       "  </thead>\n",
       "  <tbody>\n",
       "    <tr>\n",
       "      <th>0</th>\n",
       "      <td>615.0</td>\n",
       "      <td>ALASKAS FRAMBUESA</td>\n",
       "      <td>1/1/2008 0:00:00</td>\n",
       "      <td>0</td>\n",
       "      <td>AaUP</td>\n",
       "      <td>2,00</td>\n",
       "    </tr>\n",
       "    <tr>\n",
       "      <th>1</th>\n",
       "      <td>172.0</td>\n",
       "      <td>1/2 PAN DE MOLDE ENVUELTO</td>\n",
       "      <td>1/1/2008 0:00:00</td>\n",
       "      <td>0</td>\n",
       "      <td>AaUP</td>\n",
       "      <td>0,00</td>\n",
       "    </tr>\n",
       "    <tr>\n",
       "      <th>2</th>\n",
       "      <td>9999.0</td>\n",
       "      <td>3 RACIONES DE ENSALADA DE CAPON</td>\n",
       "      <td>1/1/2008 0:00:00</td>\n",
       "      <td>0</td>\n",
       "      <td>AaUP</td>\n",
       "      <td>0,00</td>\n",
       "    </tr>\n",
       "    <tr>\n",
       "      <th>3</th>\n",
       "      <td>9999.0</td>\n",
       "      <td>3 RACIONES VERDURAS SALTEADAS</td>\n",
       "      <td>1/1/2008 0:00:00</td>\n",
       "      <td>0</td>\n",
       "      <td>AaUP</td>\n",
       "      <td>0,00</td>\n",
       "    </tr>\n",
       "    <tr>\n",
       "      <th>4</th>\n",
       "      <td>3252.0</td>\n",
       "      <td>ACETATO 11 POOL                          NUEVO</td>\n",
       "      <td>1/1/2008 0:00:00</td>\n",
       "      <td>0</td>\n",
       "      <td>AaUP</td>\n",
       "      <td>0,00</td>\n",
       "    </tr>\n",
       "  </tbody>\n",
       "</table>\n",
       "</div>"
      ],
      "text/plain": [
       "   product_id                                     description  \\\n",
       "0       615.0                               ALASKAS FRAMBUESA   \n",
       "1       172.0                       1/2 PAN DE MOLDE ENVUELTO   \n",
       "2      9999.0                 3 RACIONES DE ENSALADA DE CAPON   \n",
       "3      9999.0                   3 RACIONES VERDURAS SALTEADAS   \n",
       "4      3252.0  ACETATO 11 POOL                          NUEVO   \n",
       "\n",
       "         order_date  section store units_ordered  \n",
       "0  1/1/2008 0:00:00        0  AaUP          2,00  \n",
       "1  1/1/2008 0:00:00        0  AaUP          0,00  \n",
       "2  1/1/2008 0:00:00        0  AaUP          0,00  \n",
       "3  1/1/2008 0:00:00        0  AaUP          0,00  \n",
       "4  1/1/2008 0:00:00        0  AaUP          0,00  "
      ]
     },
     "execution_count": 84,
     "metadata": {},
     "output_type": "execute_result"
    }
   ],
   "source": [
    "df_original_sorted.head()"
   ]
  },
  {
   "cell_type": "code",
   "execution_count": 85,
   "metadata": {},
   "outputs": [
    {
     "name": "stdout",
     "output_type": "stream",
     "text": [
      "OK - The original dataset is the similar to the resulting dataset\n"
     ]
    }
   ],
   "source": [
    "# Now that they have the same columns, and are sorted using the same criteria, lets evaluate if they are the same:\n",
    "comparison_result = df_result_sorted.equals(df_original_sorted)\n",
    "\n",
    "if comparison_result == True:\n",
    "    test2 = 'OK - The original dataset is the similar to the resulting dataset'\n",
    "else:\n",
    "     test2 ='ERROR - The original dataset are NOT found'\n",
    "\n",
    "print(test2)"
   ]
  },
  {
   "cell_type": "markdown",
   "metadata": {},
   "source": [
    "### 2.6 Filter dataset to only include the products from the list provided by the client, and save to csv"
   ]
  },
  {
   "cell_type": "code",
   "execution_count": 86,
   "metadata": {},
   "outputs": [],
   "source": [
    "df_target_products = df_desc_normalezed_vs_prod_by_prod[~df_desc_normalezed_vs_prod_by_prod['target_names_prod_by_prod'].isnull()]\n",
    "df_other_products = df_desc_normalezed_vs_prod_by_prod[df_desc_normalezed_vs_prod_by_prod['target_names_prod_by_prod'].isnull()]"
   ]
  },
  {
   "cell_type": "code",
   "execution_count": 87,
   "metadata": {},
   "outputs": [
    {
     "data": {
      "text/html": [
       "<div>\n",
       "<style scoped>\n",
       "    .dataframe tbody tr th:only-of-type {\n",
       "        vertical-align: middle;\n",
       "    }\n",
       "\n",
       "    .dataframe tbody tr th {\n",
       "        vertical-align: top;\n",
       "    }\n",
       "\n",
       "    .dataframe thead th {\n",
       "        text-align: right;\n",
       "    }\n",
       "</style>\n",
       "<table border=\"1\" class=\"dataframe\">\n",
       "  <thead>\n",
       "    <tr style=\"text-align: right;\">\n",
       "      <th></th>\n",
       "      <th>product_id</th>\n",
       "      <th>description</th>\n",
       "      <th>order_date</th>\n",
       "      <th>section</th>\n",
       "      <th>store</th>\n",
       "      <th>units_ordered</th>\n",
       "      <th>desc_normalized</th>\n",
       "      <th>target_names_prod_by_prod</th>\n",
       "    </tr>\n",
       "  </thead>\n",
       "  <tbody>\n",
       "    <tr>\n",
       "      <th>216</th>\n",
       "      <td>100.0</td>\n",
       "      <td>CROISANTS</td>\n",
       "      <td>1/1/2008 0:00:00</td>\n",
       "      <td>0</td>\n",
       "      <td>VeUp</td>\n",
       "      <td>20,00</td>\n",
       "      <td>croissant</td>\n",
       "      <td>croissant simple</td>\n",
       "    </tr>\n",
       "    <tr>\n",
       "      <th>234</th>\n",
       "      <td>182.0</td>\n",
       "      <td>PALMERAS DE TRUFA</td>\n",
       "      <td>1/1/2008 0:00:00</td>\n",
       "      <td>0</td>\n",
       "      <td>VeUp</td>\n",
       "      <td>4,00</td>\n",
       "      <td>palmera de trufa</td>\n",
       "      <td>palmera chocolate</td>\n",
       "    </tr>\n",
       "    <tr>\n",
       "      <th>240</th>\n",
       "      <td>101.0</td>\n",
       "      <td>CROISSANT</td>\n",
       "      <td>1/1/2008 0:00:00</td>\n",
       "      <td>0</td>\n",
       "      <td>VeUp</td>\n",
       "      <td>0,00</td>\n",
       "      <td>croissant</td>\n",
       "      <td>croissant simple</td>\n",
       "    </tr>\n",
       "    <tr>\n",
       "      <th>242</th>\n",
       "      <td>103.0</td>\n",
       "      <td>CROISSANT PETIT</td>\n",
       "      <td>1/1/2008 0:00:00</td>\n",
       "      <td>0</td>\n",
       "      <td>VeUp</td>\n",
       "      <td>18,00</td>\n",
       "      <td>croissant petit</td>\n",
       "      <td>croissant petit</td>\n",
       "    </tr>\n",
       "    <tr>\n",
       "      <th>272</th>\n",
       "      <td>112.0</td>\n",
       "      <td>TORTELES</td>\n",
       "      <td>1/1/2008 0:00:00</td>\n",
       "      <td>0</td>\n",
       "      <td>VeUp</td>\n",
       "      <td>60,00</td>\n",
       "      <td>torteles</td>\n",
       "      <td>tortel</td>\n",
       "    </tr>\n",
       "  </tbody>\n",
       "</table>\n",
       "</div>"
      ],
      "text/plain": [
       "     product_id        description        order_date  section store  \\\n",
       "216       100.0          CROISANTS  1/1/2008 0:00:00        0  VeUp   \n",
       "234       182.0  PALMERAS DE TRUFA  1/1/2008 0:00:00        0  VeUp   \n",
       "240       101.0          CROISSANT  1/1/2008 0:00:00        0  VeUp   \n",
       "242       103.0    CROISSANT PETIT  1/1/2008 0:00:00        0  VeUp   \n",
       "272       112.0           TORTELES  1/1/2008 0:00:00        0  VeUp   \n",
       "\n",
       "    units_ordered   desc_normalized target_names_prod_by_prod  \n",
       "216         20,00         croissant          croissant simple  \n",
       "234          4,00  palmera de trufa         palmera chocolate  \n",
       "240          0,00         croissant          croissant simple  \n",
       "242         18,00   croissant petit           croissant petit  \n",
       "272         60,00          torteles                    tortel  "
      ]
     },
     "execution_count": 87,
     "metadata": {},
     "output_type": "execute_result"
    }
   ],
   "source": [
    "df_target_products_file_name = exit_path + 'filtered_transactions_not_clean.csv' \n",
    "df_target_products.to_csv(df_target_products_file_name, index = False, sep = ';' )\n",
    "df_target_products.head()"
   ]
  },
  {
   "cell_type": "code",
   "execution_count": 88,
   "metadata": {},
   "outputs": [
    {
     "data": {
      "text/html": [
       "<div>\n",
       "<style scoped>\n",
       "    .dataframe tbody tr th:only-of-type {\n",
       "        vertical-align: middle;\n",
       "    }\n",
       "\n",
       "    .dataframe tbody tr th {\n",
       "        vertical-align: top;\n",
       "    }\n",
       "\n",
       "    .dataframe thead th {\n",
       "        text-align: right;\n",
       "    }\n",
       "</style>\n",
       "<table border=\"1\" class=\"dataframe\">\n",
       "  <thead>\n",
       "    <tr style=\"text-align: right;\">\n",
       "      <th></th>\n",
       "      <th>product_id</th>\n",
       "      <th>description</th>\n",
       "      <th>order_date</th>\n",
       "      <th>section</th>\n",
       "      <th>store</th>\n",
       "      <th>units_ordered</th>\n",
       "      <th>desc_normalized</th>\n",
       "      <th>target_names_prod_by_prod</th>\n",
       "    </tr>\n",
       "  </thead>\n",
       "  <tbody>\n",
       "    <tr>\n",
       "      <th>0</th>\n",
       "      <td>9999.0</td>\n",
       "      <td>PECHUGAS AVE RELLENA DE HONGOS Y SETAS</td>\n",
       "      <td>1/1/2008 0:00:00</td>\n",
       "      <td>0</td>\n",
       "      <td>ViUP</td>\n",
       "      <td>0,00</td>\n",
       "      <td>pechuga de rellena de higos y setas</td>\n",
       "      <td>NaN</td>\n",
       "    </tr>\n",
       "    <tr>\n",
       "      <th>1</th>\n",
       "      <td>3268.0</td>\n",
       "      <td>SURTIDO NAVIDAD 1/4 KG</td>\n",
       "      <td>1/1/2008 0:00:00</td>\n",
       "      <td>0</td>\n",
       "      <td>VeUp</td>\n",
       "      <td>0,00</td>\n",
       "      <td>surtido novedad 1 4 g</td>\n",
       "      <td>NaN</td>\n",
       "    </tr>\n",
       "    <tr>\n",
       "      <th>2</th>\n",
       "      <td>3269.0</td>\n",
       "      <td>SURTIDO NAVIDAD DE 1/2 KG</td>\n",
       "      <td>1/1/2008 0:00:00</td>\n",
       "      <td>0</td>\n",
       "      <td>VeUp</td>\n",
       "      <td>0,00</td>\n",
       "      <td>surtido novedad de 1 2 g</td>\n",
       "      <td>NaN</td>\n",
       "    </tr>\n",
       "    <tr>\n",
       "      <th>3</th>\n",
       "      <td>3309.0</td>\n",
       "      <td>ROLLITOS DE SALMON  RELL. DE MUSELINA DE MARISCOS</td>\n",
       "      <td>1/1/2008 0:00:00</td>\n",
       "      <td>0</td>\n",
       "      <td>VeUp</td>\n",
       "      <td>0,00</td>\n",
       "      <td>rollito de salmon del de mouselina de marcos</td>\n",
       "      <td>NaN</td>\n",
       "    </tr>\n",
       "    <tr>\n",
       "      <th>4</th>\n",
       "      <td>3318.0</td>\n",
       "      <td>FONDOS DE ALCACHOFAS RELLENAS DE MARISCO</td>\n",
       "      <td>1/1/2008 0:00:00</td>\n",
       "      <td>0</td>\n",
       "      <td>VeUp</td>\n",
       "      <td>0,00</td>\n",
       "      <td>todos de alcachofas rellenos de mariano</td>\n",
       "      <td>NaN</td>\n",
       "    </tr>\n",
       "  </tbody>\n",
       "</table>\n",
       "</div>"
      ],
      "text/plain": [
       "   product_id                                        description  \\\n",
       "0      9999.0             PECHUGAS AVE RELLENA DE HONGOS Y SETAS   \n",
       "1      3268.0                             SURTIDO NAVIDAD 1/4 KG   \n",
       "2      3269.0                          SURTIDO NAVIDAD DE 1/2 KG   \n",
       "3      3309.0  ROLLITOS DE SALMON  RELL. DE MUSELINA DE MARISCOS   \n",
       "4      3318.0           FONDOS DE ALCACHOFAS RELLENAS DE MARISCO   \n",
       "\n",
       "         order_date  section store units_ordered  \\\n",
       "0  1/1/2008 0:00:00        0  ViUP          0,00   \n",
       "1  1/1/2008 0:00:00        0  VeUp          0,00   \n",
       "2  1/1/2008 0:00:00        0  VeUp          0,00   \n",
       "3  1/1/2008 0:00:00        0  VeUp          0,00   \n",
       "4  1/1/2008 0:00:00        0  VeUp          0,00   \n",
       "\n",
       "                                desc_normalized target_names_prod_by_prod  \n",
       "0           pechuga de rellena de higos y setas                       NaN  \n",
       "1                         surtido novedad 1 4 g                       NaN  \n",
       "2                      surtido novedad de 1 2 g                       NaN  \n",
       "3  rollito de salmon del de mouselina de marcos                       NaN  \n",
       "4       todos de alcachofas rellenos de mariano                       NaN  "
      ]
     },
     "execution_count": 88,
     "metadata": {},
     "output_type": "execute_result"
    }
   ],
   "source": [
    "unfiltered_products_file_name = exit_path + 'unfiltered_transactions.csv' \n",
    "df_other_products.to_csv(unfiltered_products_file_name, index = False, sep = ';' )\n",
    "df_other_products.head()"
   ]
  },
  {
   "cell_type": "markdown",
   "metadata": {},
   "source": [
    "# ERROR CONTROL"
   ]
  },
  {
   "cell_type": "code",
   "execution_count": 90,
   "metadata": {},
   "outputs": [
    {
     "name": "stdout",
     "output_type": "stream",
     "text": [
      "OK - 'df' has the same size as 'df_with_normalized_descriptions_transactions' \n",
      "OK - 'df_with_normalized_descriptions_transactions' has the same size as 'df_with_normalized_descriptions_transactions' \n",
      "OK - The original dataset is the similar to the resulting dataset\n"
     ]
    }
   ],
   "source": [
    "print(test0)\n",
    "print(test1)\n",
    "print(test2)"
   ]
  },
  {
   "cell_type": "markdown",
   "metadata": {},
   "source": [
    "FALTARIA LIMPIAR EL DATASET"
   ]
  }
 ],
 "metadata": {
  "kernelspec": {
   "display_name": "Python 3",
   "language": "python",
   "name": "python3"
  },
  "language_info": {
   "codemirror_mode": {
    "name": "ipython",
    "version": 3
   },
   "file_extension": ".py",
   "mimetype": "text/x-python",
   "name": "python",
   "nbconvert_exporter": "python",
   "pygments_lexer": "ipython3",
   "version": "3.6.5"
  }
 },
 "nbformat": 4,
 "nbformat_minor": 2
}
